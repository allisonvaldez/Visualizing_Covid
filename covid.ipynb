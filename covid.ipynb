{
 "cells": [
  {
   "cell_type": "markdown",
   "id": "a498ac24-cbb7-4506-99ec-344e4ce4ae08",
   "metadata": {},
   "source": [
    "# COVID-19 Analysis and Visualization\n",
    "## By Allison Valdez\n",
    "\n",
    "### Introduction:\n",
    "This project explores COVID-19 data from the World Health Organization (WHO), and visualizes it using Plotly Express in Python. We explore the data in more than a dozen bar charts, line graphs, bubble charts, scatter plots, word clouds, and natural earth projections. This was a personal endevour as I was interested in what the COVID data was as in its various forms--hoping this would depart knowledge for further analysis for research. I saught to provide insight, although it is 20/20 vision in hindsight, how COVID impacted countless people as it moved throughout the world. The data examines and compares amongst countries: case numbers, the causes of death, case fatality rate, recovery rates, testing rates, and death rates. In closing, it sharpened my skillset to summerize modeling, provide simulations, and thorough analysis. \n",
    "\n",
    "### Tools used in the project: \n",
    "- Pandas\n",
    "- Plotly\n",
    "- Matplotlib\n",
    "- Wordcloud\n",
    "- Choropleth\n",
    "- Jupyter Notebook\n",
    "\n",
    "### Requirements to Build the Project: \n",
    "- Knowledge of Python\n",
    "- Understanding of graphs and charts\n",
    "- Data visualization experience\n",
    "\n",
    "### Analysis: \n",
    "\n",
    "#### STEP 1: IMPORT DEPENDENCIES AND LIBRARIES\n",
    "We will start the project by importing the necessary libraries and dependencies:"
   ]
  },
  {
   "cell_type": "code",
   "execution_count": 28,
   "id": "6b95dfa2-4405-44db-80c7-eaae13accd5c",
   "metadata": {},
   "outputs": [
    {
     "data": {
      "text/html": [
       "        <script type=\"text/javascript\">\n",
       "        window.PlotlyConfig = {MathJaxConfig: 'local'};\n",
       "        if (window.MathJax && window.MathJax.Hub && window.MathJax.Hub.Config) {window.MathJax.Hub.Config({SVG: {font: \"STIX-Web\"}});}\n",
       "        if (typeof require !== 'undefined') {\n",
       "        require.undef(\"plotly\");\n",
       "        requirejs.config({\n",
       "            paths: {\n",
       "                'plotly': ['https://cdn.plot.ly/plotly-2.35.2.min']\n",
       "            }\n",
       "        });\n",
       "        require(['plotly'], function(Plotly) {\n",
       "            window._Plotly = Plotly;\n",
       "        });\n",
       "        }\n",
       "        </script>\n",
       "        "
      ]
     },
     "metadata": {},
     "output_type": "display_data"
    }
   ],
   "source": [
    "# Libraries for data analysis and manipulation\n",
    "import plotly.graph_objs as go\n",
    "import plotly.io as pio\n",
    "import plotly.express as px\n",
    "import pandas as pd\n",
    "\n",
    "# Libraries for data visualization\n",
    "import matplotlib\n",
    "import matplotlib.pyplot as plt\n",
    "\n",
    "# Import Plotly to create tables \n",
    "from plotly.figure_factory import create_table\n",
    "\n",
    "# Import Plotly's offline verision \n",
    "import plotly.offline as py\n",
    "py.init_notebook_mode(connected=True)"
   ]
  },
  {
   "cell_type": "code",
   "execution_count": 29,
   "id": "84036f14-e035-4c7a-aca8-60f624009cac",
   "metadata": {},
   "outputs": [],
   "source": [
    "# Initialize Plotly\n",
    "pio.renderers.default = 'iframe'"
   ]
  },
  {
   "cell_type": "markdown",
   "id": "dc669133-2cac-4407-aef8-5b32906d403d",
   "metadata": {},
   "source": [
    "#### STEP 2: READ IN THE DATA AND SAVE IT INTO DATAFRAMES FOR PREVIEWING\n",
    "We will read the data from our .csv files, and save them into dataframes called: dataset1, dataset2, and dataset3. For the reader's benefit, I listed the files utilized in this project and their contents:\n",
    "\n",
    "1. covid.csv: contains Country/Region, Continent, Population, TotalCases, NewCases, TotalDeaths, NewDeaths, TotalRecovered, NewRecovered, ActiveCases, Serious, Critical, Tot Cases/1M pop, Deaths/1M pop, TotalTests, Tests/1M pop, WHO Region, iso_alpha.\n",
    "   \n",
    "2. covid_grouped: contains data for dates from 01/22/2020 to 07/27/2020, Country/Region, Confirmed, Deaths, Recovered, Active, New cases, New deaths, New recovered, WHO Region, iso_alpha.\n",
    "   \n",
    "3. coviddeath: contains real-world examples of a number of COVID-19 deaths and the cause of death.\n",
    "\n",
    "Read in the data from the .csv file and preview it:"
   ]
  },
  {
   "cell_type": "code",
   "execution_count": 30,
   "id": "e82e6b56-037f-4f9b-ba43-f84aabc1953f",
   "metadata": {},
   "outputs": [
    {
     "data": {
      "text/html": [
       "<div>\n",
       "<style scoped>\n",
       "    .dataframe tbody tr th:only-of-type {\n",
       "        vertical-align: middle;\n",
       "    }\n",
       "\n",
       "    .dataframe tbody tr th {\n",
       "        vertical-align: top;\n",
       "    }\n",
       "\n",
       "    .dataframe thead th {\n",
       "        text-align: right;\n",
       "    }\n",
       "</style>\n",
       "<table border=\"1\" class=\"dataframe\">\n",
       "  <thead>\n",
       "    <tr style=\"text-align: right;\">\n",
       "      <th></th>\n",
       "      <th>Country/Region</th>\n",
       "      <th>Continent</th>\n",
       "      <th>Population</th>\n",
       "      <th>TotalCases</th>\n",
       "      <th>NewCases</th>\n",
       "      <th>TotalDeaths</th>\n",
       "      <th>NewDeaths</th>\n",
       "      <th>TotalRecovered</th>\n",
       "      <th>NewRecovered</th>\n",
       "      <th>ActiveCases</th>\n",
       "      <th>Serious,Critical</th>\n",
       "      <th>Tot Cases/1M pop</th>\n",
       "      <th>Deaths/1M pop</th>\n",
       "      <th>TotalTests</th>\n",
       "      <th>Tests/1M pop</th>\n",
       "      <th>WHO Region</th>\n",
       "      <th>iso_alpha</th>\n",
       "    </tr>\n",
       "  </thead>\n",
       "  <tbody>\n",
       "    <tr>\n",
       "      <th>0</th>\n",
       "      <td>USA</td>\n",
       "      <td>North America</td>\n",
       "      <td>3.311981e+08</td>\n",
       "      <td>5032179</td>\n",
       "      <td>NaN</td>\n",
       "      <td>162804.0</td>\n",
       "      <td>NaN</td>\n",
       "      <td>2576668.0</td>\n",
       "      <td>NaN</td>\n",
       "      <td>2292707.0</td>\n",
       "      <td>18296.0</td>\n",
       "      <td>15194.0</td>\n",
       "      <td>492.0</td>\n",
       "      <td>63139605.0</td>\n",
       "      <td>190640.0</td>\n",
       "      <td>Americas</td>\n",
       "      <td>USA</td>\n",
       "    </tr>\n",
       "    <tr>\n",
       "      <th>1</th>\n",
       "      <td>Brazil</td>\n",
       "      <td>South America</td>\n",
       "      <td>2.127107e+08</td>\n",
       "      <td>2917562</td>\n",
       "      <td>NaN</td>\n",
       "      <td>98644.0</td>\n",
       "      <td>NaN</td>\n",
       "      <td>2047660.0</td>\n",
       "      <td>NaN</td>\n",
       "      <td>771258.0</td>\n",
       "      <td>8318.0</td>\n",
       "      <td>13716.0</td>\n",
       "      <td>464.0</td>\n",
       "      <td>13206188.0</td>\n",
       "      <td>62085.0</td>\n",
       "      <td>Americas</td>\n",
       "      <td>BRA</td>\n",
       "    </tr>\n",
       "    <tr>\n",
       "      <th>2</th>\n",
       "      <td>India</td>\n",
       "      <td>Asia</td>\n",
       "      <td>1.381345e+09</td>\n",
       "      <td>2025409</td>\n",
       "      <td>NaN</td>\n",
       "      <td>41638.0</td>\n",
       "      <td>NaN</td>\n",
       "      <td>1377384.0</td>\n",
       "      <td>NaN</td>\n",
       "      <td>606387.0</td>\n",
       "      <td>8944.0</td>\n",
       "      <td>1466.0</td>\n",
       "      <td>30.0</td>\n",
       "      <td>22149351.0</td>\n",
       "      <td>16035.0</td>\n",
       "      <td>South-EastAsia</td>\n",
       "      <td>IND</td>\n",
       "    </tr>\n",
       "    <tr>\n",
       "      <th>3</th>\n",
       "      <td>Russia</td>\n",
       "      <td>Europe</td>\n",
       "      <td>1.459409e+08</td>\n",
       "      <td>871894</td>\n",
       "      <td>NaN</td>\n",
       "      <td>14606.0</td>\n",
       "      <td>NaN</td>\n",
       "      <td>676357.0</td>\n",
       "      <td>NaN</td>\n",
       "      <td>180931.0</td>\n",
       "      <td>2300.0</td>\n",
       "      <td>5974.0</td>\n",
       "      <td>100.0</td>\n",
       "      <td>29716907.0</td>\n",
       "      <td>203623.0</td>\n",
       "      <td>Europe</td>\n",
       "      <td>RUS</td>\n",
       "    </tr>\n",
       "    <tr>\n",
       "      <th>4</th>\n",
       "      <td>South Africa</td>\n",
       "      <td>Africa</td>\n",
       "      <td>5.938157e+07</td>\n",
       "      <td>538184</td>\n",
       "      <td>NaN</td>\n",
       "      <td>9604.0</td>\n",
       "      <td>NaN</td>\n",
       "      <td>387316.0</td>\n",
       "      <td>NaN</td>\n",
       "      <td>141264.0</td>\n",
       "      <td>539.0</td>\n",
       "      <td>9063.0</td>\n",
       "      <td>162.0</td>\n",
       "      <td>3149807.0</td>\n",
       "      <td>53044.0</td>\n",
       "      <td>Africa</td>\n",
       "      <td>ZAF</td>\n",
       "    </tr>\n",
       "  </tbody>\n",
       "</table>\n",
       "</div>"
      ],
      "text/plain": [
       "  Country/Region      Continent    Population  TotalCases  NewCases  \\\n",
       "0            USA  North America  3.311981e+08     5032179       NaN   \n",
       "1         Brazil  South America  2.127107e+08     2917562       NaN   \n",
       "2          India           Asia  1.381345e+09     2025409       NaN   \n",
       "3         Russia         Europe  1.459409e+08      871894       NaN   \n",
       "4   South Africa         Africa  5.938157e+07      538184       NaN   \n",
       "\n",
       "   TotalDeaths  NewDeaths  TotalRecovered  NewRecovered  ActiveCases  \\\n",
       "0     162804.0        NaN       2576668.0           NaN    2292707.0   \n",
       "1      98644.0        NaN       2047660.0           NaN     771258.0   \n",
       "2      41638.0        NaN       1377384.0           NaN     606387.0   \n",
       "3      14606.0        NaN        676357.0           NaN     180931.0   \n",
       "4       9604.0        NaN        387316.0           NaN     141264.0   \n",
       "\n",
       "   Serious,Critical  Tot Cases/1M pop  Deaths/1M pop  TotalTests  \\\n",
       "0           18296.0           15194.0          492.0  63139605.0   \n",
       "1            8318.0           13716.0          464.0  13206188.0   \n",
       "2            8944.0            1466.0           30.0  22149351.0   \n",
       "3            2300.0            5974.0          100.0  29716907.0   \n",
       "4             539.0            9063.0          162.0   3149807.0   \n",
       "\n",
       "   Tests/1M pop      WHO Region iso_alpha  \n",
       "0      190640.0        Americas       USA  \n",
       "1       62085.0        Americas       BRA  \n",
       "2       16035.0  South-EastAsia       IND  \n",
       "3      203623.0          Europe       RUS  \n",
       "4       53044.0          Africa       ZAF  "
      ]
     },
     "execution_count": 30,
     "metadata": {},
     "output_type": "execute_result"
    }
   ],
   "source": [
    "# Read the data \n",
    "dataset1 = pd.read_csv(\"./data/covid.csv\")\n",
    "dataset1.head()"
   ]
  },
  {
   "cell_type": "markdown",
   "id": "cd6b7f6d-6867-42b1-97e6-0f71f78c21ba",
   "metadata": {},
   "source": [
    "Return a tuple of the number of rows and columns for dataset1:"
   ]
  },
  {
   "cell_type": "code",
   "execution_count": 31,
   "id": "dba2dea3-06de-470b-8c46-c59872834894",
   "metadata": {},
   "outputs": [
    {
     "name": "stdout",
     "output_type": "stream",
     "text": [
      "(209, 17)\n"
     ]
    }
   ],
   "source": [
    "# Dataset1's tuple\n",
    "print(dataset1.shape)"
   ]
  },
  {
   "cell_type": "markdown",
   "id": "bbca9333-ae2d-441d-9d05-08adda93fb77",
   "metadata": {},
   "source": [
    "Over the next lines of code, we will return the size and column names of the dataframe for dataset1."
   ]
  },
  {
   "cell_type": "code",
   "execution_count": 32,
   "id": "1a54b41e-991e-4116-889b-ccaf1fd7630b",
   "metadata": {},
   "outputs": [
    {
     "name": "stdout",
     "output_type": "stream",
     "text": [
      "3553\n",
      "<class 'pandas.core.frame.DataFrame'>\n",
      "RangeIndex: 209 entries, 0 to 208\n",
      "Data columns (total 17 columns):\n",
      " #   Column            Non-Null Count  Dtype  \n",
      "---  ------            --------------  -----  \n",
      " 0   Country/Region    209 non-null    object \n",
      " 1   Continent         208 non-null    object \n",
      " 2   Population        208 non-null    float64\n",
      " 3   TotalCases        209 non-null    int64  \n",
      " 4   NewCases          4 non-null      float64\n",
      " 5   TotalDeaths       188 non-null    float64\n",
      " 6   NewDeaths         3 non-null      float64\n",
      " 7   TotalRecovered    205 non-null    float64\n",
      " 8   NewRecovered      3 non-null      float64\n",
      " 9   ActiveCases       205 non-null    float64\n",
      " 10  Serious,Critical  122 non-null    float64\n",
      " 11  Tot Cases/1M pop  208 non-null    float64\n",
      " 12  Deaths/1M pop     187 non-null    float64\n",
      " 13  TotalTests        191 non-null    float64\n",
      " 14  Tests/1M pop      191 non-null    float64\n",
      " 15  WHO Region        184 non-null    object \n",
      " 16  iso_alpha         209 non-null    object \n",
      "dtypes: float64(12), int64(1), object(4)\n",
      "memory usage: 27.9+ KB\n"
     ]
    }
   ],
   "source": [
    "# Return the size and column names\n",
    "print(dataset1.size)\n",
    "dataset1.info()"
   ]
  },
  {
   "cell_type": "markdown",
   "id": "bacefecd-a652-4e69-b970-6e5f7951fb71",
   "metadata": {},
   "source": [
    "Read in the next .csv file, save it, and preview it under a new dataframe: dataset2."
   ]
  },
  {
   "cell_type": "code",
   "execution_count": 33,
   "id": "1c73aad7-0a4e-4b2a-a841-5d6ce0248a7a",
   "metadata": {},
   "outputs": [
    {
     "data": {
      "text/html": [
       "<div>\n",
       "<style scoped>\n",
       "    .dataframe tbody tr th:only-of-type {\n",
       "        vertical-align: middle;\n",
       "    }\n",
       "\n",
       "    .dataframe tbody tr th {\n",
       "        vertical-align: top;\n",
       "    }\n",
       "\n",
       "    .dataframe thead th {\n",
       "        text-align: right;\n",
       "    }\n",
       "</style>\n",
       "<table border=\"1\" class=\"dataframe\">\n",
       "  <thead>\n",
       "    <tr style=\"text-align: right;\">\n",
       "      <th></th>\n",
       "      <th>Date</th>\n",
       "      <th>Country/Region</th>\n",
       "      <th>Confirmed</th>\n",
       "      <th>Deaths</th>\n",
       "      <th>Recovered</th>\n",
       "      <th>Active</th>\n",
       "      <th>New cases</th>\n",
       "      <th>New deaths</th>\n",
       "      <th>New recovered</th>\n",
       "      <th>WHO Region</th>\n",
       "      <th>iso_alpha</th>\n",
       "    </tr>\n",
       "  </thead>\n",
       "  <tbody>\n",
       "    <tr>\n",
       "      <th>0</th>\n",
       "      <td>2020-01-22</td>\n",
       "      <td>Afghanistan</td>\n",
       "      <td>0</td>\n",
       "      <td>0</td>\n",
       "      <td>0</td>\n",
       "      <td>0</td>\n",
       "      <td>0</td>\n",
       "      <td>0</td>\n",
       "      <td>0</td>\n",
       "      <td>Eastern Mediterranean</td>\n",
       "      <td>AFG</td>\n",
       "    </tr>\n",
       "    <tr>\n",
       "      <th>1</th>\n",
       "      <td>2020-01-22</td>\n",
       "      <td>Albania</td>\n",
       "      <td>0</td>\n",
       "      <td>0</td>\n",
       "      <td>0</td>\n",
       "      <td>0</td>\n",
       "      <td>0</td>\n",
       "      <td>0</td>\n",
       "      <td>0</td>\n",
       "      <td>Europe</td>\n",
       "      <td>ALB</td>\n",
       "    </tr>\n",
       "    <tr>\n",
       "      <th>2</th>\n",
       "      <td>2020-01-22</td>\n",
       "      <td>Algeria</td>\n",
       "      <td>0</td>\n",
       "      <td>0</td>\n",
       "      <td>0</td>\n",
       "      <td>0</td>\n",
       "      <td>0</td>\n",
       "      <td>0</td>\n",
       "      <td>0</td>\n",
       "      <td>Africa</td>\n",
       "      <td>DZA</td>\n",
       "    </tr>\n",
       "    <tr>\n",
       "      <th>3</th>\n",
       "      <td>2020-01-22</td>\n",
       "      <td>Andorra</td>\n",
       "      <td>0</td>\n",
       "      <td>0</td>\n",
       "      <td>0</td>\n",
       "      <td>0</td>\n",
       "      <td>0</td>\n",
       "      <td>0</td>\n",
       "      <td>0</td>\n",
       "      <td>Europe</td>\n",
       "      <td>AND</td>\n",
       "    </tr>\n",
       "    <tr>\n",
       "      <th>4</th>\n",
       "      <td>2020-01-22</td>\n",
       "      <td>Angola</td>\n",
       "      <td>0</td>\n",
       "      <td>0</td>\n",
       "      <td>0</td>\n",
       "      <td>0</td>\n",
       "      <td>0</td>\n",
       "      <td>0</td>\n",
       "      <td>0</td>\n",
       "      <td>Africa</td>\n",
       "      <td>AGO</td>\n",
       "    </tr>\n",
       "  </tbody>\n",
       "</table>\n",
       "</div>"
      ],
      "text/plain": [
       "         Date Country/Region  Confirmed  Deaths  Recovered  Active  New cases  \\\n",
       "0  2020-01-22    Afghanistan          0       0          0       0          0   \n",
       "1  2020-01-22        Albania          0       0          0       0          0   \n",
       "2  2020-01-22        Algeria          0       0          0       0          0   \n",
       "3  2020-01-22        Andorra          0       0          0       0          0   \n",
       "4  2020-01-22         Angola          0       0          0       0          0   \n",
       "\n",
       "   New deaths  New recovered             WHO Region iso_alpha  \n",
       "0           0              0  Eastern Mediterranean       AFG  \n",
       "1           0              0                 Europe       ALB  \n",
       "2           0              0                 Africa       DZA  \n",
       "3           0              0                 Europe       AND  \n",
       "4           0              0                 Africa       AGO  "
      ]
     },
     "execution_count": 33,
     "metadata": {},
     "output_type": "execute_result"
    }
   ],
   "source": [
    "# Read in the next file\n",
    "dataset2 = pd.read_csv(\"./data/covid_grouped.csv\")\n",
    "dataset2.head()"
   ]
  },
  {
   "cell_type": "markdown",
   "id": "0730cfc7-ddae-49b0-b93b-2448752cef9f",
   "metadata": {},
   "source": [
    "Similarily to dataset1, we will return the: tuple, size, and column names of the dataframe for dataset2:"
   ]
  },
  {
   "cell_type": "code",
   "execution_count": 34,
   "id": "41d65b65-ca04-432a-8b1b-3bb7fd1a1396",
   "metadata": {},
   "outputs": [
    {
     "name": "stdout",
     "output_type": "stream",
     "text": [
      "(35156, 11)\n",
      "386716\n",
      "<class 'pandas.core.frame.DataFrame'>\n",
      "RangeIndex: 35156 entries, 0 to 35155\n",
      "Data columns (total 11 columns):\n",
      " #   Column          Non-Null Count  Dtype \n",
      "---  ------          --------------  ----- \n",
      " 0   Date            35156 non-null  object\n",
      " 1   Country/Region  35156 non-null  object\n",
      " 2   Confirmed       35156 non-null  int64 \n",
      " 3   Deaths          35156 non-null  int64 \n",
      " 4   Recovered       35156 non-null  int64 \n",
      " 5   Active          35156 non-null  int64 \n",
      " 6   New cases       35156 non-null  int64 \n",
      " 7   New deaths      35156 non-null  int64 \n",
      " 8   New recovered   35156 non-null  int64 \n",
      " 9   WHO Region      35156 non-null  object\n",
      " 10  iso_alpha       35156 non-null  object\n",
      "dtypes: int64(7), object(4)\n",
      "memory usage: 3.0+ MB\n"
     ]
    }
   ],
   "source": [
    "print(dataset2.shape)\n",
    "print(dataset2.size)\n",
    "dataset2.info()"
   ]
  },
  {
   "cell_type": "markdown",
   "id": "86acfa7d-55a3-4159-8157-0ae93a273f94",
   "metadata": {},
   "source": [
    "#### STEP 3: CLEANING THE DATASET\n",
    "\n",
    "In this section we will clean our data. We will start with indexing the columns and droping unnessary data. We do not need the following columns from dataset1: NewCases, NewDeaths, NewRecovered. After dropping the unnessary data, we will preview the it to make sure we are capturing what we need:"
   ]
  },
  {
   "cell_type": "code",
   "execution_count": 35,
   "id": "7b17125d-dc65-48f8-b0e9-2c06e6cba4ee",
   "metadata": {},
   "outputs": [
    {
     "data": {
      "text/plain": [
       "Index(['Country/Region', 'Continent', 'Population', 'TotalCases', 'NewCases',\n",
       "       'TotalDeaths', 'NewDeaths', 'TotalRecovered', 'NewRecovered',\n",
       "       'ActiveCases', 'Serious,Critical', 'Tot Cases/1M pop', 'Deaths/1M pop',\n",
       "       'TotalTests', 'Tests/1M pop', 'WHO Region', 'iso_alpha'],\n",
       "      dtype='object')"
      ]
     },
     "execution_count": 35,
     "metadata": {},
     "output_type": "execute_result"
    }
   ],
   "source": [
    "dataset1.columns"
   ]
  },
  {
   "cell_type": "code",
   "execution_count": 36,
   "id": "11373839-5d7a-40be-b36e-7bd02aa7196d",
   "metadata": {},
   "outputs": [],
   "source": [
    "# Drop NewCases, NewDeaths, NewRecovered columns via the drop method \n",
    "dataset1.drop([\"NewCases\", \"NewDeaths\", \"NewRecovered\"], axis=1, inplace=True)"
   ]
  },
  {
   "cell_type": "markdown",
   "id": "26fbec0d-947e-4c74-b986-26e42987f4ea",
   "metadata": {},
   "source": [
    "Sample a random set of 5 values from the new dataset1:"
   ]
  },
  {
   "cell_type": "code",
   "execution_count": 37,
   "id": "26e23f28-db85-4b0d-8684-e7b0169b0969",
   "metadata": {},
   "outputs": [
    {
     "data": {
      "text/html": [
       "<div>\n",
       "<style scoped>\n",
       "    .dataframe tbody tr th:only-of-type {\n",
       "        vertical-align: middle;\n",
       "    }\n",
       "\n",
       "    .dataframe tbody tr th {\n",
       "        vertical-align: top;\n",
       "    }\n",
       "\n",
       "    .dataframe thead th {\n",
       "        text-align: right;\n",
       "    }\n",
       "</style>\n",
       "<table border=\"1\" class=\"dataframe\">\n",
       "  <thead>\n",
       "    <tr style=\"text-align: right;\">\n",
       "      <th></th>\n",
       "      <th>Country/Region</th>\n",
       "      <th>Continent</th>\n",
       "      <th>Population</th>\n",
       "      <th>TotalCases</th>\n",
       "      <th>TotalDeaths</th>\n",
       "      <th>TotalRecovered</th>\n",
       "      <th>ActiveCases</th>\n",
       "      <th>Serious,Critical</th>\n",
       "      <th>Tot Cases/1M pop</th>\n",
       "      <th>Deaths/1M pop</th>\n",
       "      <th>TotalTests</th>\n",
       "      <th>Tests/1M pop</th>\n",
       "      <th>WHO Region</th>\n",
       "      <th>iso_alpha</th>\n",
       "    </tr>\n",
       "  </thead>\n",
       "  <tbody>\n",
       "    <tr>\n",
       "      <th>36</th>\n",
       "      <td>Kuwait</td>\n",
       "      <td>Asia</td>\n",
       "      <td>4276658.0</td>\n",
       "      <td>70045</td>\n",
       "      <td>469.0</td>\n",
       "      <td>61610.0</td>\n",
       "      <td>7966.0</td>\n",
       "      <td>127.0</td>\n",
       "      <td>16378.0</td>\n",
       "      <td>110.0</td>\n",
       "      <td>522200.0</td>\n",
       "      <td>122105.0</td>\n",
       "      <td>EasternMediterranean</td>\n",
       "      <td>KWT</td>\n",
       "    </tr>\n",
       "    <tr>\n",
       "      <th>158</th>\n",
       "      <td>Réunion</td>\n",
       "      <td>Africa</td>\n",
       "      <td>895952.0</td>\n",
       "      <td>671</td>\n",
       "      <td>5.0</td>\n",
       "      <td>592.0</td>\n",
       "      <td>74.0</td>\n",
       "      <td>3.0</td>\n",
       "      <td>749.0</td>\n",
       "      <td>6.0</td>\n",
       "      <td>35419.0</td>\n",
       "      <td>39532.0</td>\n",
       "      <td>NaN</td>\n",
       "      <td>REU</td>\n",
       "    </tr>\n",
       "    <tr>\n",
       "      <th>21</th>\n",
       "      <td>Philippines</td>\n",
       "      <td>Asia</td>\n",
       "      <td>109722719.0</td>\n",
       "      <td>119460</td>\n",
       "      <td>2150.0</td>\n",
       "      <td>66837.0</td>\n",
       "      <td>50473.0</td>\n",
       "      <td>239.0</td>\n",
       "      <td>1089.0</td>\n",
       "      <td>20.0</td>\n",
       "      <td>1669996.0</td>\n",
       "      <td>15220.0</td>\n",
       "      <td>WesternPacific</td>\n",
       "      <td>PHL</td>\n",
       "    </tr>\n",
       "    <tr>\n",
       "      <th>27</th>\n",
       "      <td>Ecuador</td>\n",
       "      <td>South America</td>\n",
       "      <td>17668824.0</td>\n",
       "      <td>90537</td>\n",
       "      <td>5877.0</td>\n",
       "      <td>71318.0</td>\n",
       "      <td>13342.0</td>\n",
       "      <td>378.0</td>\n",
       "      <td>5124.0</td>\n",
       "      <td>333.0</td>\n",
       "      <td>258582.0</td>\n",
       "      <td>14635.0</td>\n",
       "      <td>Americas</td>\n",
       "      <td>ECU</td>\n",
       "    </tr>\n",
       "    <tr>\n",
       "      <th>33</th>\n",
       "      <td>Dominican Republic</td>\n",
       "      <td>North America</td>\n",
       "      <td>10858648.0</td>\n",
       "      <td>76536</td>\n",
       "      <td>1246.0</td>\n",
       "      <td>40539.0</td>\n",
       "      <td>34751.0</td>\n",
       "      <td>317.0</td>\n",
       "      <td>7048.0</td>\n",
       "      <td>115.0</td>\n",
       "      <td>281926.0</td>\n",
       "      <td>25963.0</td>\n",
       "      <td>Americas</td>\n",
       "      <td>DOM</td>\n",
       "    </tr>\n",
       "  </tbody>\n",
       "</table>\n",
       "</div>"
      ],
      "text/plain": [
       "         Country/Region      Continent   Population  TotalCases  TotalDeaths  \\\n",
       "36               Kuwait           Asia    4276658.0       70045        469.0   \n",
       "158             Réunion         Africa     895952.0         671          5.0   \n",
       "21          Philippines           Asia  109722719.0      119460       2150.0   \n",
       "27              Ecuador  South America   17668824.0       90537       5877.0   \n",
       "33   Dominican Republic  North America   10858648.0       76536       1246.0   \n",
       "\n",
       "     TotalRecovered  ActiveCases  Serious,Critical  Tot Cases/1M pop  \\\n",
       "36          61610.0       7966.0             127.0           16378.0   \n",
       "158           592.0         74.0               3.0             749.0   \n",
       "21          66837.0      50473.0             239.0            1089.0   \n",
       "27          71318.0      13342.0             378.0            5124.0   \n",
       "33          40539.0      34751.0             317.0            7048.0   \n",
       "\n",
       "     Deaths/1M pop  TotalTests  Tests/1M pop            WHO Region iso_alpha  \n",
       "36           110.0    522200.0      122105.0  EasternMediterranean       KWT  \n",
       "158            6.0     35419.0       39532.0                   NaN       REU  \n",
       "21            20.0   1669996.0       15220.0        WesternPacific       PHL  \n",
       "27           333.0    258582.0       14635.0              Americas       ECU  \n",
       "33           115.0    281926.0       25963.0              Americas       DOM  "
      ]
     },
     "execution_count": 37,
     "metadata": {},
     "output_type": "execute_result"
    }
   ],
   "source": [
    "# Sample\n",
    "dataset1.sample(5)"
   ]
  },
  {
   "cell_type": "markdown",
   "id": "b4e3b04f-6534-44e4-b52b-198baad8f81e",
   "metadata": {},
   "source": [
    "With our new data, we will create a table with Plotly Express to preview what the data for the first fifteen countries:"
   ]
  },
  {
   "cell_type": "code",
   "execution_count": 38,
   "id": "de2264e7-5101-4e37-bb49-8b1f9a23bb80",
   "metadata": {},
   "outputs": [
    {
     "data": {
      "text/html": [
       "<iframe\n",
       "    scrolling=\"no\"\n",
       "    width=\"100%\"\n",
       "    height=\"545px\"\n",
       "    src=\"iframe_figures/figure_38.html\"\n",
       "    frameborder=\"0\"\n",
       "    allowfullscreen\n",
       "></iframe>\n"
      ]
     },
     "metadata": {},
     "output_type": "display_data"
    }
   ],
   "source": [
    "# Use Plotly Express to a create table\n",
    "dataset1_table = go.Table(\n",
    "        header = dict(\n",
    "            values = list(dataset1[[\"Country/Region\", \"Continent\", \"Population\", \"TotalCases\", \"TotalTests\", \"TotalDeaths\", \"TotalRecovered\"]].head(15).columns)),\n",
    "        cells = dict(\n",
    "            values = [dataset1[col].head(15) for col in [\"Country/Region\", \"Continent\", \"Population\", \"TotalCases\", \"TotalTests\", \"TotalDeaths\", \"TotalRecovered\"]])\n",
    ")\n",
    "\n",
    "# Create the figure and pass the table trace as data\n",
    "dataset1_table_figure = go.Figure(data = [dataset1_table])\n",
    "\n",
    "# Update the layout and show the figure\n",
    "dataset1_table_figure.update_layout(title_text=\"Table 1: Top 15 Countries From Dataset1 (Covid.csv) \", title_x=0.5)\n",
    "dataset1_table_figure.show()"
   ]
  },
  {
   "cell_type": "markdown",
   "id": "e7eb469d-8587-4d2a-af11-5857e5c83c50",
   "metadata": {},
   "source": [
    "#### STEP 4: UTILIZING BAR GRAPHS TO COMPARE TOTAL CASES, TOTAL DEATHS, CASE FATALITY RATES, RECOVERY RATES, AND TESTING RATES BETWEEN COUNTRY/REGIONS (DATASET1)\n",
    "\n",
    "We utilize Bar Graphs to visually represent and compare data across categories over time. This makes identifying trends, patterns, and outliers easier. Bar graphs can analyze relationships between either columns themselves, or between columns and rows. If we performed the analysis only between the columns then our data compares numerical variables. Conversely, performing the analysis between columns and rows compares categorical variables. \n",
    "\n",
    "We begin this section with utilizing Plotly Express. We can see the graph's labels, and other relevant information, by hovering over the graph's bars. We will compare the number of cases, deaths, case fatality rates, recovery rates, and testing rates between the different countries. \n",
    "\n",
    "The first graph, Figure 1, visualizes each country's COVID cases with the color intensity representing the amount of cases. In other words, the height and color of each bar represents the intensity and number of COVID cases for each country:"
   ]
  },
  {
   "cell_type": "code",
   "execution_count": 39,
   "id": "b060c286-be63-4d46-a637-c45b937cc22a",
   "metadata": {},
   "outputs": [
    {
     "data": {
      "text/html": [
       "<iframe\n",
       "    scrolling=\"no\"\n",
       "    width=\"100%\"\n",
       "    height=\"545px\"\n",
       "    src=\"iframe_figures/figure_39.html\"\n",
       "    frameborder=\"0\"\n",
       "    allowfullscreen\n",
       "></iframe>\n"
      ]
     },
     "metadata": {},
     "output_type": "display_data"
    }
   ],
   "source": [
    "# Visualize the total amount of COVID cases with matching color intensity\n",
    "fig1 = px.bar(\n",
    "    dataset1,\n",
    "    x = \"Country/Region\",\n",
    "    y = \"TotalCases\",\n",
    "    color = \"TotalCases\",\n",
    "    title = \"Figure 1: Total COVID Cases By Country\",\n",
    "    log_y= True,\n",
    "    hover_data = [\"Country/Region\", \"TotalCases\"],\n",
    "    labels={\"Country/Region\": \"Country/Region\", \"TotalCases\": \"TotalCases\"}\n",
    ")\n",
    "\n",
    "fig1.show()"
   ]
  },
  {
   "cell_type": "markdown",
   "id": "f012055c-21f1-4687-8fd1-bc2e404cb9ad",
   "metadata": {},
   "source": [
    "The next graph visualizes a possible positive correlation between the number of cases and death outcomes. While the correlation is not explicit, a positive correlation potentially exists if countries with high death counts have high case amounts. Further study is needed to confirm the corelation.\n",
    "\n",
    "Lastly, it is important to note the difference between the numerical intensity of deaths and a country's fatality rate. We will highlight the differences between the two below:"
   ]
  },
  {
   "cell_type": "code",
   "execution_count": 40,
   "id": "8b457757-83ad-4802-a622-7410d0be50a7",
   "metadata": {
    "scrolled": true
   },
   "outputs": [
    {
     "data": {
      "text/html": [
       "<iframe\n",
       "    scrolling=\"no\"\n",
       "    width=\"100%\"\n",
       "    height=\"545px\"\n",
       "    src=\"iframe_figures/figure_40.html\"\n",
       "    frameborder=\"0\"\n",
       "    allowfullscreen\n",
       "></iframe>\n"
      ]
     },
     "metadata": {},
     "output_type": "display_data"
    }
   ],
   "source": [
    "# For each country's cases visualize the intensity of the number of deaths\n",
    "fig2 = px.bar(\n",
    "    dataset1,\n",
    "    x = \"Country/Region\",\n",
    "    y = \"TotalCases\", \n",
    "    color = \"TotalDeaths\",\n",
    "    title = \"Figure 2: Cases Highlighting Death Intensity By Color and Country\",\n",
    "    log_y = True,\n",
    "    hover_data = [\"Country/Region\", \"TotalCases\", \"TotalDeaths\"],\n",
    "    labels={\"Country/Region\": \"Country/Region\", \"TotalCases\": \"TotalCases\", \"TotalDeaths\": \"TotalDeaths\" }\n",
    ")\n",
    "\n",
    "fig2.show()"
   ]
  },
  {
   "cell_type": "markdown",
   "id": "9e12b2ee-f238-4ace-8e24-c6203e1013a1",
   "metadata": {},
   "source": [
    "The next graph plots the global death count highlighting its intensity for each country:"
   ]
  },
  {
   "cell_type": "code",
   "execution_count": 41,
   "id": "58fe1535-3cb7-451d-9d03-9ea09177f6f3",
   "metadata": {},
   "outputs": [
    {
     "data": {
      "text/html": [
       "<iframe\n",
       "    scrolling=\"no\"\n",
       "    width=\"100%\"\n",
       "    height=\"545px\"\n",
       "    src=\"iframe_figures/figure_41.html\"\n",
       "    frameborder=\"0\"\n",
       "    allowfullscreen\n",
       "></iframe>\n"
      ]
     },
     "metadata": {},
     "output_type": "display_data"
    }
   ],
   "source": [
    "# Each countrys' number of deaths color coding the intensity\n",
    "fig3 = px.bar(\n",
    "    dataset1,\n",
    "    x = \"Country/Region\",\n",
    "    y = \"TotalDeaths\", \n",
    "    title = \"Figure 3: Global Death Count Highlighting Death Intensity By Country\",\n",
    "    color = \"TotalDeaths\", \n",
    "    log_y = True,\n",
    "    hover_data = [\"Country/Region\", \"TotalDeaths\"],\n",
    "    labels={\"Country/Region\": \"Country/Region\", \"TotalDeaths\": \"TotalDeaths\"}\n",
    ")\n",
    "\n",
    "fig3.show()"
   ]
  },
  {
   "cell_type": "markdown",
   "id": "c7d78439-9a38-4174-ad33-85a82c68bc13",
   "metadata": {},
   "source": [
    "Next we will calculate the Case Fatality Rate (CFR). Globally, the rate represents the percentage of diagnosed cases that resulted in death. This is not the same as the Death Rate which measures the number of deaths per population size. The CFR is used in epidemiology to understand the severity of a particular disease in a population. To calculate the CFR, you divide the deaths within a population by the number of cases and multiply by 100. CFR is often used as an indicator of fatality for patients of a particular disease.\n",
    "\n",
    "This part of the section will highlight the difference between the case fatality rate, death rate, and the intensity of the number of deaths. For the readers benefit the CFR table is sorted in descending order--from the highest to lowest:"
   ]
  },
  {
   "cell_type": "code",
   "execution_count": 43,
   "id": "d1f4c982-513a-4f8d-8cd3-686c77e40d75",
   "metadata": {},
   "outputs": [
    {
     "data": {
      "text/html": [
       "<iframe\n",
       "    scrolling=\"no\"\n",
       "    width=\"100%\"\n",
       "    height=\"545px\"\n",
       "    src=\"iframe_figures/figure_43.html\"\n",
       "    frameborder=\"0\"\n",
       "    allowfullscreen\n",
       "></iframe>\n"
      ]
     },
     "metadata": {},
     "output_type": "display_data"
    }
   ],
   "source": [
    "# Create a new column in the dataset for the CFR\n",
    "dataset1[\"CFR\"] = (dataset1[\"TotalDeaths\"] / dataset1[\"TotalCases\"]) * 100\n",
    "\n",
    "# Sort the data so that our hypothesis is easier to prove\n",
    "new_df_dataset1_cfr = pd.DataFrame(dataset1)\n",
    "sorted_new_df_dataset1_cfr = new_df_dataset1_cfr.sort_values(by = \"CFR\", ascending = False)\n",
    "\n",
    "# Create the table with the sorted death rate  \n",
    "CFR_table = go.Table(\n",
    "    header = dict(\n",
    "        values = [\"Country/Region\", \"CFR\", \"TotalDeaths\", \"TotalCases\"]),\n",
    "    cells = dict(\n",
    "        values = [\n",
    "            sorted_new_df_dataset1_cfr[\"Country/Region\"],\n",
    "            sorted_new_df_dataset1_cfr[\"CFR\"],\n",
    "            sorted_new_df_dataset1_cfr[\"TotalDeaths\"],\n",
    "            sorted_new_df_dataset1_cfr[\"TotalCases\"]\n",
    "        ]\n",
    "    )\n",
    ")\n",
    "\n",
    "# Create the figure and pass the table trace as data\n",
    "sorted_CFR_figure = go.Figure(data = [CFR_table])\n",
    "\n",
    "# Update the layout and show the figure\n",
    "sorted_CFR_figure.update_layout(title=\"Table 2: Countries Sorted by COVID-19 CFR\")\n",
    "sorted_CFR_figure.show()"
   ]
  },
  {
   "cell_type": "markdown",
   "id": "a2e7ea10-5eab-457f-979b-3a134b07f4da",
   "metadata": {},
   "source": [
    "Now that we calculated the CFR for each country, lets put in a table the death count data for the same:"
   ]
  },
  {
   "cell_type": "code",
   "execution_count": 44,
   "id": "6b617290-6a44-4f52-832b-3eed195df549",
   "metadata": {},
   "outputs": [
    {
     "data": {
      "text/html": [
       "<iframe\n",
       "    scrolling=\"no\"\n",
       "    width=\"100%\"\n",
       "    height=\"545px\"\n",
       "    src=\"iframe_figures/figure_44.html\"\n",
       "    frameborder=\"0\"\n",
       "    allowfullscreen\n",
       "></iframe>\n"
      ]
     },
     "metadata": {},
     "output_type": "display_data"
    }
   ],
   "source": [
    "# Sort the data for the number of deaths for each country\n",
    "new_df_dataset1_td = pd.DataFrame(dataset1)\n",
    "sort_total_deaths = new_df_dataset1_td[[\"Country/Region\", \"TotalDeaths\", \"TotalCases\"]].sort_values(by = \"TotalDeaths\", ascending = False)\n",
    "\n",
    "# Create a table with the new sorted number of deaths \n",
    "totaldeaths_table = go.Table(\n",
    "        header = dict(\n",
    "            values = [\"Country/Region\", \"TotalDeaths\", \"TotalCases\"]),\n",
    "        cells = dict(\n",
    "            values=[\n",
    "                sort_total_deaths[\"Country/Region\"],\n",
    "                sort_total_deaths[\"TotalDeaths\"],\n",
    "                sort_total_deaths[\"TotalCases\"]]   \n",
    "        )\n",
    ")\n",
    "\n",
    "# Create the figure and pass the table trace as data \n",
    "totaldeaths_table_figure = go.Figure(data = [totaldeaths_table])\n",
    "\n",
    "# Update the layout and show the figure\n",
    "totaldeaths_table_figure.update_layout(title=\"Table 3: Countries Sorted By Number of Deaths from COVID 19\")\n",
    "totaldeaths_table_figure.show()"
   ]
  },
  {
   "cell_type": "markdown",
   "id": "e6e9029c-9a49-4b89-8ac2-d622d26dffd9",
   "metadata": {},
   "source": [
    "We see that although the USA has the highest number of deaths--it does not have the highest case fatality rate. Yemen is the country with the highest CFR at 28.73% with 508 people dying out of 1768 cases. We graphically depict the CFR below to illustrate this point. As you can see Yemen is the only yellow colored bar, with the highest CFR:"
   ]
  },
  {
   "cell_type": "code",
   "execution_count": 45,
   "id": "0aed4129-3e01-48e3-8568-0aad7b980d74",
   "metadata": {},
   "outputs": [
    {
     "data": {
      "text/html": [
       "<iframe\n",
       "    scrolling=\"no\"\n",
       "    width=\"100%\"\n",
       "    height=\"520\"\n",
       "    src=\"iframe_figures/figure_45.html\"\n",
       "    frameborder=\"0\"\n",
       "    allowfullscreen\n",
       "></iframe>\n"
      ]
     },
     "metadata": {},
     "output_type": "display_data"
    }
   ],
   "source": [
    "# Plot each country's CFR with its respective color intensity\n",
    "fig4 = px.bar(\n",
    "    dataset1,\n",
    "    x = \"Country/Region\",\n",
    "    y = \"CFR\", \n",
    "    title = \"Figure 4: Global CFR Highlighting CFR's Intensity by Country\",\n",
    "    color = \"CFR\", \n",
    "    height = 500, \n",
    "    log_y = True,\n",
    "    hover_data = [\"Country/Region\", \"CFR\", \"TotalDeaths\", \"TotalCases\"],\n",
    "    labels={\"Country/Region\": \"Country/Region\", \"CFR\": \"CFR\", \"TotalDeaths\":\"TotalDeaths\", \"TotalCases\":\"TotalCases\"}\n",
    ")\n",
    "\n",
    "fig4.show()"
   ]
  },
  {
   "cell_type": "markdown",
   "id": "506e78cb-30cc-447d-abcb-713820728b02",
   "metadata": {},
   "source": [
    "Next we will analyze each country's overall recovery rate from COVID. For the reader's benefit, we will repeat some of the steps above but as a last step we will verify our calculations via a bar graph.\n",
    "\n",
    "It is interesting to note, that although Yemen had the highest CFR Botswana had the worst recovery rate of 7.8%--Yemen's was atleast 50%."
   ]
  },
  {
   "cell_type": "code",
   "execution_count": 46,
   "id": "19bf60cf-0182-4316-8384-9c8db7d8ed7a",
   "metadata": {},
   "outputs": [
    {
     "data": {
      "text/html": [
       "<iframe\n",
       "    scrolling=\"no\"\n",
       "    width=\"100%\"\n",
       "    height=\"545px\"\n",
       "    src=\"iframe_figures/figure_46.html\"\n",
       "    frameborder=\"0\"\n",
       "    allowfullscreen\n",
       "></iframe>\n"
      ]
     },
     "metadata": {},
     "output_type": "display_data"
    }
   ],
   "source": [
    "# Create a new column in the dataset for the overall recovery rate of each country\n",
    "dataset1[\"RecoveryRate\"] = (dataset1[\"TotalRecovered\"] / dataset1[\"TotalCases\"]) * 100\n",
    "\n",
    "# Sort the data\n",
    "new_df_dataset1_recover = pd.DataFrame(dataset1)\n",
    "sorted_new_df_dataset1_recover = new_df_dataset1_recover.sort_values(by = \"RecoveryRate\", ascending = True)\n",
    "\n",
    "# Create the table with the sorted recovery rate  \n",
    "recoveryrate_table = go.Table(\n",
    "    header = dict(\n",
    "        values = [\"Country/Region\", \"RecoveryRate\", \"TotalRecovered\", \"TotalCases\", \"TotalDeaths\"]),\n",
    "    cells = dict(\n",
    "        values = [\n",
    "            sorted_new_df_dataset1_recover[\"Country/Region\"],\n",
    "            sorted_new_df_dataset1_recover[\"RecoveryRate\"],\n",
    "            sorted_new_df_dataset1_recover[\"TotalRecovered\"],\n",
    "            sorted_new_df_dataset1_recover[\"TotalCases\"],\n",
    "            sorted_new_df_dataset1_recover[\"TotalDeaths\"]\n",
    "            \n",
    "        ]\n",
    "    )\n",
    ")\n",
    "\n",
    "# Create the figure and pass the table trace as data\n",
    "sorted_recoveryrate_figure = go.Figure(data = [recoveryrate_table])\n",
    "\n",
    "# Update the layout and show the figure\n",
    "sorted_recoveryrate_figure.update_layout(title=\"Table 4: Countries Sorted by COVID-19 Recovery Rate\")\n",
    "sorted_recoveryrate_figure.show()"
   ]
  },
  {
   "cell_type": "code",
   "execution_count": 47,
   "id": "aff26c16-eb4e-4e3e-9d1c-eb45e1eedd61",
   "metadata": {},
   "outputs": [
    {
     "data": {
      "text/html": [
       "<iframe\n",
       "    scrolling=\"no\"\n",
       "    width=\"100%\"\n",
       "    height=\"545px\"\n",
       "    src=\"iframe_figures/figure_47.html\"\n",
       "    frameborder=\"0\"\n",
       "    allowfullscreen\n",
       "></iframe>\n"
      ]
     },
     "metadata": {},
     "output_type": "display_data"
    }
   ],
   "source": [
    "# Visualize recovery rate for Bar Graph comparision \n",
    "fig5 = px.bar(\n",
    "    dataset1,\n",
    "    x = \"Country/Region\",\n",
    "    y = \"RecoveryRate\", \n",
    "    title = \"Figure 5: Global Recovery Rate Highlighting Recovery Rate's Intensity By Country\",\n",
    "    color = \"RecoveryRate\", \n",
    "    log_y = True,\n",
    "    hover_data = [\"Country/Region\", \"RecoveryRate\", \"TotalRecovered\", \"TotalDeaths\", \"TotalCases\"],\n",
    "    labels={\"Country/Region\": \"Country/Region\", \"RecoveryRate\": \"RecoveryRate\", \"TotalRecovered\":\"TotalRecovered\", \"TotalDeaths\":\"TotalDeaths\", \"TotalCases\":\"TotalCases\"}\n",
    ")\n",
    "\n",
    "fig5.show()"
   ]
  },
  {
   "cell_type": "markdown",
   "id": "2da35de4-3dae-47c2-888d-b56e7a60001e",
   "metadata": {},
   "source": [
    "We see consistently that Botswana has the lowest recovery rate of 7.8% as it has the smallest darkest bar.\n",
    "\n",
    "We will continue to study COVID's global recovery, this graph dispicts the color intensity of recovery for each country:"
   ]
  },
  {
   "cell_type": "code",
   "execution_count": 48,
   "id": "ff15ddc8-2579-4453-a611-09f1f8930a19",
   "metadata": {},
   "outputs": [
    {
     "data": {
      "text/html": [
       "<iframe\n",
       "    scrolling=\"no\"\n",
       "    width=\"100%\"\n",
       "    height=\"545px\"\n",
       "    src=\"iframe_figures/figure_48.html\"\n",
       "    frameborder=\"0\"\n",
       "    allowfullscreen\n",
       "></iframe>\n"
      ]
     },
     "metadata": {},
     "output_type": "display_data"
    }
   ],
   "source": [
    "# Global recovered cases\n",
    "fig6 = px.bar(\n",
    "    dataset1,\n",
    "    x = \"Country/Region\",\n",
    "    y = \"TotalCases\", \n",
    "    title = \"Figure 6: Total Cases Highlighting Recovery Intensity By Country\",\n",
    "    color = \"TotalRecovered\", \n",
    "    log_y = True,\n",
    "    hover_data = [\"Country/Region\", \"TotalRecovered\", \"TotalCases\"],\n",
    "    labels={\"Country/Region\": \"Country/Region\", \"TotalRecovered\": \"TotalRecovered\", \"TotalCases\": \"TotalCases\"}\n",
    ")\n",
    "\n",
    "fig6.show()"
   ]
  },
  {
   "cell_type": "markdown",
   "id": "7fc58b6e-edd7-450d-90de-ad43ecda2be5",
   "metadata": {},
   "source": [
    "Next, lets analyze the total number of tests taken globally highlighting testing intensity:"
   ]
  },
  {
   "cell_type": "code",
   "execution_count": 49,
   "id": "4ce471c5-a7c3-4db2-9132-1cf179906a98",
   "metadata": {},
   "outputs": [
    {
     "data": {
      "text/html": [
       "<iframe\n",
       "    scrolling=\"no\"\n",
       "    width=\"100%\"\n",
       "    height=\"545px\"\n",
       "    src=\"iframe_figures/figure_49.html\"\n",
       "    frameborder=\"0\"\n",
       "    allowfullscreen\n",
       "></iframe>\n"
      ]
     },
     "metadata": {},
     "output_type": "display_data"
    }
   ],
   "source": [
    "# Total number of tests taken globally highlighting testing intensity.\n",
    "fig7 = px.bar(\n",
    "    dataset1,\n",
    "    x = \"Country/Region\",\n",
    "    y = \"TotalCases\",\n",
    "    title = \"Figure 7: Total Number Of Tests Taken Highlighting Testing Intensity By Country\",\n",
    "    color = \"TotalTests\", \n",
    "    log_y = True,\n",
    "    hover_data = [\"Country/Region\", \"TotalCases\", \"TotalTests\"],\n",
    "    labels={\"Country/Region\": \"Country/Region\", \"TotalCases\": \"TotalCases\", \"TotalTests\": \"TotalTests\"}\n",
    ")\n",
    "\n",
    "fig7.show()"
   ]
  },
  {
   "cell_type": "markdown",
   "id": "079a1b92-27ae-47a4-bf00-f861e192cbb1",
   "metadata": {},
   "source": [
    "Out of curiosity we will calculate the overal global testing rate. Just to see which country tested its population the most. As we have done previously, we will follow the same steps above to calculate the testing rate: "
   ]
  },
  {
   "cell_type": "code",
   "execution_count": 50,
   "id": "5f1dac72-b2be-4af3-af31-2d74cde22a7b",
   "metadata": {},
   "outputs": [
    {
     "data": {
      "text/html": [
       "<iframe\n",
       "    scrolling=\"no\"\n",
       "    width=\"100%\"\n",
       "    height=\"545px\"\n",
       "    src=\"iframe_figures/figure_50.html\"\n",
       "    frameborder=\"0\"\n",
       "    allowfullscreen\n",
       "></iframe>\n"
      ]
     },
     "metadata": {},
     "output_type": "display_data"
    }
   ],
   "source": [
    "# Create a new column in the dataset for the testing rate for each country\n",
    "dataset1[\"TestingRate\"] = (dataset1[\"TotalTests\"] / dataset1[\"TotalCases\"]) * 100\n",
    "\n",
    "# Sort the data\n",
    "new_df_dataset1_testing = pd.DataFrame(dataset1)\n",
    "sorted_new_df_dataset1_testing = new_df_dataset1_testing.sort_values(by = \"TestingRate\", ascending = True)\n",
    "\n",
    "# Create the table with the sorted recovery rate  \n",
    "testingrate_table = go.Table(\n",
    "    header = dict(\n",
    "        values = [\"Country/Region\", \"TestingRate\", \"TotalTests\", \"Population\",\"TotalCases\", \"TotalDeaths\"]),\n",
    "    cells = dict(\n",
    "        values = [\n",
    "            sorted_new_df_dataset1_testing[\"Country/Region\"],\n",
    "            sorted_new_df_dataset1_testing[\"TestingRate\"],\n",
    "            sorted_new_df_dataset1_testing[\"TotalTests\"],\n",
    "            sorted_new_df_dataset1_testing[\"Population\"],\n",
    "            sorted_new_df_dataset1_testing[\"TotalCases\"],\n",
    "            sorted_new_df_dataset1_testing[\"TotalDeaths\"]\n",
    "        ]\n",
    "    )\n",
    ")\n",
    "\n",
    "# Create the figure and pass the table trace as data\n",
    "sorted_testingrate_figure = go.Figure(data = [testingrate_table])\n",
    "\n",
    "# Update the layout and show the figure\n",
    "sorted_testingrate_figure.update_layout(title=\"Table 5: Countries Sorted by COVID-19 Testing Rate\")\n",
    "sorted_testingrate_figure.show()"
   ]
  },
  {
   "cell_type": "code",
   "execution_count": 51,
   "id": "6f838d16-d879-4870-b6e5-27365d90a69e",
   "metadata": {},
   "outputs": [
    {
     "data": {
      "text/html": [
       "<iframe\n",
       "    scrolling=\"no\"\n",
       "    width=\"100%\"\n",
       "    height=\"545px\"\n",
       "    src=\"iframe_figures/figure_51.html\"\n",
       "    frameborder=\"0\"\n",
       "    allowfullscreen\n",
       "></iframe>\n"
      ]
     },
     "metadata": {},
     "output_type": "display_data"
    }
   ],
   "source": [
    "# Graphing data via Bar Graph horizontally\n",
    "fig8 = px.bar(\n",
    "    dataset1,\n",
    "    x = \"Country/Region\",\n",
    "    y = \"TestingRate\",\n",
    "    title = \"Figure 8: Global Testing Rate Highlighting Testing Rate's Intensity By Country\",\n",
    "    color = \"TestingRate\",\n",
    "    log_y = True,\n",
    "    hover_data = [\"Country/Region\", \"TestingRate\", \"TotalTests\", \"TotalCases\"],\n",
    "    labels={\"Country/Region\": \"Country/Region\", \"TestingRate\": \"TestingRate\", \"TotalTests\": \"TotalTests\", \"TotalCases\": \"TotalCases\" }\n",
    ")\n",
    "\n",
    "fig8.show()"
   ]
  },
  {
   "cell_type": "markdown",
   "id": "32f6136d-9114-4f6e-b740-6fb536d25c75",
   "metadata": {},
   "source": [
    "Surprisingly we see that although the US has the highest testing numbers, Laos had the highest testing rate for its population of 7,285,750 at rate of 146,870.0%. With the USA testing at a rate of 1,254.71% of its population of 331,198,130. On the other hand, Sudan's 43,943,536 populace tested itself at a rate of 3.4%. I suspect the numbers reflect that a smaller population testing itself more frequently has greater impact than a higher population testing less frequently. Based on what we observe in the data, it is likely for countries where testing rates are higher: the population might be conducting multiple tests per person, or smaller populations have higher testing implications. A seperate study might be worth it to find out the specific reason.\n",
    "\n",
    "#### STEP 5: UTILIZING TIME-MERGED HORIZONTAL BAR GRAPHS TO COMPARE TESTING NUMBERS AND TESTING RATES BY CONTINENT (DATASET1)\n",
    "\n",
    "Time-merged horizontal bar graphs are helpful when visualizing comparisions of categories over several periods of time. Below, readers will appreciate how tests and testing rates accumulated and changed over time:"
   ]
  },
  {
   "cell_type": "code",
   "execution_count": 52,
   "id": "1b3c18b6-6217-40a5-89e1-f390994b5bcc",
   "metadata": {},
   "outputs": [
    {
     "data": {
      "text/html": [
       "<iframe\n",
       "    scrolling=\"no\"\n",
       "    width=\"100%\"\n",
       "    height=\"545px\"\n",
       "    src=\"iframe_figures/figure_52.html\"\n",
       "    frameborder=\"0\"\n",
       "    allowfullscreen\n",
       "></iframe>\n"
      ]
     },
     "metadata": {},
     "output_type": "display_data"
    }
   ],
   "source": [
    "# Time merge the testing numbers according to the continent\n",
    "fig9 = px.bar(\n",
    "    dataset1,\n",
    "    x = \"TotalTests\",\n",
    "    y = \"Continent\", \n",
    "    title = \"Figure 9: Time-Merged Horizontal Bar Graph of Tests Highlighting Testing Intensity By Continent\",\n",
    "    color = \"TotalTests\",\n",
    "    orientation = \"h\",\n",
    "    log_x = True,\n",
    "    hover_data = [\"Country/Region\", \"Continent\", \"TotalTests\", \"Population\"],\n",
    "    labels={\"TotalTests\": \"TotalTests\", \"Continent\": \"Continent\", \"Country/Region\":\"Country/Region\", \"Population\":\"Population\"}\n",
    ")\n",
    "\n",
    "fig9.show()"
   ]
  },
  {
   "cell_type": "code",
   "execution_count": 53,
   "id": "6f94f520-0bd7-43a8-ac1d-3a345321ae93",
   "metadata": {},
   "outputs": [
    {
     "data": {
      "text/html": [
       "<iframe\n",
       "    scrolling=\"no\"\n",
       "    width=\"100%\"\n",
       "    height=\"545px\"\n",
       "    src=\"iframe_figures/figure_53.html\"\n",
       "    frameborder=\"0\"\n",
       "    allowfullscreen\n",
       "></iframe>\n"
      ]
     },
     "metadata": {},
     "output_type": "display_data"
    }
   ],
   "source": [
    "# Time-merge the testing rate for continents\n",
    "fig10 = px.bar(\n",
    "    dataset1,\n",
    "    x = \"TestingRate\",\n",
    "    y = \"Continent\", \n",
    "    title = \"Figure 10: Time-Merged Horizontal Bar Graph of Testing Rate Highlighting Testing Rate Intensity By Continent\",\n",
    "    color = \"TestingRate\",\n",
    "    orientation = \"h\",\n",
    "    log_x = True,\n",
    "    hover_data = [\"Continent\", \"Country/Region\", \"TestingRate\", \"Population\"],\n",
    "    labels={\"TestingRate\": \"TestingRate\", \"Continent\": \"Continent\", \"Country/Region\":\"Country/Region\", \"Population\": \"Population\"}\n",
    ")\n",
    "\n",
    "fig10.show()"
   ]
  },
  {
   "cell_type": "markdown",
   "id": "b0f9c0e1-f424-4748-838f-c187376572a4",
   "metadata": {},
   "source": [
    "#### STEP 6: UTILIZING BUBBLE CHARTS TO COMPARE TOTAL CASES BY CONTINENT (DATASET1) \n",
    "\n",
    "Bubble charts are scatter plots that visualize relationships between two or more variables by the size, position, and color of its bubbles. It is important to note, this section plots the data by continents not by country/region. Figure 11's bubble's color reflects a country's testing frequency and the bubble size emphasizes the number of COVID cases for all cases:"
   ]
  },
  {
   "cell_type": "code",
   "execution_count": 54,
   "id": "114eeb0b-98eb-480b-b3e8-efad6da8880c",
   "metadata": {},
   "outputs": [
    {
     "data": {
      "text/html": [
       "<iframe\n",
       "    scrolling=\"no\"\n",
       "    width=\"100%\"\n",
       "    height=\"670\"\n",
       "    src=\"iframe_figures/figure_54.html\"\n",
       "    frameborder=\"0\"\n",
       "    allowfullscreen\n",
       "></iframe>\n"
      ]
     },
     "metadata": {},
     "output_type": "display_data"
    }
   ],
   "source": [
    "# COVID cases by continent highlighting number of tests in color and bubble size the amount of cases\n",
    "fig11 = px.scatter(\n",
    "    dataset1,\n",
    "    x = \"Continent\",\n",
    "    y = \"TotalCases\", \n",
    "    title = \"Figure 11: Continential COVID Cases Highlighting Testing Intensity In Color And Case Amount By Size\",\n",
    "    color = \"TotalTests\",\n",
    "    size = \"TotalCases\",\n",
    "    log_y = True,\n",
    "    size_max = 200,\n",
    "    height = 650,\n",
    "    hover_data = [\"Continent\", \"Country/Region\", \"TotalTests\", \"TotalCases\"], \n",
    "    labels={\"Continent\": \"Continent\", \"Country/Region\": \"Country/Region\", \"TotalTests\":\"TotalTests\", \"TotalCases\":\"TotalCases\"}\n",
    ")\n",
    "\n",
    "fig11.show()"
   ]
  },
  {
   "cell_type": "markdown",
   "id": "ee3ba7b0-2403-4720-b763-1ee63b7df2fd",
   "metadata": {},
   "source": [
    "Next, we will study the death intensity by color and case amount by size for the same dataframe: "
   ]
  },
  {
   "cell_type": "code",
   "execution_count": 55,
   "id": "972b892f-f1b2-40aa-ae79-83f591631ceb",
   "metadata": {},
   "outputs": [
    {
     "data": {
      "text/html": [
       "<iframe\n",
       "    scrolling=\"no\"\n",
       "    width=\"100%\"\n",
       "    height=\"670\"\n",
       "    src=\"iframe_figures/figure_55.html\"\n",
       "    frameborder=\"0\"\n",
       "    allowfullscreen\n",
       "></iframe>\n"
      ]
     },
     "metadata": {},
     "output_type": "display_data"
    }
   ],
   "source": [
    "# COVID cases by continent highlighting death count by color and case numbers by size\n",
    "fig12 = px.scatter(\n",
    "    dataset1,\n",
    "    x = \"Continent\",\n",
    "    y = \"TotalCases\", \n",
    "    title = \"Figure 12: Continential COVID Cases Highlighting Death Intensity In Color And Case Amount By Size\",\n",
    "    color = \"TotalDeaths\",\n",
    "    size = \"TotalCases\",\n",
    "    log_y = True,\n",
    "    size_max = 200,\n",
    "    height = 650,\n",
    "    hover_data = [\"Continent\", \"Country/Region\", \"TotalDeaths\", \"TotalCases\"],\n",
    "    labels={\"Continent\": \"Continent\", \"Country/Region\": \"Country/Region\", \"TotalDeaths\":\"TotalDeaths\", \"TotalCases\":\"TotalCases\"}\n",
    "    \n",
    ")\n",
    "\n",
    "fig12.show()"
   ]
  },
  {
   "cell_type": "markdown",
   "id": "201e0a8f-11a2-4b90-8b25-73f52ccc5f71",
   "metadata": {},
   "source": [
    "#### STEP 7: CONTINUING UTILIZING BUBBLE CHARTS TO COMPARE TOTAL CASES, TOTAL DEATHS, TEST/1M POPULATION BY COUNTRY/REGION (DATASET1)\n",
    "\n",
    "We continue our analysis with Bubble Charts. Except this time, we will examaine the amount of COVID cases by country:"
   ]
  },
  {
   "cell_type": "code",
   "execution_count": 58,
   "id": "8c6e5c76-a214-489d-9ed8-f90333e8c9ff",
   "metadata": {},
   "outputs": [
    {
     "data": {
      "text/html": [
       "<iframe\n",
       "    scrolling=\"no\"\n",
       "    width=\"100%\"\n",
       "    height=\"545px\"\n",
       "    src=\"iframe_figures/figure_58.html\"\n",
       "    frameborder=\"0\"\n",
       "    allowfullscreen\n",
       "></iframe>\n"
      ]
     },
     "metadata": {},
     "output_type": "display_data"
    }
   ],
   "source": [
    "# Analyze the number of cases by color and size by country\n",
    "fig13 = px.scatter(\n",
    "    dataset1,\n",
    "    x = \"Country/Region\",\n",
    "    y = \"TotalCases\",\n",
    "    title = \"Figure 13: COVID Cases Highlighting Case Intensity In Color And Case Numbers By Country\",\n",
    "    color = \"TotalCases\",\n",
    "    size = \"TotalCases\",\n",
    "    log_y = True,\n",
    "    size_max = 115,\n",
    "    hover_data = [\"Country/Region\", \"TotalCases\"],\n",
    "    labels={\"Continent\": \"Continent\", \"Country/Region\": \"Country/Region\", \"TotalCases\":\"TotalCases\"}\n",
    ")\n",
    "\n",
    "fig13.show()"
   ]
  },
  {
   "cell_type": "markdown",
   "id": "6a3b19a0-3e09-49e5-a00e-4f1f8167dcd5",
   "metadata": {},
   "source": [
    "We see that the USA leads with the highest amount for reporting cases. Let continue our analysis to see if any other trends become evident that might explain why the USA leads. Let's start that task by looking at the TotalTest column. To plot the data for the TotalTest column we will have to perform a type conversion--since it has data that is not numeric:"
   ]
  },
  {
   "cell_type": "code",
   "execution_count": 61,
   "id": "3b181b37-0706-4323-873c-18a69f4128e1",
   "metadata": {},
   "outputs": [
    {
     "name": "stdout",
     "output_type": "stream",
     "text": [
      "float64\n",
      "18\n"
     ]
    },
    {
     "data": {
      "text/html": [
       "<iframe\n",
       "    scrolling=\"no\"\n",
       "    width=\"100%\"\n",
       "    height=\"670\"\n",
       "    src=\"iframe_figures/figure_61.html\"\n",
       "    frameborder=\"0\"\n",
       "    allowfullscreen\n",
       "></iframe>\n"
      ]
     },
     "metadata": {},
     "output_type": "display_data"
    }
   ],
   "source": [
    "# Preview the data and perform type conversions for non numeric data\n",
    "print(dataset1[\"TotalTests\"].dtype)\n",
    "print(dataset1[\"TotalTests\"].isnull().sum())\n",
    "\n",
    "# Create a new dataframe\n",
    "new_df_dataset1_totalTests = pd.DataFrame(dataset1)\n",
    "\n",
    "# Force convert to numeric values\n",
    "new_df_dataset1_totalTests[\"TotalTests\"] = pd.to_numeric(new_df_dataset1_totalTests[\"TotalTests\"], errors=\"coerce\")\n",
    "new_df_dataset1_totalTests[\"TotalTests\"] = new_df_dataset1_totalTests[\"TotalTests\"].fillna(0)\n",
    "\n",
    "# Fill NaN values with 0's \n",
    "new_df_dataset1_totalTests.fillna({\"TotalTests\": 0}, inplace=True)\n",
    "\n",
    "# Proceed to create the scatter plot\n",
    "if not new_df_dataset1_totalTests.empty:\n",
    "    fig14 = px.scatter(\n",
    "        new_df_dataset1_totalTests,\n",
    "        x = \"Country/Region\",\n",
    "        y = \"TotalTests\",\n",
    "        title = \"Figure 14: COVID Tests Highlighting Death Count In Color And Case Amount By Country\",\n",
    "        color = \"TotalDeaths\",\n",
    "        size = \"TotalCases\",\n",
    "        log_y = True,\n",
    "        size_max = 200,\n",
    "        height = 650,\n",
    "        hover_data = [\"Country/Region\", \"TotalDeaths\", \"TotalTests\"],\n",
    "        labels = {\"Country/Region\": \"Country/Region\", \"TotalDeaths\": \"TotalDeaths\", \"TotalTests\": \"TotalTests\"}\n",
    "    )\n",
    "\n",
    "    fig14.show()\n",
    "else:\n",
    "    print(\"The dataset is empty after dropping NaN values.\")"
   ]
  },
  {
   "cell_type": "markdown",
   "id": "c809dc47-da10-4f0e-b70b-b9a353e36bfa",
   "metadata": {},
   "source": [
    "Interesting enough we see that the United States also leads in testing its citizens--but also its citizens are dying the most. Let's take a closer look at the number of deaths. Again, a type conversion is required for working with the TotalDeath column:"
   ]
  },
  {
   "cell_type": "code",
   "execution_count": 63,
   "id": "e5e3eeab-c6f3-43bd-aaa4-8d99e7025fd0",
   "metadata": {},
   "outputs": [
    {
     "name": "stdout",
     "output_type": "stream",
     "text": [
      "float64\n",
      "21\n"
     ]
    },
    {
     "data": {
      "text/html": [
       "<iframe\n",
       "    scrolling=\"no\"\n",
       "    width=\"100%\"\n",
       "    height=\"545px\"\n",
       "    src=\"iframe_figures/figure_63.html\"\n",
       "    frameborder=\"0\"\n",
       "    allowfullscreen\n",
       "></iframe>\n"
      ]
     },
     "metadata": {},
     "output_type": "display_data"
    }
   ],
   "source": [
    "# Preview the data and perform type conversions for non numeric data\n",
    "print(dataset1[\"TotalDeaths\"].dtype)\n",
    "print(dataset1[\"TotalDeaths\"].isnull().sum())\n",
    "\n",
    "# Create a new dataframe\n",
    "new_df_dataset1_totalDeaths = pd.DataFrame(dataset1)\n",
    "\n",
    "# Force convert to numeric values\n",
    "new_df_dataset1_totalDeaths[\"TotalDeaths\"] = pd.to_numeric(new_df_dataset1_totalDeaths[\"TotalDeaths\"], errors=\"coerce\")\n",
    "new_df_dataset1_totalDeaths[\"TotalDeaths\"] = new_df_dataset1_totalDeaths[\"TotalDeaths\"].fillna(0)\n",
    "\n",
    "# Fill NaN values with 0's\n",
    "new_df_dataset1_totalDeaths.fillna({\"TotalDeaths\": 0}, inplace=True)\n",
    "\n",
    "# Proceed to create the scatter plot\n",
    "if not new_df_dataset1_totalDeaths.empty:\n",
    "    fig15 = px.scatter(\n",
    "        new_df_dataset1_totalDeaths,\n",
    "        x = \"Country/Region\",\n",
    "        y = \"TotalDeaths\",\n",
    "        title = \"Figure 15: COVID Deaths Highlighting Death Count In Color And Size By Country\",\n",
    "        color = \"TotalDeaths\",\n",
    "        size = \"TotalDeaths\",\n",
    "        log_y = True,\n",
    "        size_max = 125,\n",
    "        hover_data = [\"Country/Region\", \"TotalDeaths\"],\n",
    "        labels = {\"Country/Region\": \"Country/Region\", \"TotalDeaths\": \"TotalDeaths\"}\n",
    "    )\n",
    "\n",
    "    fig15.show()\n",
    "else:\n",
    "    print(\"The dataset is empty after dropping NaN values.\")"
   ]
  },
  {
   "cell_type": "markdown",
   "id": "d082e8c4-d373-48f1-a825-ca3dced75b84",
   "metadata": {},
   "source": [
    "Now that we have a TotalDeaths column let's tease out the data a bit more. We can confirm that the United States has the highest death toll for COVID. Later on in our analysis we will visualize what specific cause of death was the most prevalent. For now lets analyze the death data in  Continential view before moving on."
   ]
  },
  {
   "cell_type": "code",
   "execution_count": 64,
   "id": "fd13573a-54db-4427-b8df-6e561ada43af",
   "metadata": {},
   "outputs": [
    {
     "data": {
      "text/html": [
       "<iframe\n",
       "    scrolling=\"no\"\n",
       "    width=\"100%\"\n",
       "    height=\"545px\"\n",
       "    src=\"iframe_figures/figure_64.html\"\n",
       "    frameborder=\"0\"\n",
       "    allowfullscreen\n",
       "></iframe>\n"
      ]
     },
     "metadata": {},
     "output_type": "display_data"
    }
   ],
   "source": [
    "# Isolate for continents and death count\n",
    "if not new_df_dataset1_totalDeaths.empty:\n",
    "    fig16 = px.scatter(\n",
    "        new_df_dataset1_totalDeaths,\n",
    "        x = \"Country/Region\",\n",
    "        y = \"TotalDeaths\",\n",
    "        title = \"Figure 16: Continential COVID Deaths Highlighting By Color And Deaths By Size\",\n",
    "        color = \"Continent\",\n",
    "        size = \"TotalDeaths\",\n",
    "        log_y = True,\n",
    "        size_max = 125,\n",
    "        hover_data = [\"Country/Region\", \"Continent\", \"TotalDeaths\"],\n",
    "        labels = {\"Continent\": \"Continent\", \"Country/Region\": \"Country/Region\", \"TotalDeaths\": \"TotalDeaths\"}\n",
    "    )\n",
    "\n",
    "    fig16.show()\n",
    "else:\n",
    "    print(\"The dataset is empty after dropping NaN values.\")"
   ]
  },
  {
   "cell_type": "markdown",
   "id": "f55288b1-8751-4adf-8db2-96087a7e18d2",
   "metadata": {},
   "source": [
    "We see something fascinating in Figure 16. We see that COVID is prevalent not only in the United States--but the whole North American continent. South America also has a high death toll. It seems that COVID patients die less in more temperate and desert climates.\n",
    "\n",
    "Next we will take location out of our analysis and visually compare the number of cases to the number of deaths. Let's see if a linear relationship exists. Meaning the more cases we have the death toll increases:"
   ]
  },
  {
   "cell_type": "code",
   "execution_count": 66,
   "id": "4a08be5c-d304-418d-a622-b8ffe1194e0c",
   "metadata": {},
   "outputs": [
    {
     "data": {
      "text/html": [
       "<iframe\n",
       "    scrolling=\"no\"\n",
       "    width=\"100%\"\n",
       "    height=\"545px\"\n",
       "    src=\"iframe_figures/figure_66.html\"\n",
       "    frameborder=\"0\"\n",
       "    allowfullscreen\n",
       "></iframe>\n"
      ]
     },
     "metadata": {},
     "output_type": "display_data"
    }
   ],
   "source": [
    "# Visualize the cases and death toll\n",
    "fig17 = px.scatter(\n",
    "    new_df_dataset1_totalDeaths,\n",
    "    x = \"TotalCases\",\n",
    "    y = \"TotalDeaths\", \n",
    "    title = \"Figure 17: COVID Cases Highlighting Death Count By Color And Size\",\n",
    "    color = \"TotalDeaths\",\n",
    "    size = \"TotalDeaths\",\n",
    "    log_y = True,\n",
    "    log_x = True,\n",
    "    size_max = 200,\n",
    "    hover_data = [\"Country/Region\", \"Continent\", \"TotalDeaths\"],\n",
    "    labels = {\"Continent\": \"Continent\", \"Country/Region\": \"Country/Region\", \"TotalDeaths\": \"TotalDeaths\"}\n",
    ")\n",
    "\n",
    "fig17.show()"
   ]
  },
  {
   "cell_type": "markdown",
   "id": "86e41c0a-d84e-42bb-ab35-92af92c1a615",
   "metadata": {},
   "source": [
    "We can confirm visually that a linear relationship exists between the cases and death count.\n",
    "\n",
    "#### STEP 8: DATA VISUALIZATION WITH BAR GRAPHS (DATASET2)\n",
    "\n",
    "Using dataset2's date column we will use Bar Graphs to analyze each country's recovered COVID cases:"
   ]
  },
  {
   "cell_type": "code",
   "execution_count": 88,
   "id": "53c6db50-60ca-4b3c-9cc9-13d0388f18e4",
   "metadata": {},
   "outputs": [
    {
     "data": {
      "text/html": [
       "<iframe\n",
       "    scrolling=\"no\"\n",
       "    width=\"100%\"\n",
       "    height=\"545px\"\n",
       "    src=\"iframe_figures/figure_88.html\"\n",
       "    frameborder=\"0\"\n",
       "    allowfullscreen\n",
       "></iframe>\n"
      ]
     },
     "metadata": {},
     "output_type": "display_data"
    }
   ],
   "source": [
    "# Visualize recovered COVID cases by date\n",
    "fig18 = px.bar(\n",
    "    dataset2,\n",
    "    x = \"Date\",\n",
    "    y = \"Recovered\",\n",
    "    title = \"Figure 18: Recovered COVID Cases By Date Highlighting Country/Region\",\n",
    "    color = \"Country/Region\",\n",
    "    log_y = True,\n",
    "    hover_data = [\"Recovered\", \"Date\", \"Country/Region\", \"Confirmed\"],\n",
    "    labels = {\"Recovered\": \"Recovered\", \"Country/Region\": \"Country/Region\", \"Date\": \"Date\", \"Confirmed\": \"Confirmed\"}\n",
    ")\n",
    "\n",
    "fig18.show()"
   ]
  },
  {
   "cell_type": "markdown",
   "id": "ecaade14-695c-48a6-a344-fab422caba4d",
   "metadata": {},
   "source": [
    "We see that China starts off with the best recovery cases in February, but at around April global recovery picks up with the United States taking the lead in recovery. Let's continue our study to view the distribution of the new cases for the same period:"
   ]
  },
  {
   "cell_type": "code",
   "execution_count": 90,
   "id": "1896ec98-ac17-4ba3-aa87-b65cdec8d48b",
   "metadata": {},
   "outputs": [
    {
     "data": {
      "text/html": [
       "<iframe\n",
       "    scrolling=\"no\"\n",
       "    width=\"100%\"\n",
       "    height=\"545px\"\n",
       "    src=\"iframe_figures/figure_90.html\"\n",
       "    frameborder=\"0\"\n",
       "    allowfullscreen\n",
       "></iframe>\n"
      ]
     },
     "metadata": {},
     "output_type": "display_data"
    }
   ],
   "source": [
    "# Visualize the new case rate \n",
    "fig19 = px.bar(\n",
    "    dataset2,\n",
    "    x = \"Date\",\n",
    "    y = \"New cases\",\n",
    "    title = \"Figure 19: New COVID Cases By Date Highlighting Country/Region\",\n",
    "    color = \"Country/Region\",\n",
    "    log_y = True,\n",
    "    hover_data = [\"New cases\", \"Date\", \"Country/Region\", \"Confirmed\"],\n",
    "    labels = {\"New cases\": \"New cases\", \"Country/Region\": \"Country/Region\", \"Date\": \"Date\", \"Confirmed\": \"Confirmed\"}\n",
    ")\n",
    "\n",
    "fig19.show()"
   ]
  },
  {
   "cell_type": "markdown",
   "id": "acf518e3-3d3c-495a-9800-5a05eee341ec",
   "metadata": {},
   "source": [
    "Because the data looks crowded in Figures 18 and 19 we will redo the analysis in line plots. However, we can clearly see the data starts out with China having the most new cases, however by March the status quo starts to shift with eventually the USA taking the lead. \n",
    "\n",
    "#### STEP 9: SINGLING OUT AMERICA'S DATA (DATASET2)\n",
    "\n",
    "Next we will only take the US's data into account using dataset2. We start the analysis by making a new dataframe to analyze new cases amongst US citizens. We can clearly see how quickly the sickness spread between March and April:\n",
    " "
   ]
  },
  {
   "cell_type": "code",
   "execution_count": 110,
   "id": "362809bc-4f79-4985-912c-dbe59a347df4",
   "metadata": {},
   "outputs": [
    {
     "data": {
      "text/html": [
       "<iframe\n",
       "    scrolling=\"no\"\n",
       "    width=\"100%\"\n",
       "    height=\"545px\"\n",
       "    src=\"iframe_figures/figure_110.html\"\n",
       "    frameborder=\"0\"\n",
       "    allowfullscreen\n",
       "></iframe>\n"
      ]
     },
     "metadata": {},
     "output_type": "display_data"
    }
   ],
   "source": [
    "# This is the bar graph observes the rate of daily new cases:\n",
    "df_US= dataset2.loc[dataset2[\"Country/Region\"]==\"US\"]\n",
    "\n",
    "fig20 = px.bar(\n",
    "    df_US,\n",
    "    x = \"Date\",\n",
    "    y = \"New cases\",\n",
    "    title = \"Figure 20: Daily New Cases Of COVID For US Highlighting New Case Numbers\",\n",
    "    color= \"New cases\",\n",
    "    hover_data = [\"Date\", \"New cases\", \"Confirmed\", \"Date\", \"Country/Region\"],\n",
    "    log_y = True,\n",
    "    labels = {\"New cases\": \"New cases\", \"Confirmed\": \"Confirmed\", \"Date\": \"Date\", \"Country/Region\": \"Country/Region\"}\n",
    ")\n",
    "\n",
    "fig20.show()"
   ]
  },
  {
   "cell_type": "code",
   "execution_count": 112,
   "id": "9d282baf-89ed-4d09-a575-2673f7fd46e0",
   "metadata": {},
   "outputs": [
    {
     "data": {
      "text/html": [
       "<iframe\n",
       "    scrolling=\"no\"\n",
       "    width=\"100%\"\n",
       "    height=\"545px\"\n",
       "    src=\"iframe_figures/figure_112.html\"\n",
       "    frameborder=\"0\"\n",
       "    allowfullscreen\n",
       "></iframe>\n"
      ]
     },
     "metadata": {},
     "output_type": "display_data"
    }
   ],
   "source": [
    "# Isolating for the US analyze daily recovery\n",
    "fig21 = px.bar(\n",
    "    df_US,\n",
    "    x = \"Date\",\n",
    "    y = \"Recovered\", \n",
    "    title = \"Figure 21: Recovery From COVID For US Cases By Date Highlighting Recovery Numbers\",\n",
    "    color = \"Recovered\",\n",
    "    hover_data = [\"Date\", \"Recovered\", \"Confirmed\", \"Country/Region\"], \n",
    "    log_y = True,\n",
    "    labels = {\"Recovered\": \"Recovered\", \"Country/Region\": \"Country/Region\", \"Date\": \"Date\", \"Confirmed\": \"Confirmed\"}\n",
    ")\n",
    "\n",
    "fig21.show()"
   ]
  },
  {
   "cell_type": "markdown",
   "id": "0eff625b-77ba-4edf-8f68-2368a61121e9",
   "metadata": {},
   "source": [
    "What is most promising is that although many citizens are getting sick the recovery looks promising for patients.\n",
    "\n",
    "#### STEP 10: UTILIZING LINE PLOTS\n",
    "\n",
    "Line plots are used when you want to visualize how a variable changes over time. These plots are able to: quickly show trends, compare changes between multiple groups or categories over time, and highlight cycles in data. Using dataset2, we will revisit the global recovery and acquring of new COVID cases. However, since we have so many countries it is easy for the graph to get convoluted. Therefore we will sort the data to take the Top 50 or so countries: "
   ]
  },
  {
   "cell_type": "code",
   "execution_count": 141,
   "id": "56806942-6c65-438e-ac22-7129cfd0f7d1",
   "metadata": {},
   "outputs": [
    {
     "data": {
      "text/html": [
       "<iframe\n",
       "    scrolling=\"no\"\n",
       "    width=\"100%\"\n",
       "    height=\"545px\"\n",
       "    src=\"iframe_figures/figure_141.html\"\n",
       "    frameborder=\"0\"\n",
       "    allowfullscreen\n",
       "></iframe>\n"
      ]
     },
     "metadata": {},
     "output_type": "display_data"
    }
   ],
   "source": [
    "# Create new dataframe\n",
    "new_df_dataset2_recover = pd.DataFrame(dataset2)\n",
    "\n",
    "# Sort and select countries by recovered cases\n",
    "top_50_Countries_Recover = new_df_dataset2_recover.groupby(\"Country/Region\")[\"Recovered\"].max().sort_values(ascending = False).head(50).index\n",
    "filtered_df_recovered = new_df_dataset2_recover[new_df_dataset2_recover[\"Country/Region\"].isin(top_50_Countries_Recover)]\n",
    "\n",
    "# Visualize recovered COVID cases by date\n",
    "fig22 = px.line(\n",
    "    filtered_df_recovered,\n",
    "    x = \"Date\",\n",
    "    y = \"Recovered\",\n",
    "    title = \"Figure 22: Top 50 Countries That Recovered From COVID By Date\",\n",
    "    color = \"Country/Region\",\n",
    "    log_y = True,\n",
    "    hover_data = [\"Recovered\", \"Date\", \"Country/Region\", \"Confirmed\"],\n",
    "    labels = {\"Recovered\": \"Recovered\", \"Country/Region\": \"Country/Region\", \"Date\": \"Date\", \"Confirmed\": \"Confirmed\"}\n",
    ")\n",
    "\n",
    "fig22.show()\n"
   ]
  },
  {
   "cell_type": "markdown",
   "id": "312a58c2-0465-451e-84b2-d7a45bbbce1e",
   "metadata": {},
   "source": [
    "Contrary to what we saw in Figure 18, Brazil overtakes China around July 2020 for best recovery for patients. Next, lets revist the daily new cases of COVID. We will repeat the same steps as above to gather the Top 50 Countries for this category:"
   ]
  },
  {
   "cell_type": "code",
   "execution_count": 142,
   "id": "b63f2895-5342-4202-8fcf-f1645d2704c7",
   "metadata": {},
   "outputs": [
    {
     "data": {
      "text/html": [
       "<iframe\n",
       "    scrolling=\"no\"\n",
       "    width=\"100%\"\n",
       "    height=\"545px\"\n",
       "    src=\"iframe_figures/figure_142.html\"\n",
       "    frameborder=\"0\"\n",
       "    allowfullscreen\n",
       "></iframe>\n"
      ]
     },
     "metadata": {},
     "output_type": "display_data"
    }
   ],
   "source": [
    "# Create new dataframe\n",
    "new_df_dataset2_daily = pd.DataFrame(dataset2)\n",
    "\n",
    "# Sort and select countries by daily new case numbers\n",
    "top_50_Countries_newCases = new_df_dataset2_daily.groupby(\"Country/Region\")[\"New cases\"].max().sort_values(ascending = False).head(50).index\n",
    "filtered_df_newCases = new_df_dataset2_daily[new_df_dataset2_daily[\"Country/Region\"].isin(top_50_Countries_newCases)]\n",
    "\n",
    "# Visualize the new case rate \n",
    "fig23 = px.line(\n",
    "    filtered_df_newCases,\n",
    "    x = \"Date\",\n",
    "    y = \"New cases\",\n",
    "    title = \"Figure 23: New COVID Cases By Date Highlighting Country/Region\",\n",
    "    color = \"Country/Region\",\n",
    "    log_y = True,\n",
    "    hover_data = [\"New cases\", \"Date\", \"Country/Region\", \"Confirmed\"],\n",
    "    labels = {\"New cases\": \"New cases\", \"Country/Region\": \"Country/Region\", \"Date\": \"Date\", \"Confirmed\": \"Confirmed\"}\n",
    ")\n",
    "\n",
    "fig23.show()"
   ]
  },
  {
   "cell_type": "markdown",
   "id": "314e6ff4-7760-431b-a748-be58b3ce45b9",
   "metadata": {},
   "source": [
    "Luckily, we can confirm the same conclusions that we had in the previous section. We see the US overtakes China for acquiring more daily cases of COVID. \n",
    "\n",
    "#### STEP 11: UTILIZING SCATTER PLOTS (DATASET2)\n",
    "\n",
    "To visualize correlation, scatter plots are used to display relationships between two or more continuous variables. Different features of the graph can highlight the strength and nature of the shared relationship. Positive correlation is observed when both variables increase, negative corelation occurs if one variable increases as the other decreases, and no corelation if no pattern is displayed.\n",
    "\n",
    "Using scatter plots we will see if a relationship exists between the US's confirmed cases and death rates."
   ]
  },
  {
   "cell_type": "code",
   "execution_count": 160,
   "id": "c88fce6a-7c3d-4057-bf8e-987d78f713bd",
   "metadata": {},
   "outputs": [
    {
     "data": {
      "text/html": [
       "<iframe\n",
       "    scrolling=\"no\"\n",
       "    width=\"100%\"\n",
       "    height=\"545px\"\n",
       "    src=\"iframe_figures/figure_160.html\"\n",
       "    frameborder=\"0\"\n",
       "    allowfullscreen\n",
       "></iframe>\n"
      ]
     },
     "metadata": {},
     "output_type": "display_data"
    }
   ],
   "source": [
    "# US confirmed cases plotted against deaths\n",
    "fig24 = px.scatter(\n",
    "    df_US,\n",
    "    x = \"Confirmed\",\n",
    "    y = \"Deaths\",\n",
    "    title = \"Figure 24: Comparing US Confirmed Cases Against Deaths Numbers Highlighting Death Intensity\",\n",
    "    color = \"Deaths\",\n",
    "    size = \"Deaths\",\n",
    "    hover_data=[\"Date\", \"Confirmed\", \"Deaths\"],\n",
    "    labels={\"Confirmed\": \"Confirmed\", \"Deaths\": \"Deaths\", \"Date\": \"Date\"}\n",
    ")\n",
    "\n",
    "fig24.show()"
   ]
  },
  {
   "cell_type": "markdown",
   "id": "a3ced028-dd2e-4d3d-8410-e8a86064ab20",
   "metadata": {},
   "source": [
    "Clearly Figure 24 depicts a positive correlation between Confirmed cases and Death outcomes for US patients. We see as the confirmed cases rises the death toll also increases exponentially."
   ]
  },
  {
   "cell_type": "markdown",
   "id": "c327dc56-a6f3-44ef-a0d2-07c045307bdc",
   "metadata": {},
   "source": [
    "#### STEP 12: CHOROPLETHS (DATASET2)\n",
    "\n",
    "Choropleths are thematic maps that plot variables with varying color intensity. For Figure 25, the darker the color, the higher the confirmed infections of COVID globally. The animation depicts the spread of COVID from January to July 2020. We will analyze the global rate of confirmed cases and death. Viewing the data in this manner enables us to see how COVID spread globally:"
   ]
  },
  {
   "cell_type": "code",
   "execution_count": 163,
   "id": "29cd2d23-f13d-423c-b787-71d6dc9d0423",
   "metadata": {},
   "outputs": [
    {
     "data": {
      "text/html": [
       "<iframe\n",
       "    scrolling=\"no\"\n",
       "    width=\"100%\"\n",
       "    height=\"545px\"\n",
       "    src=\"iframe_figures/figure_163.html\"\n",
       "    frameborder=\"0\"\n",
       "    allowfullscreen\n",
       "></iframe>\n"
      ]
     },
     "metadata": {},
     "output_type": "display_data"
    }
   ],
   "source": [
    "# Confirmed cases of COVID globally\n",
    "fig25 = px.choropleth(\n",
    "    dataset2,\n",
    "    locations = \"iso_alpha\",\n",
    "    color = \"Confirmed\",\n",
    "    hover_name=\"Country/Region\",\n",
    "    color_continuous_scale = \"Viridis\",\n",
    "    animation_frame=\"Date\",\n",
    "    title = \"Global Spread of COVID\",\n",
    "    labels = {\"Date\": \"Date\", \"Confirmed\": \"Confirmed\"},\n",
    "    hover_data = [\"Date\", \"Confirmed\"],\n",
    ")\n",
    "\n",
    "fig25.show()"
   ]
  },
  {
   "cell_type": "markdown",
   "id": "8e16714d-e483-438e-ad2c-513989a64c2b",
   "metadata": {},
   "source": [
    "Next we will view how death moved thoroughout the globe from January to July:"
   ]
  },
  {
   "cell_type": "code",
   "execution_count": 166,
   "id": "534f15fa-e161-485f-87a1-37c53b028eab",
   "metadata": {},
   "outputs": [
    {
     "data": {
      "text/html": [
       "<iframe\n",
       "    scrolling=\"no\"\n",
       "    width=\"100%\"\n",
       "    height=\"545px\"\n",
       "    src=\"iframe_figures/figure_166.html\"\n",
       "    frameborder=\"0\"\n",
       "    allowfullscreen\n",
       "></iframe>\n"
      ]
     },
     "metadata": {},
     "output_type": "display_data"
    }
   ],
   "source": [
    "# Global death toll from COVID\n",
    "fig26 = px.choropleth(\n",
    "    dataset2,\n",
    "    locations = \"iso_alpha\",\n",
    "    color = \"Deaths\",\n",
    "    hover_name=\"Country/Region\",\n",
    "    color_continuous_scale= \"Viridis\",\n",
    "    animation_frame=\"Date\",\n",
    "    title = \"Global Death Toll From COVID\",\n",
    "    labels = {\"Date\": \"Date\", \"Deaths\": \"Deaths\", \"Country/Region\": \"Country/Region\"},\n",
    "    hover_data = [\"Date\", \"Deaths\", \"Country/Region\"]\n",
    ")\n",
    "\n",
    "fig26.show()"
   ]
  },
  {
   "cell_type": "markdown",
   "id": "99a11315-5c8c-4fb6-93ae-7c95d2f816be",
   "metadata": {},
   "source": [
    "#### STEP 13: NATURAL EARTH PROJECTION (DATASET2)\n",
    "\n",
    "Natural Earth Projection is a pseudocylindrical map designed to show the world's physical data. It is used in geospatial analysis for its ability to handle large volumes of data for effective visualization. This section will take a look at the world's rate of recovery and the WHO's rate of recovery. "
   ]
  },
  {
   "cell_type": "code",
   "execution_count": 168,
   "id": "8b0a9e08-b70b-4d20-a966-0d776e944570",
   "metadata": {
    "scrolled": true
   },
   "outputs": [
    {
     "data": {
      "text/html": [
       "<iframe\n",
       "    scrolling=\"no\"\n",
       "    width=\"100%\"\n",
       "    height=\"545px\"\n",
       "    src=\"iframe_figures/figure_168.html\"\n",
       "    frameborder=\"0\"\n",
       "    allowfullscreen\n",
       "></iframe>\n"
      ]
     },
     "metadata": {},
     "output_type": "display_data"
    }
   ],
   "source": [
    "# Global recovery of COVID\n",
    "fig27 = px.choropleth(\n",
    "    dataset2,\n",
    "    locations = \"iso_alpha\",\n",
    "    color = \"Recovered\",\n",
    "    hover_name=\"Country/Region\",\n",
    "    color_continuous_scale = \"RdYlGn\",\n",
    "    animation_frame=\"Date\",\n",
    "    title = \"Global Recovery Numbers of COVID\",\n",
    "    labels = {\"Date\": \"Date\", \"Recovered\": \"Recovered\", \"Country/Region\": \"Country/Region\"},\n",
    "    hover_data = [\"Date\", \"Recovered\", \"Country/Region\"],\n",
    "    projection = \"natural earth\"\n",
    ")\n",
    "\n",
    "fig27.show()"
   ]
  },
  {
   "cell_type": "markdown",
   "id": "a87579f7-48e8-4267-8b9c-6109a76c513f",
   "metadata": {},
   "source": [
    "At the end of the animation we see that the United States and Brazil had the best recovery rate amongst their patients. Sadly, the rest of the world does not fair as well."
   ]
  },
  {
   "cell_type": "markdown",
   "id": "7c9ae16f-471d-4c20-99e8-18fd33b13ecd",
   "metadata": {},
   "source": [
    "#### STEP 14: WORD CLOUD (DATASET3)\n",
    "\n",
    "Word clouds are visual representations of text data the size of each word represents its frequency in the data. The more frequent the word appears, the larger and bolder it appears within the cloud. This makes it easy to quickly understand themes in the data. Working with dataset3 we will find the leading causes of death from COVID for patients in the United States. We will analyze both the condition and condition group of death. For the Word Cloud to populate properly we first have to: convert the array of data into a list, consolidate our strings into one, and then visualize the string into a word cloud."
   ]
  },
  {
   "cell_type": "code",
   "execution_count": 175,
   "id": "74adb2df-00df-40f2-b041-469e0fd501b3",
   "metadata": {},
   "outputs": [
    {
     "data": {
      "text/html": [
       "<div>\n",
       "<style scoped>\n",
       "    .dataframe tbody tr th:only-of-type {\n",
       "        vertical-align: middle;\n",
       "    }\n",
       "\n",
       "    .dataframe tbody tr th {\n",
       "        vertical-align: top;\n",
       "    }\n",
       "\n",
       "    .dataframe thead th {\n",
       "        text-align: right;\n",
       "    }\n",
       "</style>\n",
       "<table border=\"1\" class=\"dataframe\">\n",
       "  <thead>\n",
       "    <tr style=\"text-align: right;\">\n",
       "      <th></th>\n",
       "      <th>Data as of</th>\n",
       "      <th>Start Week</th>\n",
       "      <th>End Week</th>\n",
       "      <th>State</th>\n",
       "      <th>Condition Group</th>\n",
       "      <th>Condition</th>\n",
       "      <th>ICD10_codes</th>\n",
       "      <th>Age Group</th>\n",
       "      <th>Number of COVID-19 Deaths</th>\n",
       "      <th>Flag</th>\n",
       "    </tr>\n",
       "  </thead>\n",
       "  <tbody>\n",
       "    <tr>\n",
       "      <th>0</th>\n",
       "      <td>08/30/2020</td>\n",
       "      <td>02/01/2020</td>\n",
       "      <td>08/29/2020</td>\n",
       "      <td>US</td>\n",
       "      <td>Respiratory diseases</td>\n",
       "      <td>Influenza and pneumonia</td>\n",
       "      <td>J09-J18</td>\n",
       "      <td>0-24</td>\n",
       "      <td>122.0</td>\n",
       "      <td>NaN</td>\n",
       "    </tr>\n",
       "    <tr>\n",
       "      <th>1</th>\n",
       "      <td>08/30/2020</td>\n",
       "      <td>02/01/2020</td>\n",
       "      <td>08/29/2020</td>\n",
       "      <td>US</td>\n",
       "      <td>Respiratory diseases</td>\n",
       "      <td>Influenza and pneumonia</td>\n",
       "      <td>J09-J18</td>\n",
       "      <td>25-34</td>\n",
       "      <td>596.0</td>\n",
       "      <td>NaN</td>\n",
       "    </tr>\n",
       "    <tr>\n",
       "      <th>2</th>\n",
       "      <td>08/30/2020</td>\n",
       "      <td>02/01/2020</td>\n",
       "      <td>08/29/2020</td>\n",
       "      <td>US</td>\n",
       "      <td>Respiratory diseases</td>\n",
       "      <td>Influenza and pneumonia</td>\n",
       "      <td>J09-J18</td>\n",
       "      <td>35-44</td>\n",
       "      <td>1521.0</td>\n",
       "      <td>NaN</td>\n",
       "    </tr>\n",
       "    <tr>\n",
       "      <th>3</th>\n",
       "      <td>08/30/2020</td>\n",
       "      <td>02/01/2020</td>\n",
       "      <td>08/29/2020</td>\n",
       "      <td>US</td>\n",
       "      <td>Respiratory diseases</td>\n",
       "      <td>Influenza and pneumonia</td>\n",
       "      <td>J09-J18</td>\n",
       "      <td>45-54</td>\n",
       "      <td>4186.0</td>\n",
       "      <td>NaN</td>\n",
       "    </tr>\n",
       "    <tr>\n",
       "      <th>4</th>\n",
       "      <td>08/30/2020</td>\n",
       "      <td>02/01/2020</td>\n",
       "      <td>08/29/2020</td>\n",
       "      <td>US</td>\n",
       "      <td>Respiratory diseases</td>\n",
       "      <td>Influenza and pneumonia</td>\n",
       "      <td>J09-J18</td>\n",
       "      <td>55-64</td>\n",
       "      <td>10014.0</td>\n",
       "      <td>NaN</td>\n",
       "    </tr>\n",
       "    <tr>\n",
       "      <th>...</th>\n",
       "      <td>...</td>\n",
       "      <td>...</td>\n",
       "      <td>...</td>\n",
       "      <td>...</td>\n",
       "      <td>...</td>\n",
       "      <td>...</td>\n",
       "      <td>...</td>\n",
       "      <td>...</td>\n",
       "      <td>...</td>\n",
       "      <td>...</td>\n",
       "    </tr>\n",
       "    <tr>\n",
       "      <th>295</th>\n",
       "      <td>08/30/2020</td>\n",
       "      <td>02/01/2020</td>\n",
       "      <td>08/29/2020</td>\n",
       "      <td>AK</td>\n",
       "      <td>Circulatory diseases</td>\n",
       "      <td>Ischemic heart disease</td>\n",
       "      <td>I20-I25</td>\n",
       "      <td>65-74</td>\n",
       "      <td>NaN</td>\n",
       "      <td>Counts less than 10 suppressed.</td>\n",
       "    </tr>\n",
       "    <tr>\n",
       "      <th>296</th>\n",
       "      <td>08/30/2020</td>\n",
       "      <td>02/01/2020</td>\n",
       "      <td>08/29/2020</td>\n",
       "      <td>AK</td>\n",
       "      <td>Circulatory diseases</td>\n",
       "      <td>Ischemic heart disease</td>\n",
       "      <td>I20-I25</td>\n",
       "      <td>75-84</td>\n",
       "      <td>NaN</td>\n",
       "      <td>Counts less than 10 suppressed.</td>\n",
       "    </tr>\n",
       "    <tr>\n",
       "      <th>297</th>\n",
       "      <td>08/30/2020</td>\n",
       "      <td>02/01/2020</td>\n",
       "      <td>08/29/2020</td>\n",
       "      <td>AK</td>\n",
       "      <td>Circulatory diseases</td>\n",
       "      <td>Ischemic heart disease</td>\n",
       "      <td>I20-I25</td>\n",
       "      <td>85+</td>\n",
       "      <td>NaN</td>\n",
       "      <td>Counts less than 10 suppressed.</td>\n",
       "    </tr>\n",
       "    <tr>\n",
       "      <th>298</th>\n",
       "      <td>08/30/2020</td>\n",
       "      <td>02/01/2020</td>\n",
       "      <td>08/29/2020</td>\n",
       "      <td>AK</td>\n",
       "      <td>Circulatory diseases</td>\n",
       "      <td>Ischemic heart disease</td>\n",
       "      <td>I20-I25</td>\n",
       "      <td>Not stated</td>\n",
       "      <td>NaN</td>\n",
       "      <td>Counts less than 10 suppressed.</td>\n",
       "    </tr>\n",
       "    <tr>\n",
       "      <th>299</th>\n",
       "      <td>08/30/2020</td>\n",
       "      <td>02/01/2020</td>\n",
       "      <td>08/29/2020</td>\n",
       "      <td>AK</td>\n",
       "      <td>Circulatory diseases</td>\n",
       "      <td>Ischemic heart disease</td>\n",
       "      <td>I20-I25</td>\n",
       "      <td>All ages</td>\n",
       "      <td>NaN</td>\n",
       "      <td>Counts less than 10 suppressed.</td>\n",
       "    </tr>\n",
       "  </tbody>\n",
       "</table>\n",
       "<p>300 rows × 10 columns</p>\n",
       "</div>"
      ],
      "text/plain": [
       "     Data as of  Start Week    End Week State       Condition Group  \\\n",
       "0    08/30/2020  02/01/2020  08/29/2020    US  Respiratory diseases   \n",
       "1    08/30/2020  02/01/2020  08/29/2020    US  Respiratory diseases   \n",
       "2    08/30/2020  02/01/2020  08/29/2020    US  Respiratory diseases   \n",
       "3    08/30/2020  02/01/2020  08/29/2020    US  Respiratory diseases   \n",
       "4    08/30/2020  02/01/2020  08/29/2020    US  Respiratory diseases   \n",
       "..          ...         ...         ...   ...                   ...   \n",
       "295  08/30/2020  02/01/2020  08/29/2020    AK  Circulatory diseases   \n",
       "296  08/30/2020  02/01/2020  08/29/2020    AK  Circulatory diseases   \n",
       "297  08/30/2020  02/01/2020  08/29/2020    AK  Circulatory diseases   \n",
       "298  08/30/2020  02/01/2020  08/29/2020    AK  Circulatory diseases   \n",
       "299  08/30/2020  02/01/2020  08/29/2020    AK  Circulatory diseases   \n",
       "\n",
       "                   Condition ICD10_codes   Age Group  \\\n",
       "0    Influenza and pneumonia     J09-J18        0-24   \n",
       "1    Influenza and pneumonia     J09-J18       25-34   \n",
       "2    Influenza and pneumonia     J09-J18       35-44   \n",
       "3    Influenza and pneumonia     J09-J18       45-54   \n",
       "4    Influenza and pneumonia     J09-J18       55-64   \n",
       "..                       ...         ...         ...   \n",
       "295   Ischemic heart disease     I20-I25       65-74   \n",
       "296   Ischemic heart disease     I20-I25       75-84   \n",
       "297   Ischemic heart disease     I20-I25         85+   \n",
       "298   Ischemic heart disease     I20-I25  Not stated   \n",
       "299   Ischemic heart disease     I20-I25    All ages   \n",
       "\n",
       "     Number of COVID-19 Deaths                             Flag  \n",
       "0                        122.0                              NaN  \n",
       "1                        596.0                              NaN  \n",
       "2                       1521.0                              NaN  \n",
       "3                       4186.0                              NaN  \n",
       "4                      10014.0                              NaN  \n",
       "..                         ...                              ...  \n",
       "295                        NaN  Counts less than 10 suppressed.  \n",
       "296                        NaN  Counts less than 10 suppressed.  \n",
       "297                        NaN  Counts less than 10 suppressed.  \n",
       "298                        NaN  Counts less than 10 suppressed.  \n",
       "299                        NaN  Counts less than 10 suppressed.  \n",
       "\n",
       "[300 rows x 10 columns]"
      ]
     },
     "execution_count": 175,
     "metadata": {},
     "output_type": "execute_result"
    }
   ],
   "source": [
    "# Import the dataset and preview the data\n",
    "dataset3 = pd.read_csv(\"./data/coviddeath.csv\")\n",
    "dataset3.head(300)"
   ]
  },
  {
   "cell_type": "code",
   "execution_count": 177,
   "id": "aa8c6e2d-f16d-4642-aefe-c40dccb958e5",
   "metadata": {},
   "outputs": [
    {
     "data": {
      "text/html": [
       "<div>\n",
       "<style scoped>\n",
       "    .dataframe tbody tr th:only-of-type {\n",
       "        vertical-align: middle;\n",
       "    }\n",
       "\n",
       "    .dataframe tbody tr th {\n",
       "        vertical-align: top;\n",
       "    }\n",
       "\n",
       "    .dataframe thead th {\n",
       "        text-align: right;\n",
       "    }\n",
       "</style>\n",
       "<table border=\"1\" class=\"dataframe\">\n",
       "  <thead>\n",
       "    <tr style=\"text-align: right;\">\n",
       "      <th></th>\n",
       "      <th>Data as of</th>\n",
       "      <th>Start Week</th>\n",
       "      <th>End Week</th>\n",
       "      <th>State</th>\n",
       "      <th>Condition Group</th>\n",
       "      <th>Condition</th>\n",
       "      <th>ICD10_codes</th>\n",
       "      <th>Age Group</th>\n",
       "      <th>Number of COVID-19 Deaths</th>\n",
       "      <th>Flag</th>\n",
       "    </tr>\n",
       "  </thead>\n",
       "  <tbody>\n",
       "    <tr>\n",
       "      <th>12060</th>\n",
       "      <td>08/30/2020</td>\n",
       "      <td>02/01/2020</td>\n",
       "      <td>08/29/2020</td>\n",
       "      <td>YC</td>\n",
       "      <td>Respiratory diseases</td>\n",
       "      <td>Respiratory failure</td>\n",
       "      <td>J96</td>\n",
       "      <td>0-24</td>\n",
       "      <td>13.0</td>\n",
       "      <td>NaN</td>\n",
       "    </tr>\n",
       "    <tr>\n",
       "      <th>12061</th>\n",
       "      <td>08/30/2020</td>\n",
       "      <td>02/01/2020</td>\n",
       "      <td>08/29/2020</td>\n",
       "      <td>YC</td>\n",
       "      <td>Respiratory diseases</td>\n",
       "      <td>Respiratory failure</td>\n",
       "      <td>J96</td>\n",
       "      <td>25-34</td>\n",
       "      <td>51.0</td>\n",
       "      <td>NaN</td>\n",
       "    </tr>\n",
       "    <tr>\n",
       "      <th>12062</th>\n",
       "      <td>08/30/2020</td>\n",
       "      <td>02/01/2020</td>\n",
       "      <td>08/29/2020</td>\n",
       "      <td>YC</td>\n",
       "      <td>Respiratory diseases</td>\n",
       "      <td>Respiratory failure</td>\n",
       "      <td>J96</td>\n",
       "      <td>35-44</td>\n",
       "      <td>136.0</td>\n",
       "      <td>NaN</td>\n",
       "    </tr>\n",
       "    <tr>\n",
       "      <th>12063</th>\n",
       "      <td>08/30/2020</td>\n",
       "      <td>02/01/2020</td>\n",
       "      <td>08/29/2020</td>\n",
       "      <td>YC</td>\n",
       "      <td>Respiratory diseases</td>\n",
       "      <td>Respiratory failure</td>\n",
       "      <td>J96</td>\n",
       "      <td>45-54</td>\n",
       "      <td>411.0</td>\n",
       "      <td>NaN</td>\n",
       "    </tr>\n",
       "    <tr>\n",
       "      <th>12064</th>\n",
       "      <td>08/30/2020</td>\n",
       "      <td>02/01/2020</td>\n",
       "      <td>08/29/2020</td>\n",
       "      <td>YC</td>\n",
       "      <td>Respiratory diseases</td>\n",
       "      <td>Respiratory failure</td>\n",
       "      <td>J96</td>\n",
       "      <td>55-64</td>\n",
       "      <td>964.0</td>\n",
       "      <td>NaN</td>\n",
       "    </tr>\n",
       "    <tr>\n",
       "      <th>...</th>\n",
       "      <td>...</td>\n",
       "      <td>...</td>\n",
       "      <td>...</td>\n",
       "      <td>...</td>\n",
       "      <td>...</td>\n",
       "      <td>...</td>\n",
       "      <td>...</td>\n",
       "      <td>...</td>\n",
       "      <td>...</td>\n",
       "      <td>...</td>\n",
       "    </tr>\n",
       "    <tr>\n",
       "      <th>12255</th>\n",
       "      <td>08/30/2020</td>\n",
       "      <td>02/01/2020</td>\n",
       "      <td>08/29/2020</td>\n",
       "      <td>YC</td>\n",
       "      <td>Coronavirus Disease 2019</td>\n",
       "      <td>COVID-19</td>\n",
       "      <td>U071</td>\n",
       "      <td>65-74</td>\n",
       "      <td>5024.0</td>\n",
       "      <td>NaN</td>\n",
       "    </tr>\n",
       "    <tr>\n",
       "      <th>12256</th>\n",
       "      <td>08/30/2020</td>\n",
       "      <td>02/01/2020</td>\n",
       "      <td>08/29/2020</td>\n",
       "      <td>YC</td>\n",
       "      <td>Coronavirus Disease 2019</td>\n",
       "      <td>COVID-19</td>\n",
       "      <td>U071</td>\n",
       "      <td>75-84</td>\n",
       "      <td>5381.0</td>\n",
       "      <td>NaN</td>\n",
       "    </tr>\n",
       "    <tr>\n",
       "      <th>12257</th>\n",
       "      <td>08/30/2020</td>\n",
       "      <td>02/01/2020</td>\n",
       "      <td>08/29/2020</td>\n",
       "      <td>YC</td>\n",
       "      <td>Coronavirus Disease 2019</td>\n",
       "      <td>COVID-19</td>\n",
       "      <td>U071</td>\n",
       "      <td>85+</td>\n",
       "      <td>4841.0</td>\n",
       "      <td>NaN</td>\n",
       "    </tr>\n",
       "    <tr>\n",
       "      <th>12258</th>\n",
       "      <td>08/30/2020</td>\n",
       "      <td>02/01/2020</td>\n",
       "      <td>08/29/2020</td>\n",
       "      <td>YC</td>\n",
       "      <td>Coronavirus Disease 2019</td>\n",
       "      <td>COVID-19</td>\n",
       "      <td>U071</td>\n",
       "      <td>Not stated</td>\n",
       "      <td>NaN</td>\n",
       "      <td>Counts less than 10 suppressed.</td>\n",
       "    </tr>\n",
       "    <tr>\n",
       "      <th>12259</th>\n",
       "      <td>08/30/2020</td>\n",
       "      <td>02/01/2020</td>\n",
       "      <td>08/29/2020</td>\n",
       "      <td>YC</td>\n",
       "      <td>Coronavirus Disease 2019</td>\n",
       "      <td>COVID-19</td>\n",
       "      <td>U071</td>\n",
       "      <td>All ages</td>\n",
       "      <td>20628.0</td>\n",
       "      <td>NaN</td>\n",
       "    </tr>\n",
       "  </tbody>\n",
       "</table>\n",
       "<p>200 rows × 10 columns</p>\n",
       "</div>"
      ],
      "text/plain": [
       "       Data as of  Start Week    End Week State           Condition Group  \\\n",
       "12060  08/30/2020  02/01/2020  08/29/2020    YC      Respiratory diseases   \n",
       "12061  08/30/2020  02/01/2020  08/29/2020    YC      Respiratory diseases   \n",
       "12062  08/30/2020  02/01/2020  08/29/2020    YC      Respiratory diseases   \n",
       "12063  08/30/2020  02/01/2020  08/29/2020    YC      Respiratory diseases   \n",
       "12064  08/30/2020  02/01/2020  08/29/2020    YC      Respiratory diseases   \n",
       "...           ...         ...         ...   ...                       ...   \n",
       "12255  08/30/2020  02/01/2020  08/29/2020    YC  Coronavirus Disease 2019   \n",
       "12256  08/30/2020  02/01/2020  08/29/2020    YC  Coronavirus Disease 2019   \n",
       "12257  08/30/2020  02/01/2020  08/29/2020    YC  Coronavirus Disease 2019   \n",
       "12258  08/30/2020  02/01/2020  08/29/2020    YC  Coronavirus Disease 2019   \n",
       "12259  08/30/2020  02/01/2020  08/29/2020    YC  Coronavirus Disease 2019   \n",
       "\n",
       "                 Condition ICD10_codes   Age Group  Number of COVID-19 Deaths  \\\n",
       "12060  Respiratory failure         J96        0-24                       13.0   \n",
       "12061  Respiratory failure         J96       25-34                       51.0   \n",
       "12062  Respiratory failure         J96       35-44                      136.0   \n",
       "12063  Respiratory failure         J96       45-54                      411.0   \n",
       "12064  Respiratory failure         J96       55-64                      964.0   \n",
       "...                    ...         ...         ...                        ...   \n",
       "12255             COVID-19        U071       65-74                     5024.0   \n",
       "12256             COVID-19        U071       75-84                     5381.0   \n",
       "12257             COVID-19        U071         85+                     4841.0   \n",
       "12258             COVID-19        U071  Not stated                        NaN   \n",
       "12259             COVID-19        U071    All ages                    20628.0   \n",
       "\n",
       "                                  Flag  \n",
       "12060                              NaN  \n",
       "12061                              NaN  \n",
       "12062                              NaN  \n",
       "12063                              NaN  \n",
       "12064                              NaN  \n",
       "...                                ...  \n",
       "12255                              NaN  \n",
       "12256                              NaN  \n",
       "12257                              NaN  \n",
       "12258  Counts less than 10 suppressed.  \n",
       "12259                              NaN  \n",
       "\n",
       "[200 rows x 10 columns]"
      ]
     },
     "execution_count": 177,
     "metadata": {},
     "output_type": "execute_result"
    }
   ],
   "source": [
    "dataset3.tail(200)"
   ]
  },
  {
   "cell_type": "markdown",
   "id": "6f4b4472-8acf-4b21-9064-cf507510a83d",
   "metadata": {},
   "source": [
    "Lets create a summary of how many entries exists for each condition:"
   ]
  },
  {
   "cell_type": "code",
   "execution_count": 179,
   "id": "fffe2556-b5d2-40d2-a8a6-016a121102b7",
   "metadata": {},
   "outputs": [
    {
     "data": {
      "text/html": [
       "<div>\n",
       "<style scoped>\n",
       "    .dataframe tbody tr th:only-of-type {\n",
       "        vertical-align: middle;\n",
       "    }\n",
       "\n",
       "    .dataframe tbody tr th {\n",
       "        vertical-align: top;\n",
       "    }\n",
       "\n",
       "    .dataframe thead th {\n",
       "        text-align: right;\n",
       "    }\n",
       "</style>\n",
       "<table border=\"1\" class=\"dataframe\">\n",
       "  <thead>\n",
       "    <tr style=\"text-align: right;\">\n",
       "      <th></th>\n",
       "      <th>Data as of</th>\n",
       "      <th>Start Week</th>\n",
       "      <th>End Week</th>\n",
       "      <th>State</th>\n",
       "      <th>Condition Group</th>\n",
       "      <th>ICD10_codes</th>\n",
       "      <th>Age Group</th>\n",
       "      <th>Number of COVID-19 Deaths</th>\n",
       "      <th>Flag</th>\n",
       "    </tr>\n",
       "    <tr>\n",
       "      <th>Condition</th>\n",
       "      <th></th>\n",
       "      <th></th>\n",
       "      <th></th>\n",
       "      <th></th>\n",
       "      <th></th>\n",
       "      <th></th>\n",
       "      <th></th>\n",
       "      <th></th>\n",
       "      <th></th>\n",
       "    </tr>\n",
       "  </thead>\n",
       "  <tbody>\n",
       "    <tr>\n",
       "      <th>Adult respiratory distress syndrome</th>\n",
       "      <td>540</td>\n",
       "      <td>540</td>\n",
       "      <td>540</td>\n",
       "      <td>540</td>\n",
       "      <td>540</td>\n",
       "      <td>540</td>\n",
       "      <td>540</td>\n",
       "      <td>272</td>\n",
       "      <td>268</td>\n",
       "    </tr>\n",
       "    <tr>\n",
       "      <th>All other conditions and causes (residual)</th>\n",
       "      <td>540</td>\n",
       "      <td>540</td>\n",
       "      <td>540</td>\n",
       "      <td>540</td>\n",
       "      <td>540</td>\n",
       "      <td>540</td>\n",
       "      <td>540</td>\n",
       "      <td>363</td>\n",
       "      <td>177</td>\n",
       "    </tr>\n",
       "    <tr>\n",
       "      <th>Alzheimer disease</th>\n",
       "      <td>530</td>\n",
       "      <td>530</td>\n",
       "      <td>530</td>\n",
       "      <td>530</td>\n",
       "      <td>530</td>\n",
       "      <td>530</td>\n",
       "      <td>530</td>\n",
       "      <td>144</td>\n",
       "      <td>386</td>\n",
       "    </tr>\n",
       "    <tr>\n",
       "      <th>COVID-19</th>\n",
       "      <td>540</td>\n",
       "      <td>540</td>\n",
       "      <td>540</td>\n",
       "      <td>540</td>\n",
       "      <td>540</td>\n",
       "      <td>540</td>\n",
       "      <td>540</td>\n",
       "      <td>377</td>\n",
       "      <td>163</td>\n",
       "    </tr>\n",
       "    <tr>\n",
       "      <th>Cardiac arrest</th>\n",
       "      <td>520</td>\n",
       "      <td>520</td>\n",
       "      <td>520</td>\n",
       "      <td>520</td>\n",
       "      <td>520</td>\n",
       "      <td>520</td>\n",
       "      <td>520</td>\n",
       "      <td>219</td>\n",
       "      <td>301</td>\n",
       "    </tr>\n",
       "    <tr>\n",
       "      <th>Cardiac arrhythmia</th>\n",
       "      <td>540</td>\n",
       "      <td>540</td>\n",
       "      <td>540</td>\n",
       "      <td>540</td>\n",
       "      <td>540</td>\n",
       "      <td>540</td>\n",
       "      <td>540</td>\n",
       "      <td>192</td>\n",
       "      <td>348</td>\n",
       "    </tr>\n",
       "    <tr>\n",
       "      <th>Cerebrovascular diseases</th>\n",
       "      <td>530</td>\n",
       "      <td>530</td>\n",
       "      <td>530</td>\n",
       "      <td>530</td>\n",
       "      <td>530</td>\n",
       "      <td>530</td>\n",
       "      <td>530</td>\n",
       "      <td>187</td>\n",
       "      <td>343</td>\n",
       "    </tr>\n",
       "    <tr>\n",
       "      <th>Chronic lower respiratory diseases</th>\n",
       "      <td>540</td>\n",
       "      <td>540</td>\n",
       "      <td>540</td>\n",
       "      <td>540</td>\n",
       "      <td>540</td>\n",
       "      <td>540</td>\n",
       "      <td>540</td>\n",
       "      <td>229</td>\n",
       "      <td>311</td>\n",
       "    </tr>\n",
       "    <tr>\n",
       "      <th>Diabetes</th>\n",
       "      <td>540</td>\n",
       "      <td>540</td>\n",
       "      <td>540</td>\n",
       "      <td>540</td>\n",
       "      <td>540</td>\n",
       "      <td>540</td>\n",
       "      <td>540</td>\n",
       "      <td>276</td>\n",
       "      <td>264</td>\n",
       "    </tr>\n",
       "    <tr>\n",
       "      <th>Heart failure</th>\n",
       "      <td>540</td>\n",
       "      <td>540</td>\n",
       "      <td>540</td>\n",
       "      <td>540</td>\n",
       "      <td>540</td>\n",
       "      <td>540</td>\n",
       "      <td>540</td>\n",
       "      <td>204</td>\n",
       "      <td>336</td>\n",
       "    </tr>\n",
       "    <tr>\n",
       "      <th>Hypertensive diseases</th>\n",
       "      <td>540</td>\n",
       "      <td>540</td>\n",
       "      <td>540</td>\n",
       "      <td>540</td>\n",
       "      <td>540</td>\n",
       "      <td>540</td>\n",
       "      <td>540</td>\n",
       "      <td>264</td>\n",
       "      <td>276</td>\n",
       "    </tr>\n",
       "    <tr>\n",
       "      <th>Influenza and pneumonia</th>\n",
       "      <td>540</td>\n",
       "      <td>540</td>\n",
       "      <td>540</td>\n",
       "      <td>540</td>\n",
       "      <td>540</td>\n",
       "      <td>540</td>\n",
       "      <td>540</td>\n",
       "      <td>331</td>\n",
       "      <td>209</td>\n",
       "    </tr>\n",
       "    <tr>\n",
       "      <th>Intentional and unintentional injury, poisoning, and other adverse events</th>\n",
       "      <td>520</td>\n",
       "      <td>520</td>\n",
       "      <td>520</td>\n",
       "      <td>520</td>\n",
       "      <td>520</td>\n",
       "      <td>520</td>\n",
       "      <td>520</td>\n",
       "      <td>188</td>\n",
       "      <td>332</td>\n",
       "    </tr>\n",
       "    <tr>\n",
       "      <th>Ischemic heart disease</th>\n",
       "      <td>540</td>\n",
       "      <td>540</td>\n",
       "      <td>540</td>\n",
       "      <td>540</td>\n",
       "      <td>540</td>\n",
       "      <td>540</td>\n",
       "      <td>540</td>\n",
       "      <td>224</td>\n",
       "      <td>316</td>\n",
       "    </tr>\n",
       "    <tr>\n",
       "      <th>Malignant neoplasms</th>\n",
       "      <td>540</td>\n",
       "      <td>540</td>\n",
       "      <td>540</td>\n",
       "      <td>540</td>\n",
       "      <td>540</td>\n",
       "      <td>540</td>\n",
       "      <td>540</td>\n",
       "      <td>198</td>\n",
       "      <td>342</td>\n",
       "    </tr>\n",
       "    <tr>\n",
       "      <th>Obesity</th>\n",
       "      <td>530</td>\n",
       "      <td>530</td>\n",
       "      <td>530</td>\n",
       "      <td>530</td>\n",
       "      <td>530</td>\n",
       "      <td>530</td>\n",
       "      <td>530</td>\n",
       "      <td>182</td>\n",
       "      <td>348</td>\n",
       "    </tr>\n",
       "    <tr>\n",
       "      <th>Other diseases of the circulatory system</th>\n",
       "      <td>530</td>\n",
       "      <td>530</td>\n",
       "      <td>530</td>\n",
       "      <td>530</td>\n",
       "      <td>530</td>\n",
       "      <td>530</td>\n",
       "      <td>530</td>\n",
       "      <td>213</td>\n",
       "      <td>317</td>\n",
       "    </tr>\n",
       "    <tr>\n",
       "      <th>Other diseases of the respiratory system</th>\n",
       "      <td>540</td>\n",
       "      <td>540</td>\n",
       "      <td>540</td>\n",
       "      <td>540</td>\n",
       "      <td>540</td>\n",
       "      <td>540</td>\n",
       "      <td>540</td>\n",
       "      <td>188</td>\n",
       "      <td>352</td>\n",
       "    </tr>\n",
       "    <tr>\n",
       "      <th>Renal failure</th>\n",
       "      <td>540</td>\n",
       "      <td>540</td>\n",
       "      <td>540</td>\n",
       "      <td>540</td>\n",
       "      <td>540</td>\n",
       "      <td>540</td>\n",
       "      <td>540</td>\n",
       "      <td>238</td>\n",
       "      <td>302</td>\n",
       "    </tr>\n",
       "    <tr>\n",
       "      <th>Respiratory arrest</th>\n",
       "      <td>480</td>\n",
       "      <td>480</td>\n",
       "      <td>480</td>\n",
       "      <td>480</td>\n",
       "      <td>480</td>\n",
       "      <td>480</td>\n",
       "      <td>480</td>\n",
       "      <td>111</td>\n",
       "      <td>369</td>\n",
       "    </tr>\n",
       "    <tr>\n",
       "      <th>Respiratory failure</th>\n",
       "      <td>540</td>\n",
       "      <td>540</td>\n",
       "      <td>540</td>\n",
       "      <td>540</td>\n",
       "      <td>540</td>\n",
       "      <td>540</td>\n",
       "      <td>540</td>\n",
       "      <td>320</td>\n",
       "      <td>220</td>\n",
       "    </tr>\n",
       "    <tr>\n",
       "      <th>Sepsis</th>\n",
       "      <td>530</td>\n",
       "      <td>530</td>\n",
       "      <td>530</td>\n",
       "      <td>530</td>\n",
       "      <td>530</td>\n",
       "      <td>530</td>\n",
       "      <td>530</td>\n",
       "      <td>243</td>\n",
       "      <td>287</td>\n",
       "    </tr>\n",
       "    <tr>\n",
       "      <th>Vascular and unspecified dementia</th>\n",
       "      <td>530</td>\n",
       "      <td>530</td>\n",
       "      <td>530</td>\n",
       "      <td>530</td>\n",
       "      <td>530</td>\n",
       "      <td>530</td>\n",
       "      <td>530</td>\n",
       "      <td>191</td>\n",
       "      <td>339</td>\n",
       "    </tr>\n",
       "  </tbody>\n",
       "</table>\n",
       "</div>"
      ],
      "text/plain": [
       "                                                    Data as of  Start Week  \\\n",
       "Condition                                                                    \n",
       "Adult respiratory distress syndrome                        540         540   \n",
       "All other conditions and causes (residual)                 540         540   \n",
       "Alzheimer disease                                          530         530   \n",
       "COVID-19                                                   540         540   \n",
       "Cardiac arrest                                             520         520   \n",
       "Cardiac arrhythmia                                         540         540   \n",
       "Cerebrovascular diseases                                   530         530   \n",
       "Chronic lower respiratory diseases                         540         540   \n",
       "Diabetes                                                   540         540   \n",
       "Heart failure                                              540         540   \n",
       "Hypertensive diseases                                      540         540   \n",
       "Influenza and pneumonia                                    540         540   \n",
       "Intentional and unintentional injury, poisoning...         520         520   \n",
       "Ischemic heart disease                                     540         540   \n",
       "Malignant neoplasms                                        540         540   \n",
       "Obesity                                                    530         530   \n",
       "Other diseases of the circulatory system                   530         530   \n",
       "Other diseases of the respiratory system                   540         540   \n",
       "Renal failure                                              540         540   \n",
       "Respiratory arrest                                         480         480   \n",
       "Respiratory failure                                        540         540   \n",
       "Sepsis                                                     530         530   \n",
       "Vascular and unspecified dementia                          530         530   \n",
       "\n",
       "                                                    End Week  State  \\\n",
       "Condition                                                             \n",
       "Adult respiratory distress syndrome                      540    540   \n",
       "All other conditions and causes (residual)               540    540   \n",
       "Alzheimer disease                                        530    530   \n",
       "COVID-19                                                 540    540   \n",
       "Cardiac arrest                                           520    520   \n",
       "Cardiac arrhythmia                                       540    540   \n",
       "Cerebrovascular diseases                                 530    530   \n",
       "Chronic lower respiratory diseases                       540    540   \n",
       "Diabetes                                                 540    540   \n",
       "Heart failure                                            540    540   \n",
       "Hypertensive diseases                                    540    540   \n",
       "Influenza and pneumonia                                  540    540   \n",
       "Intentional and unintentional injury, poisoning...       520    520   \n",
       "Ischemic heart disease                                   540    540   \n",
       "Malignant neoplasms                                      540    540   \n",
       "Obesity                                                  530    530   \n",
       "Other diseases of the circulatory system                 530    530   \n",
       "Other diseases of the respiratory system                 540    540   \n",
       "Renal failure                                            540    540   \n",
       "Respiratory arrest                                       480    480   \n",
       "Respiratory failure                                      540    540   \n",
       "Sepsis                                                   530    530   \n",
       "Vascular and unspecified dementia                        530    530   \n",
       "\n",
       "                                                    Condition Group  \\\n",
       "Condition                                                             \n",
       "Adult respiratory distress syndrome                             540   \n",
       "All other conditions and causes (residual)                      540   \n",
       "Alzheimer disease                                               530   \n",
       "COVID-19                                                        540   \n",
       "Cardiac arrest                                                  520   \n",
       "Cardiac arrhythmia                                              540   \n",
       "Cerebrovascular diseases                                        530   \n",
       "Chronic lower respiratory diseases                              540   \n",
       "Diabetes                                                        540   \n",
       "Heart failure                                                   540   \n",
       "Hypertensive diseases                                           540   \n",
       "Influenza and pneumonia                                         540   \n",
       "Intentional and unintentional injury, poisoning...              520   \n",
       "Ischemic heart disease                                          540   \n",
       "Malignant neoplasms                                             540   \n",
       "Obesity                                                         530   \n",
       "Other diseases of the circulatory system                        530   \n",
       "Other diseases of the respiratory system                        540   \n",
       "Renal failure                                                   540   \n",
       "Respiratory arrest                                              480   \n",
       "Respiratory failure                                             540   \n",
       "Sepsis                                                          530   \n",
       "Vascular and unspecified dementia                               530   \n",
       "\n",
       "                                                    ICD10_codes  Age Group  \\\n",
       "Condition                                                                    \n",
       "Adult respiratory distress syndrome                         540        540   \n",
       "All other conditions and causes (residual)                  540        540   \n",
       "Alzheimer disease                                           530        530   \n",
       "COVID-19                                                    540        540   \n",
       "Cardiac arrest                                              520        520   \n",
       "Cardiac arrhythmia                                          540        540   \n",
       "Cerebrovascular diseases                                    530        530   \n",
       "Chronic lower respiratory diseases                          540        540   \n",
       "Diabetes                                                    540        540   \n",
       "Heart failure                                               540        540   \n",
       "Hypertensive diseases                                       540        540   \n",
       "Influenza and pneumonia                                     540        540   \n",
       "Intentional and unintentional injury, poisoning...          520        520   \n",
       "Ischemic heart disease                                      540        540   \n",
       "Malignant neoplasms                                         540        540   \n",
       "Obesity                                                     530        530   \n",
       "Other diseases of the circulatory system                    530        530   \n",
       "Other diseases of the respiratory system                    540        540   \n",
       "Renal failure                                               540        540   \n",
       "Respiratory arrest                                          480        480   \n",
       "Respiratory failure                                         540        540   \n",
       "Sepsis                                                      530        530   \n",
       "Vascular and unspecified dementia                           530        530   \n",
       "\n",
       "                                                    Number of COVID-19 Deaths  \\\n",
       "Condition                                                                       \n",
       "Adult respiratory distress syndrome                                       272   \n",
       "All other conditions and causes (residual)                                363   \n",
       "Alzheimer disease                                                         144   \n",
       "COVID-19                                                                  377   \n",
       "Cardiac arrest                                                            219   \n",
       "Cardiac arrhythmia                                                        192   \n",
       "Cerebrovascular diseases                                                  187   \n",
       "Chronic lower respiratory diseases                                        229   \n",
       "Diabetes                                                                  276   \n",
       "Heart failure                                                             204   \n",
       "Hypertensive diseases                                                     264   \n",
       "Influenza and pneumonia                                                   331   \n",
       "Intentional and unintentional injury, poisoning...                        188   \n",
       "Ischemic heart disease                                                    224   \n",
       "Malignant neoplasms                                                       198   \n",
       "Obesity                                                                   182   \n",
       "Other diseases of the circulatory system                                  213   \n",
       "Other diseases of the respiratory system                                  188   \n",
       "Renal failure                                                             238   \n",
       "Respiratory arrest                                                        111   \n",
       "Respiratory failure                                                       320   \n",
       "Sepsis                                                                    243   \n",
       "Vascular and unspecified dementia                                         191   \n",
       "\n",
       "                                                    Flag  \n",
       "Condition                                                 \n",
       "Adult respiratory distress syndrome                  268  \n",
       "All other conditions and causes (residual)           177  \n",
       "Alzheimer disease                                    386  \n",
       "COVID-19                                             163  \n",
       "Cardiac arrest                                       301  \n",
       "Cardiac arrhythmia                                   348  \n",
       "Cerebrovascular diseases                             343  \n",
       "Chronic lower respiratory diseases                   311  \n",
       "Diabetes                                             264  \n",
       "Heart failure                                        336  \n",
       "Hypertensive diseases                                276  \n",
       "Influenza and pneumonia                              209  \n",
       "Intentional and unintentional injury, poisoning...   332  \n",
       "Ischemic heart disease                               316  \n",
       "Malignant neoplasms                                  342  \n",
       "Obesity                                              348  \n",
       "Other diseases of the circulatory system             317  \n",
       "Other diseases of the respiratory system             352  \n",
       "Renal failure                                        302  \n",
       "Respiratory arrest                                   369  \n",
       "Respiratory failure                                  220  \n",
       "Sepsis                                               287  \n",
       "Vascular and unspecified dementia                    339  "
      ]
     },
     "execution_count": 179,
     "metadata": {},
     "output_type": "execute_result"
    }
   ],
   "source": [
    "# Group data by condition and count\n",
    "dataset3.groupby([\"Condition\"]).count()"
   ]
  },
  {
   "cell_type": "code",
   "execution_count": 210,
   "id": "64a47952-ae33-41d8-8ead-e4fad867c2fd",
   "metadata": {},
   "outputs": [
    {
     "data": {
      "text/plain": [
       "<matplotlib.image.AxesImage at 0x144b86210>"
      ]
     },
     "execution_count": 210,
     "metadata": {},
     "output_type": "execute_result"
    },
    {
     "data": {
      "image/png": "[encoded data removed]",
      "text/plain": [
       "<Figure size 10000x10000 with 1 Axes>"
      ]
     },
     "metadata": {},
     "output_type": "display_data"
    }
   ],
   "source": [
    "# Import Word Cloud\n",
    "from wordcloud import WordCloud\n",
    "\n",
    "# First convert the array of data into a list, then consolidate our strings into one, then visualize the\n",
    "# string into a word cloud\n",
    "convert_to_list = dataset3[\"Condition\"].tolist()\n",
    "convert_to_one_string = ' '.join(convert_to_list)\n",
    "\n",
    "# Convert the string into WordCloud\n",
    "plt.figure(figsize = (100, 100))\n",
    "plt.imshow(WordCloud().generate(convert_to_one_string))"
   ]
  },
  {
   "cell_type": "markdown",
   "id": "b8d94348-5122-4d79-8d0d-1384f6213758",
   "metadata": {},
   "source": [
    "Now lets look at the condition group, we will repeat the same steps as above:"
   ]
  },
  {
   "cell_type": "code",
   "execution_count": 180,
   "id": "fabc51a0-5b99-47b1-ac11-c1ab367d7e2a",
   "metadata": {},
   "outputs": [
    {
     "ename": "NameError",
     "evalue": "name 'WordCloud' is not defined",
     "output_type": "error",
     "traceback": [
      "\u001b[0;31m---------------------------------------------------------------------------\u001b[0m",
      "\u001b[0;31mNameError\u001b[0m                                 Traceback (most recent call last)",
      "Cell \u001b[0;32mIn[180], line 5\u001b[0m\n\u001b[1;32m      2\u001b[0m convert_to_one_string_2 \u001b[38;5;241m=\u001b[39m \u001b[38;5;124m'\u001b[39m\u001b[38;5;124m \u001b[39m\u001b[38;5;124m'\u001b[39m\u001b[38;5;241m.\u001b[39mjoin(convert_to_list_2)\n\u001b[1;32m      4\u001b[0m plt\u001b[38;5;241m.\u001b[39mfigure(figsize \u001b[38;5;241m=\u001b[39m (\u001b[38;5;241m100\u001b[39m, \u001b[38;5;241m100\u001b[39m))\n\u001b[0;32m----> 5\u001b[0m plt\u001b[38;5;241m.\u001b[39mimshow(WordCloud()\u001b[38;5;241m.\u001b[39mgenerate(convert_to_one_string_2))\n",
      "\u001b[0;31mNameError\u001b[0m: name 'WordCloud' is not defined"
     ]
    },
    {
     "data": {
      "text/plain": [
       "<Figure size 10000x10000 with 0 Axes>"
      ]
     },
     "metadata": {},
     "output_type": "display_data"
    }
   ],
   "source": [
    "convert_to_list_2 = dataset3[\"Condition Group\"].tolist() \n",
    "convert_to_one_string_2 = ' '.join(convert_to_list_2)\n",
    "\n",
    "plt.figure(figsize = (100, 100))\n",
    "plt.imshow(WordCloud().generate(convert_to_one_string_2))"
   ]
  },
  {
   "cell_type": "markdown",
   "id": "ac155302-609f-42da-b455-c569bf25b8f2",
   "metadata": {},
   "source": [
    "Lets see the top causes of death to cross reference the Word Cloud."
   ]
  },
  {
   "cell_type": "code",
   "execution_count": 201,
   "id": "35d2eaab-5036-4b7d-9411-d92d1e26ad72",
   "metadata": {},
   "outputs": [
    {
     "name": "stdout",
     "output_type": "stream",
     "text": [
      "Condition\n",
      "Influenza and pneumonia                                                      540\n",
      "Chronic lower respiratory diseases                                           540\n",
      "Adult respiratory distress syndrome                                          540\n",
      "Respiratory failure                                                          540\n",
      "Other diseases of the respiratory system                                     540\n",
      "Hypertensive diseases                                                        540\n",
      "Ischemic heart disease                                                       540\n",
      "Renal failure                                                                540\n",
      "Cardiac arrhythmia                                                           540\n",
      "Heart failure                                                                540\n",
      "Malignant neoplasms                                                          540\n",
      "COVID-19                                                                     540\n",
      "All other conditions and causes (residual)                                   540\n",
      "Diabetes                                                                     540\n",
      "Vascular and unspecified dementia                                            530\n",
      "Obesity                                                                      530\n",
      "Sepsis                                                                       530\n",
      "Cerebrovascular diseases                                                     530\n",
      "Other diseases of the circulatory system                                     530\n",
      "Alzheimer disease                                                            530\n",
      "Cardiac arrest                                                               520\n",
      "Intentional and unintentional injury, poisoning, and other adverse events    520\n",
      "Respiratory arrest                                                           480\n",
      "Name: count, dtype: int64\n"
     ]
    }
   ],
   "source": [
    "top_causes = dataset3[\"Condition\"].value_counts().sort_values(ascending=False)\n",
    "print(top_causes)"
   ]
  },
  {
   "cell_type": "markdown",
   "id": "7469ee61-9fa2-4b99-a250-f49fecc99899",
   "metadata": {},
   "source": [
    "Lets see the top group of death to cross reference the Word Cloud."
   ]
  },
  {
   "cell_type": "code",
   "execution_count": 202,
   "id": "141e5b44-42dc-4930-8238-19b7f78d50cd",
   "metadata": {},
   "outputs": [
    {
     "name": "stdout",
     "output_type": "stream",
     "text": [
      "Condition Group\n",
      "Circulatory diseases                                                        3740\n",
      "Respiratory diseases                                                        3180\n",
      "Malignant neoplasms                                                          540\n",
      "Diabetes                                                                     540\n",
      "All other conditions and causes (residual)                                   540\n",
      "Coronavirus Disease 2019                                                     540\n",
      "Renal failure                                                                540\n",
      "Sepsis                                                                       530\n",
      "Vascular and unspecified dementia                                            530\n",
      "Alzheimer disease                                                            530\n",
      "Obesity                                                                      530\n",
      "Intentional and unintentional injury, poisoning and other adverse events     520\n",
      "Name: count, dtype: int64\n"
     ]
    }
   ],
   "source": [
    "top_condition_group = dataset3[\"Condition Group\"].value_counts().sort_values(ascending=False)\n",
    "print(top_condition_group)"
   ]
  },
  {
   "cell_type": "markdown",
   "id": "61e0f9a4-d6fb-4b26-9bdf-be4bf5341614",
   "metadata": {},
   "source": [
    "Therefore we can confirm the top causes of death were Influenza and pneumonia--although it is a little less clear. The top causes of death for conditions group were Circulatory diseases.\n",
    "\n",
    "#### Conclusion:\n",
    "Hindsight is indeed 20/20. This analysis highlighted how COVID spread thoroughout the world and what countries were impacted the most, and which faired the best. It would be interesting to continue our analysis into various's countries cause and condition of deaths amongst their population--however there might be significant roadblocks to gather that information. "
   ]
  }
 ],
 "metadata": {
  "kernelspec": {
   "display_name": "Python 3 (ipykernel)",
   "language": "python",
   "name": "python3"
  },
  "language_info": {
   "codemirror_mode": {
    "name": "ipython",
    "version": 3
   },
   "file_extension": ".py",
   "mimetype": "text/x-python",
   "name": "python",
   "nbconvert_exporter": "python",
   "pygments_lexer": "ipython3",
   "version": "3.13.5"
  },
  "widgets": {
   "application/vnd.jupyter.widget-state+json": {
    "state": {},
    "version_major": 2,
    "version_minor": 0
   }
  }
 },
 "nbformat": 4,
 "nbformat_minor": 5
}
