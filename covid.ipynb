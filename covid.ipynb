{
 "cells": [
  {
   "cell_type": "code",
   "execution_count": 59,
   "id": "6b95dfa2-4405-44db-80c7-eaae13accd5c",
   "metadata": {},
   "outputs": [
    {
     "data": {
      "text/html": [
       "        <script type=\"text/javascript\">\n",
       "        window.PlotlyConfig = {MathJaxConfig: 'local'};\n",
       "        if (window.MathJax && window.MathJax.Hub && window.MathJax.Hub.Config) {window.MathJax.Hub.Config({SVG: {font: \"STIX-Web\"}});}\n",
       "        if (typeof require !== 'undefined') {\n",
       "        require.undef(\"plotly\");\n",
       "        requirejs.config({\n",
       "            paths: {\n",
       "                'plotly': ['https://cdn.plot.ly/plotly-2.35.2.min']\n",
       "            }\n",
       "        });\n",
       "        require(['plotly'], function(Plotly) {\n",
       "            window._Plotly = Plotly;\n",
       "        });\n",
       "        }\n",
       "        </script>\n",
       "        "
      ]
     },
     "metadata": {},
     "output_type": "display_data"
    }
   ],
   "source": [
    "\"\"\"\n",
    "This project explores Covid-19 data from ___ and will visualize it using Ployly Express in Python. It will provide \n",
    "more than a dozen of bar charts, line graphs, bubble charts, and scatter plots. Exploration of the data will help \n",
    "people to understand likely complex scenarios unfolding to make predictions for the future. It will examine the \n",
    "impacts of conducting preventative measures and other hygenic practices. It will provide some arguements on which\n",
    "health resources will best manage the outbreak. In closing, this project will summerize modeling, simulation, and \n",
    "analysis.\n",
    "\n",
    "Tools and technology used in the project: \n",
    "    - Google Colab(Runtime type - GPU)\n",
    "\n",
    "Requirements to Build the Project: \n",
    "    - Basic knowledge of Python\n",
    "    - Basic understanding of graphs and charts\n",
    "    - Data visualization\n",
    "    - Pandas\n",
    "    - Numpy\n",
    "    - Matplotlib\n",
    "    - Plotly Express\n",
    "    - Choropleth\n",
    "    - Wordcloud\n",
    "\"\"\"\n",
    "\n",
    "# STEP 1: IMPORT DEPENDENCIES AND LIBRARIES\n",
    "# Import libraries for data analysis and manipulation\n",
    "import plotly.graph_objs as go\n",
    "import plotly.io as pio\n",
    "import plotly.express as px\n",
    "import pandas as pd\n",
    "\n",
    "# Import libraries for data visualization\n",
    "import matplotlib\n",
    "import matplotlib.pyplot as plt\n",
    "\n",
    "# Importing Plotly's offline verision \n",
    "import plotly.offline as py\n",
    "py.init_notebook_mode(connected=True)"
   ]
  },
  {
   "cell_type": "code",
   "execution_count": 60,
   "id": "84036f14-e035-4c7a-aca8-60f624009cac",
   "metadata": {},
   "outputs": [],
   "source": [
    "# Initialize Plotly\n",
    "pio.renderers.default = 'iframe'"
   ]
  },
  {
   "cell_type": "code",
   "execution_count": 61,
   "id": "e82e6b56-037f-4f9b-ba43-f84aabc1953f",
   "metadata": {},
   "outputs": [
    {
     "data": {
      "text/html": [
       "<div>\n",
       "<style scoped>\n",
       "    .dataframe tbody tr th:only-of-type {\n",
       "        vertical-align: middle;\n",
       "    }\n",
       "\n",
       "    .dataframe tbody tr th {\n",
       "        vertical-align: top;\n",
       "    }\n",
       "\n",
       "    .dataframe thead th {\n",
       "        text-align: right;\n",
       "    }\n",
       "</style>\n",
       "<table border=\"1\" class=\"dataframe\">\n",
       "  <thead>\n",
       "    <tr style=\"text-align: right;\">\n",
       "      <th></th>\n",
       "      <th>Country/Region</th>\n",
       "      <th>Continent</th>\n",
       "      <th>Population</th>\n",
       "      <th>TotalCases</th>\n",
       "      <th>NewCases</th>\n",
       "      <th>TotalDeaths</th>\n",
       "      <th>NewDeaths</th>\n",
       "      <th>TotalRecovered</th>\n",
       "      <th>NewRecovered</th>\n",
       "      <th>ActiveCases</th>\n",
       "      <th>Serious,Critical</th>\n",
       "      <th>Tot Cases/1M pop</th>\n",
       "      <th>Deaths/1M pop</th>\n",
       "      <th>TotalTests</th>\n",
       "      <th>Tests/1M pop</th>\n",
       "      <th>WHO Region</th>\n",
       "      <th>iso_alpha</th>\n",
       "    </tr>\n",
       "  </thead>\n",
       "  <tbody>\n",
       "    <tr>\n",
       "      <th>0</th>\n",
       "      <td>USA</td>\n",
       "      <td>North America</td>\n",
       "      <td>3.311981e+08</td>\n",
       "      <td>5032179</td>\n",
       "      <td>NaN</td>\n",
       "      <td>162804.0</td>\n",
       "      <td>NaN</td>\n",
       "      <td>2576668.0</td>\n",
       "      <td>NaN</td>\n",
       "      <td>2292707.0</td>\n",
       "      <td>18296.0</td>\n",
       "      <td>15194.0</td>\n",
       "      <td>492.0</td>\n",
       "      <td>63139605.0</td>\n",
       "      <td>190640.0</td>\n",
       "      <td>Americas</td>\n",
       "      <td>USA</td>\n",
       "    </tr>\n",
       "    <tr>\n",
       "      <th>1</th>\n",
       "      <td>Brazil</td>\n",
       "      <td>South America</td>\n",
       "      <td>2.127107e+08</td>\n",
       "      <td>2917562</td>\n",
       "      <td>NaN</td>\n",
       "      <td>98644.0</td>\n",
       "      <td>NaN</td>\n",
       "      <td>2047660.0</td>\n",
       "      <td>NaN</td>\n",
       "      <td>771258.0</td>\n",
       "      <td>8318.0</td>\n",
       "      <td>13716.0</td>\n",
       "      <td>464.0</td>\n",
       "      <td>13206188.0</td>\n",
       "      <td>62085.0</td>\n",
       "      <td>Americas</td>\n",
       "      <td>BRA</td>\n",
       "    </tr>\n",
       "    <tr>\n",
       "      <th>2</th>\n",
       "      <td>India</td>\n",
       "      <td>Asia</td>\n",
       "      <td>1.381345e+09</td>\n",
       "      <td>2025409</td>\n",
       "      <td>NaN</td>\n",
       "      <td>41638.0</td>\n",
       "      <td>NaN</td>\n",
       "      <td>1377384.0</td>\n",
       "      <td>NaN</td>\n",
       "      <td>606387.0</td>\n",
       "      <td>8944.0</td>\n",
       "      <td>1466.0</td>\n",
       "      <td>30.0</td>\n",
       "      <td>22149351.0</td>\n",
       "      <td>16035.0</td>\n",
       "      <td>South-EastAsia</td>\n",
       "      <td>IND</td>\n",
       "    </tr>\n",
       "    <tr>\n",
       "      <th>3</th>\n",
       "      <td>Russia</td>\n",
       "      <td>Europe</td>\n",
       "      <td>1.459409e+08</td>\n",
       "      <td>871894</td>\n",
       "      <td>NaN</td>\n",
       "      <td>14606.0</td>\n",
       "      <td>NaN</td>\n",
       "      <td>676357.0</td>\n",
       "      <td>NaN</td>\n",
       "      <td>180931.0</td>\n",
       "      <td>2300.0</td>\n",
       "      <td>5974.0</td>\n",
       "      <td>100.0</td>\n",
       "      <td>29716907.0</td>\n",
       "      <td>203623.0</td>\n",
       "      <td>Europe</td>\n",
       "      <td>RUS</td>\n",
       "    </tr>\n",
       "    <tr>\n",
       "      <th>4</th>\n",
       "      <td>South Africa</td>\n",
       "      <td>Africa</td>\n",
       "      <td>5.938157e+07</td>\n",
       "      <td>538184</td>\n",
       "      <td>NaN</td>\n",
       "      <td>9604.0</td>\n",
       "      <td>NaN</td>\n",
       "      <td>387316.0</td>\n",
       "      <td>NaN</td>\n",
       "      <td>141264.0</td>\n",
       "      <td>539.0</td>\n",
       "      <td>9063.0</td>\n",
       "      <td>162.0</td>\n",
       "      <td>3149807.0</td>\n",
       "      <td>53044.0</td>\n",
       "      <td>Africa</td>\n",
       "      <td>ZAF</td>\n",
       "    </tr>\n",
       "  </tbody>\n",
       "</table>\n",
       "</div>"
      ],
      "text/plain": [
       "  Country/Region      Continent    Population  TotalCases  NewCases  \\\n",
       "0            USA  North America  3.311981e+08     5032179       NaN   \n",
       "1         Brazil  South America  2.127107e+08     2917562       NaN   \n",
       "2          India           Asia  1.381345e+09     2025409       NaN   \n",
       "3         Russia         Europe  1.459409e+08      871894       NaN   \n",
       "4   South Africa         Africa  5.938157e+07      538184       NaN   \n",
       "\n",
       "   TotalDeaths  NewDeaths  TotalRecovered  NewRecovered  ActiveCases  \\\n",
       "0     162804.0        NaN       2576668.0           NaN    2292707.0   \n",
       "1      98644.0        NaN       2047660.0           NaN     771258.0   \n",
       "2      41638.0        NaN       1377384.0           NaN     606387.0   \n",
       "3      14606.0        NaN        676357.0           NaN     180931.0   \n",
       "4       9604.0        NaN        387316.0           NaN     141264.0   \n",
       "\n",
       "   Serious,Critical  Tot Cases/1M pop  Deaths/1M pop  TotalTests  \\\n",
       "0           18296.0           15194.0          492.0  63139605.0   \n",
       "1            8318.0           13716.0          464.0  13206188.0   \n",
       "2            8944.0            1466.0           30.0  22149351.0   \n",
       "3            2300.0            5974.0          100.0  29716907.0   \n",
       "4             539.0            9063.0          162.0   3149807.0   \n",
       "\n",
       "   Tests/1M pop      WHO Region iso_alpha  \n",
       "0      190640.0        Americas       USA  \n",
       "1       62085.0        Americas       BRA  \n",
       "2       16035.0  South-EastAsia       IND  \n",
       "3      203623.0          Europe       RUS  \n",
       "4       53044.0          Africa       ZAF  "
      ]
     },
     "execution_count": 61,
     "metadata": {},
     "output_type": "execute_result"
    }
   ],
   "source": [
    "# STEP 2: IMPORT DATASETS FOR ANALYSIS\n",
    "\n",
    "\"\"\"\n",
    "The following data is contained in the files:\n",
    "1. covid.csv - contains Country/Region, Continent,  Population, TotalCases, NewCases, TotalDeaths, NewDeaths, \n",
    "                TotalRecovered, NewRecovered, ActiveCases, Serious, Critical, Tot Cases/1M pop, Deaths/1M pop,\n",
    "                TotalTests, Tests/1M pop, WHO Region, iso_alpha.\n",
    "2. covid_grouped - contains Date(from 20-01-22 to 20-07-27), Country/Region, Confirmed, Deaths, Recovered, Active, \n",
    "                New cases, New deaths, New recovered, WHO Region, iso_alpha.\n",
    "3. coviddeath - contains real-world examples of a number of Covid-19 deaths and the reasons behind the deaths.\n",
    "\"\"\"\n",
    "\n",
    "dataset1 = pd.read_csv(\"./data/covid.csv\")\n",
    "dataset1.head()"
   ]
  },
  {
   "cell_type": "code",
   "execution_count": 62,
   "id": "dba2dea3-06de-470b-8c46-c59872834894",
   "metadata": {},
   "outputs": [
    {
     "name": "stdout",
     "output_type": "stream",
     "text": [
      "(209, 17)\n"
     ]
    }
   ],
   "source": [
    "# Sample the data and return the tuple of shape (rows, column)\n",
    "print(dataset1.shape)"
   ]
  },
  {
   "cell_type": "code",
   "execution_count": 63,
   "id": "1a54b41e-991e-4116-889b-ccaf1fd7630b",
   "metadata": {},
   "outputs": [
    {
     "name": "stdout",
     "output_type": "stream",
     "text": [
      "3553\n"
     ]
    }
   ],
   "source": [
    "# Return the size of dataframe\n",
    "print(dataset1.size)"
   ]
  },
  {
   "cell_type": "code",
   "execution_count": 64,
   "id": "605c4978-cd91-4b14-83a9-9a92cb964d12",
   "metadata": {},
   "outputs": [
    {
     "name": "stdout",
     "output_type": "stream",
     "text": [
      "<class 'pandas.core.frame.DataFrame'>\n",
      "RangeIndex: 209 entries, 0 to 208\n",
      "Data columns (total 17 columns):\n",
      " #   Column            Non-Null Count  Dtype  \n",
      "---  ------            --------------  -----  \n",
      " 0   Country/Region    209 non-null    object \n",
      " 1   Continent         208 non-null    object \n",
      " 2   Population        208 non-null    float64\n",
      " 3   TotalCases        209 non-null    int64  \n",
      " 4   NewCases          4 non-null      float64\n",
      " 5   TotalDeaths       188 non-null    float64\n",
      " 6   NewDeaths         3 non-null      float64\n",
      " 7   TotalRecovered    205 non-null    float64\n",
      " 8   NewRecovered      3 non-null      float64\n",
      " 9   ActiveCases       205 non-null    float64\n",
      " 10  Serious,Critical  122 non-null    float64\n",
      " 11  Tot Cases/1M pop  208 non-null    float64\n",
      " 12  Deaths/1M pop     187 non-null    float64\n",
      " 13  TotalTests        191 non-null    float64\n",
      " 14  Tests/1M pop      191 non-null    float64\n",
      " 15  WHO Region        184 non-null    object \n",
      " 16  iso_alpha         209 non-null    object \n",
      "dtypes: float64(12), int64(1), object(4)\n",
      "memory usage: 27.9+ KB\n"
     ]
    }
   ],
   "source": [
    "# Return concise information about the dataset \n",
    "dataset1.info()"
   ]
  },
  {
   "cell_type": "code",
   "execution_count": 65,
   "id": "1c73aad7-0a4e-4b2a-a841-5d6ce0248a7a",
   "metadata": {},
   "outputs": [
    {
     "data": {
      "text/html": [
       "<div>\n",
       "<style scoped>\n",
       "    .dataframe tbody tr th:only-of-type {\n",
       "        vertical-align: middle;\n",
       "    }\n",
       "\n",
       "    .dataframe tbody tr th {\n",
       "        vertical-align: top;\n",
       "    }\n",
       "\n",
       "    .dataframe thead th {\n",
       "        text-align: right;\n",
       "    }\n",
       "</style>\n",
       "<table border=\"1\" class=\"dataframe\">\n",
       "  <thead>\n",
       "    <tr style=\"text-align: right;\">\n",
       "      <th></th>\n",
       "      <th>Date</th>\n",
       "      <th>Country/Region</th>\n",
       "      <th>Confirmed</th>\n",
       "      <th>Deaths</th>\n",
       "      <th>Recovered</th>\n",
       "      <th>Active</th>\n",
       "      <th>New cases</th>\n",
       "      <th>New deaths</th>\n",
       "      <th>New recovered</th>\n",
       "      <th>WHO Region</th>\n",
       "      <th>iso_alpha</th>\n",
       "    </tr>\n",
       "  </thead>\n",
       "  <tbody>\n",
       "    <tr>\n",
       "      <th>0</th>\n",
       "      <td>2020-01-22</td>\n",
       "      <td>Afghanistan</td>\n",
       "      <td>0</td>\n",
       "      <td>0</td>\n",
       "      <td>0</td>\n",
       "      <td>0</td>\n",
       "      <td>0</td>\n",
       "      <td>0</td>\n",
       "      <td>0</td>\n",
       "      <td>Eastern Mediterranean</td>\n",
       "      <td>AFG</td>\n",
       "    </tr>\n",
       "    <tr>\n",
       "      <th>1</th>\n",
       "      <td>2020-01-22</td>\n",
       "      <td>Albania</td>\n",
       "      <td>0</td>\n",
       "      <td>0</td>\n",
       "      <td>0</td>\n",
       "      <td>0</td>\n",
       "      <td>0</td>\n",
       "      <td>0</td>\n",
       "      <td>0</td>\n",
       "      <td>Europe</td>\n",
       "      <td>ALB</td>\n",
       "    </tr>\n",
       "    <tr>\n",
       "      <th>2</th>\n",
       "      <td>2020-01-22</td>\n",
       "      <td>Algeria</td>\n",
       "      <td>0</td>\n",
       "      <td>0</td>\n",
       "      <td>0</td>\n",
       "      <td>0</td>\n",
       "      <td>0</td>\n",
       "      <td>0</td>\n",
       "      <td>0</td>\n",
       "      <td>Africa</td>\n",
       "      <td>DZA</td>\n",
       "    </tr>\n",
       "    <tr>\n",
       "      <th>3</th>\n",
       "      <td>2020-01-22</td>\n",
       "      <td>Andorra</td>\n",
       "      <td>0</td>\n",
       "      <td>0</td>\n",
       "      <td>0</td>\n",
       "      <td>0</td>\n",
       "      <td>0</td>\n",
       "      <td>0</td>\n",
       "      <td>0</td>\n",
       "      <td>Europe</td>\n",
       "      <td>AND</td>\n",
       "    </tr>\n",
       "    <tr>\n",
       "      <th>4</th>\n",
       "      <td>2020-01-22</td>\n",
       "      <td>Angola</td>\n",
       "      <td>0</td>\n",
       "      <td>0</td>\n",
       "      <td>0</td>\n",
       "      <td>0</td>\n",
       "      <td>0</td>\n",
       "      <td>0</td>\n",
       "      <td>0</td>\n",
       "      <td>Africa</td>\n",
       "      <td>AGO</td>\n",
       "    </tr>\n",
       "  </tbody>\n",
       "</table>\n",
       "</div>"
      ],
      "text/plain": [
       "         Date Country/Region  Confirmed  Deaths  Recovered  Active  New cases  \\\n",
       "0  2020-01-22    Afghanistan          0       0          0       0          0   \n",
       "1  2020-01-22        Albania          0       0          0       0          0   \n",
       "2  2020-01-22        Algeria          0       0          0       0          0   \n",
       "3  2020-01-22        Andorra          0       0          0       0          0   \n",
       "4  2020-01-22         Angola          0       0          0       0          0   \n",
       "\n",
       "   New deaths  New recovered             WHO Region iso_alpha  \n",
       "0           0              0  Eastern Mediterranean       AFG  \n",
       "1           0              0                 Europe       ALB  \n",
       "2           0              0                 Africa       DZA  \n",
       "3           0              0                 Europe       AND  \n",
       "4           0              0                 Africa       AGO  "
      ]
     },
     "execution_count": 65,
     "metadata": {},
     "output_type": "execute_result"
    }
   ],
   "source": [
    "dataset2 = pd.read_csv(\"./data/covid_grouped.csv\")\n",
    "dataset2.head()"
   ]
  },
  {
   "cell_type": "code",
   "execution_count": 66,
   "id": "863f6c4c-5b4e-4813-b459-52e843d21aef",
   "metadata": {},
   "outputs": [
    {
     "name": "stdout",
     "output_type": "stream",
     "text": [
      "(35156, 11)\n"
     ]
    }
   ],
   "source": [
    "# Sample the data and return the tuple of shape (rows, column)ab\n",
    "print(dataset2.shape)"
   ]
  },
  {
   "cell_type": "code",
   "execution_count": 67,
   "id": "ec4d518d-bbe4-4ba3-9e37-8eac5d10cda1",
   "metadata": {},
   "outputs": [
    {
     "name": "stdout",
     "output_type": "stream",
     "text": [
      "386716\n"
     ]
    }
   ],
   "source": [
    "# Return the size of dataframe\n",
    "print(dataset2.size)"
   ]
  },
  {
   "cell_type": "code",
   "execution_count": 68,
   "id": "56749ff2-e78d-4164-a651-616860219683",
   "metadata": {},
   "outputs": [
    {
     "name": "stdout",
     "output_type": "stream",
     "text": [
      "<class 'pandas.core.frame.DataFrame'>\n",
      "RangeIndex: 35156 entries, 0 to 35155\n",
      "Data columns (total 11 columns):\n",
      " #   Column          Non-Null Count  Dtype \n",
      "---  ------          --------------  ----- \n",
      " 0   Date            35156 non-null  object\n",
      " 1   Country/Region  35156 non-null  object\n",
      " 2   Confirmed       35156 non-null  int64 \n",
      " 3   Deaths          35156 non-null  int64 \n",
      " 4   Recovered       35156 non-null  int64 \n",
      " 5   Active          35156 non-null  int64 \n",
      " 6   New cases       35156 non-null  int64 \n",
      " 7   New deaths      35156 non-null  int64 \n",
      " 8   New recovered   35156 non-null  int64 \n",
      " 9   WHO Region      35156 non-null  object\n",
      " 10  iso_alpha       35156 non-null  object\n",
      "dtypes: int64(7), object(4)\n",
      "memory usage: 3.0+ MB\n"
     ]
    }
   ],
   "source": [
    "# Return concise information about the dataset\n",
    "dataset2.info()"
   ]
  },
  {
   "cell_type": "code",
   "execution_count": 69,
   "id": "7b17125d-dc65-48f8-b0e9-2c06e6cba4ee",
   "metadata": {},
   "outputs": [
    {
     "data": {
      "text/plain": [
       "Index(['Country/Region', 'Continent', 'Population', 'TotalCases', 'NewCases',\n",
       "       'TotalDeaths', 'NewDeaths', 'TotalRecovered', 'NewRecovered',\n",
       "       'ActiveCases', 'Serious,Critical', 'Tot Cases/1M pop', 'Deaths/1M pop',\n",
       "       'TotalTests', 'Tests/1M pop', 'WHO Region', 'iso_alpha'],\n",
       "      dtype='object')"
      ]
     },
     "execution_count": 69,
     "metadata": {},
     "output_type": "execute_result"
    }
   ],
   "source": [
    "# STEP 3: CLEAN DATASETS\n",
    "dataset1.columns"
   ]
  },
  {
   "cell_type": "code",
   "execution_count": 70,
   "id": "11373839-5d7a-40be-b36e-7bd02aa7196d",
   "metadata": {},
   "outputs": [],
   "source": [
    "# Drop NewCases, NewDeaths, NewRecovered columns via the drop method \n",
    "dataset1.drop([\"NewCases\", \"NewDeaths\", \"NewRecovered\"], axis=1, inplace=True)"
   ]
  },
  {
   "cell_type": "code",
   "execution_count": 71,
   "id": "26e23f28-db85-4b0d-8684-e7b0169b0969",
   "metadata": {},
   "outputs": [
    {
     "data": {
      "text/html": [
       "<div>\n",
       "<style scoped>\n",
       "    .dataframe tbody tr th:only-of-type {\n",
       "        vertical-align: middle;\n",
       "    }\n",
       "\n",
       "    .dataframe tbody tr th {\n",
       "        vertical-align: top;\n",
       "    }\n",
       "\n",
       "    .dataframe thead th {\n",
       "        text-align: right;\n",
       "    }\n",
       "</style>\n",
       "<table border=\"1\" class=\"dataframe\">\n",
       "  <thead>\n",
       "    <tr style=\"text-align: right;\">\n",
       "      <th></th>\n",
       "      <th>Country/Region</th>\n",
       "      <th>Continent</th>\n",
       "      <th>Population</th>\n",
       "      <th>TotalCases</th>\n",
       "      <th>TotalDeaths</th>\n",
       "      <th>TotalRecovered</th>\n",
       "      <th>ActiveCases</th>\n",
       "      <th>Serious,Critical</th>\n",
       "      <th>Tot Cases/1M pop</th>\n",
       "      <th>Deaths/1M pop</th>\n",
       "      <th>TotalTests</th>\n",
       "      <th>Tests/1M pop</th>\n",
       "      <th>WHO Region</th>\n",
       "      <th>iso_alpha</th>\n",
       "    </tr>\n",
       "  </thead>\n",
       "  <tbody>\n",
       "    <tr>\n",
       "      <th>167</th>\n",
       "      <td>Isle of Man</td>\n",
       "      <td>Europe</td>\n",
       "      <td>85078.0</td>\n",
       "      <td>336</td>\n",
       "      <td>24.0</td>\n",
       "      <td>312.0</td>\n",
       "      <td>0.0</td>\n",
       "      <td>NaN</td>\n",
       "      <td>3949.0</td>\n",
       "      <td>282.0</td>\n",
       "      <td>8627.0</td>\n",
       "      <td>101401.0</td>\n",
       "      <td>NaN</td>\n",
       "      <td>IMN</td>\n",
       "    </tr>\n",
       "    <tr>\n",
       "      <th>204</th>\n",
       "      <td>Montserrat</td>\n",
       "      <td>North America</td>\n",
       "      <td>4992.0</td>\n",
       "      <td>13</td>\n",
       "      <td>1.0</td>\n",
       "      <td>10.0</td>\n",
       "      <td>2.0</td>\n",
       "      <td>NaN</td>\n",
       "      <td>2604.0</td>\n",
       "      <td>200.0</td>\n",
       "      <td>61.0</td>\n",
       "      <td>12220.0</td>\n",
       "      <td>NaN</td>\n",
       "      <td>MSR</td>\n",
       "    </tr>\n",
       "    <tr>\n",
       "      <th>43</th>\n",
       "      <td>Portugal</td>\n",
       "      <td>Europe</td>\n",
       "      <td>10193593.0</td>\n",
       "      <td>52061</td>\n",
       "      <td>1743.0</td>\n",
       "      <td>37840.0</td>\n",
       "      <td>12478.0</td>\n",
       "      <td>42.0</td>\n",
       "      <td>5107.0</td>\n",
       "      <td>171.0</td>\n",
       "      <td>1705474.0</td>\n",
       "      <td>167308.0</td>\n",
       "      <td>Europe</td>\n",
       "      <td>PRT</td>\n",
       "    </tr>\n",
       "    <tr>\n",
       "      <th>52</th>\n",
       "      <td>Afghanistan</td>\n",
       "      <td>Asia</td>\n",
       "      <td>39009447.0</td>\n",
       "      <td>36896</td>\n",
       "      <td>1298.0</td>\n",
       "      <td>25840.0</td>\n",
       "      <td>9758.0</td>\n",
       "      <td>31.0</td>\n",
       "      <td>946.0</td>\n",
       "      <td>33.0</td>\n",
       "      <td>90396.0</td>\n",
       "      <td>2317.0</td>\n",
       "      <td>EasternMediterranean</td>\n",
       "      <td>AFG</td>\n",
       "    </tr>\n",
       "    <tr>\n",
       "      <th>88</th>\n",
       "      <td>Haiti</td>\n",
       "      <td>North America</td>\n",
       "      <td>11416103.0</td>\n",
       "      <td>7544</td>\n",
       "      <td>171.0</td>\n",
       "      <td>4832.0</td>\n",
       "      <td>2541.0</td>\n",
       "      <td>NaN</td>\n",
       "      <td>661.0</td>\n",
       "      <td>15.0</td>\n",
       "      <td>18443.0</td>\n",
       "      <td>1616.0</td>\n",
       "      <td>Americas</td>\n",
       "      <td>HTI</td>\n",
       "    </tr>\n",
       "  </tbody>\n",
       "</table>\n",
       "</div>"
      ],
      "text/plain": [
       "    Country/Region      Continent  Population  TotalCases  TotalDeaths  \\\n",
       "167    Isle of Man         Europe     85078.0         336         24.0   \n",
       "204     Montserrat  North America      4992.0          13          1.0   \n",
       "43        Portugal         Europe  10193593.0       52061       1743.0   \n",
       "52     Afghanistan           Asia  39009447.0       36896       1298.0   \n",
       "88           Haiti  North America  11416103.0        7544        171.0   \n",
       "\n",
       "     TotalRecovered  ActiveCases  Serious,Critical  Tot Cases/1M pop  \\\n",
       "167           312.0          0.0               NaN            3949.0   \n",
       "204            10.0          2.0               NaN            2604.0   \n",
       "43          37840.0      12478.0              42.0            5107.0   \n",
       "52          25840.0       9758.0              31.0             946.0   \n",
       "88           4832.0       2541.0               NaN             661.0   \n",
       "\n",
       "     Deaths/1M pop  TotalTests  Tests/1M pop            WHO Region iso_alpha  \n",
       "167          282.0      8627.0      101401.0                   NaN       IMN  \n",
       "204          200.0        61.0       12220.0                   NaN       MSR  \n",
       "43           171.0   1705474.0      167308.0                Europe       PRT  \n",
       "52            33.0     90396.0        2317.0  EasternMediterranean       AFG  \n",
       "88            15.0     18443.0        1616.0              Americas       HTI  "
      ]
     },
     "execution_count": 71,
     "metadata": {},
     "output_type": "execute_result"
    }
   ],
   "source": [
    "# Sample a random set of values from the new dataset \n",
    "dataset1.sample(5)"
   ]
  },
  {
   "cell_type": "code",
   "execution_count": 72,
   "id": "de2264e7-5101-4e37-bb49-8b1f9a23bb80",
   "metadata": {},
   "outputs": [
    {
     "data": {
      "text/html": [
       "<iframe\n",
       "    scrolling=\"no\"\n",
       "    width=\"100%\"\n",
       "    height=\"550\"\n",
       "    src=\"iframe_figures/figure_72.html\"\n",
       "    frameborder=\"0\"\n",
       "    allowfullscreen\n",
       "></iframe>\n"
      ]
     },
     "metadata": {},
     "output_type": "display_data"
    }
   ],
   "source": [
    "# With the new dataset create a table using Plotly Express to view data\n",
    "from plotly.figure_factory import create_table\n",
    "colorscale = [[0, '#4d004c'], [.5, '#f2e5ff'], [1, '#ffffff']]\n",
    "table = create_table(dataset1.head(15), colorscale=colorscale)\n",
    "table.show()"
   ]
  },
  {
   "cell_type": "code",
   "execution_count": 73,
   "id": "b060c286-be63-4d46-a637-c45b937cc22a",
   "metadata": {},
   "outputs": [
    {
     "data": {
      "text/html": [
       "<iframe\n",
       "    scrolling=\"no\"\n",
       "    width=\"100%\"\n",
       "    height=\"520\"\n",
       "    src=\"iframe_figures/figure_73.html\"\n",
       "    frameborder=\"0\"\n",
       "    allowfullscreen\n",
       "></iframe>\n"
      ]
     },
     "metadata": {},
     "output_type": "display_data"
    }
   ],
   "source": [
    "# STEP 4: USE A BAR GRAPH TO COMPARE DATA BY ANALYZING TOTAL CASES, TOTAL DEATHS, TOTAL RECOVERED, AND TOTAL TESTS OF COUNTRIES\n",
    "\n",
    "\"\"\"\n",
    "We will view the data in a bar graph with Plotly Express. Visualization is done by moving the cursor within the plot. We \n",
    "view the label by navigating and hovering over an item. Using a bar graph, we can either analyze the relation between the \n",
    "columns themselves or the columns and rows. If we performed the analysis between the columns our data contains numerical\n",
    "variables. Performing the analysis between columns and rows means we are dealing with categorical variables. \n",
    "\n",
    "We limit the analysis to the top 15 countries with the most cases, color code them, and make the data viewable when the \n",
    "cursor hovers. We will study each countries' total number of cases per country/region and continent.\n",
    "\"\"\"\n",
    "\n",
    "px.bar(dataset1.head(15),\n",
    "       x = \"Country/Region\",\n",
    "       y = \"TotalCases\",\n",
    "       color = \"TotalCases\",\n",
    "       height = 500,\n",
    "       hover_data = [\"Country/Region\", \"Continent\"]  \n",
    ")"
   ]
  },
  {
   "cell_type": "code",
   "execution_count": 74,
   "id": "8b457757-83ad-4802-a622-7410d0be50a7",
   "metadata": {},
   "outputs": [
    {
     "data": {
      "text/html": [
       "<iframe\n",
       "    scrolling=\"no\"\n",
       "    width=\"100%\"\n",
       "    height=\"520\"\n",
       "    src=\"iframe_figures/figure_74.html\"\n",
       "    frameborder=\"0\"\n",
       "    allowfullscreen\n",
       "></iframe>\n"
      ]
     },
     "metadata": {},
     "output_type": "display_data"
    }
   ],
   "source": [
    "# Next we will repeat the above analysis except we will take into account the country's total\n",
    "# number of deaths \n",
    "px.bar(dataset1.head(15),\n",
    "       x = \"Country/Region\",\n",
    "       y = \"TotalCases\", \n",
    "       color = \"TotalDeaths\", \n",
    "       height = 500, \n",
    "       hover_data = [\"Country/Region\", \"Continent\"]\n",
    ")"
   ]
  },
  {
   "cell_type": "code",
   "execution_count": 75,
   "id": "ff15ddc8-2579-4453-a611-09f1f8930a19",
   "metadata": {},
   "outputs": [
    {
     "data": {
      "text/html": [
       "<iframe\n",
       "    scrolling=\"no\"\n",
       "    width=\"100%\"\n",
       "    height=\"520\"\n",
       "    src=\"iframe_figures/figure_75.html\"\n",
       "    frameborder=\"0\"\n",
       "    allowfullscreen\n",
       "></iframe>\n"
      ]
     },
     "metadata": {},
     "output_type": "display_data"
    }
   ],
   "source": [
    "# Next we will analyze the total number of recovered cases for the same dataframe.\n",
    "px.bar(dataset1.head(15),\n",
    "       x = \"Country/Region\",\n",
    "       y = \"TotalCases\", \n",
    "       color = \"TotalRecovered\", \n",
    "       height = 500, \n",
    "       hover_data = [\"Country/Region\", \"Continent\"]\n",
    ")"
   ]
  },
  {
   "cell_type": "code",
   "execution_count": 76,
   "id": "4ce471c5-a7c3-4db2-9132-1cf179906a98",
   "metadata": {},
   "outputs": [
    {
     "data": {
      "text/html": [
       "<iframe\n",
       "    scrolling=\"no\"\n",
       "    width=\"100%\"\n",
       "    height=\"520\"\n",
       "    src=\"iframe_figures/figure_76.html\"\n",
       "    frameborder=\"0\"\n",
       "    allowfullscreen\n",
       "></iframe>\n"
      ]
     },
     "metadata": {},
     "output_type": "display_data"
    }
   ],
   "source": [
    "# The next step is to analyze the total number of tests taken for the dataframe.\n",
    "px.bar(dataset1.head(15),\n",
    "       x = \"Country/Region\",\n",
    "       y = \"TotalCases\", \n",
    "       color = \"TotalTests\", \n",
    "       height = 500, \n",
    "       hover_data = [\"Country/Region\", \"Continent\"]\n",
    ")"
   ]
  },
  {
   "cell_type": "code",
   "execution_count": 77,
   "id": "f6098843-3f42-4cdb-adb2-d89ed4098080",
   "metadata": {},
   "outputs": [
    {
     "data": {
      "text/html": [
       "<iframe\n",
       "    scrolling=\"no\"\n",
       "    width=\"100%\"\n",
       "    height=\"520\"\n",
       "    src=\"iframe_figures/figure_77.html\"\n",
       "    frameborder=\"0\"\n",
       "    allowfullscreen\n",
       "></iframe>\n"
      ]
     },
     "metadata": {},
     "output_type": "display_data"
    }
   ],
   "source": [
    "\"\"\"\n",
    "For better visualization of the data we utilize a horizontal bar graph. Graphing by this \n",
    "method highlights the nuances contained in nominal data--where the order of the categories\n",
    "do not matter. Along the x-axis will be the TotalTests and the y-axis will have the country/\n",
    "region.\n",
    "\"\"\"\n",
    "px.bar(dataset1.head(15),\n",
    "       x = \"TotalTests\",\n",
    "       y = \"Country/Region\", \n",
    "       color = \"TotalTests\",\n",
    "       orientation = \"h\",\n",
    "       height = 500, \n",
    "       hover_data = [\"Country/Region\", \"Continent\"]\n",
    ")"
   ]
  },
  {
   "cell_type": "code",
   "execution_count": 78,
   "id": "1b3c18b6-6217-40a5-89e1-f390994b5bcc",
   "metadata": {},
   "outputs": [
    {
     "data": {
      "text/html": [
       "<iframe\n",
       "    scrolling=\"no\"\n",
       "    width=\"100%\"\n",
       "    height=\"520\"\n",
       "    src=\"iframe_figures/figure_78.html\"\n",
       "    frameborder=\"0\"\n",
       "    allowfullscreen\n",
       "></iframe>\n"
      ]
     },
     "metadata": {},
     "output_type": "display_data"
    }
   ],
   "source": [
    "# Perform the same horizontal analysis this time merging the data according to the continent\n",
    "px.bar(dataset1.head(15),\n",
    "       x = \"TotalTests\",\n",
    "       y = \"Continent\", \n",
    "       color = \"TotalTests\",\n",
    "       orientation = \"h\",\n",
    "       height = 500, \n",
    "       hover_data = [\"Country/Region\", \"Continent\"]\n",
    ")"
   ]
  },
  {
   "cell_type": "code",
   "execution_count": 79,
   "id": "114eeb0b-98eb-480b-b3e8-efad6da8880c",
   "metadata": {},
   "outputs": [
    {
     "data": {
      "text/html": [
       "<iframe\n",
       "    scrolling=\"no\"\n",
       "    width=\"100%\"\n",
       "    height=\"545px\"\n",
       "    src=\"iframe_figures/figure_79.html\"\n",
       "    frameborder=\"0\"\n",
       "    allowfullscreen\n",
       "></iframe>\n"
      ]
     },
     "metadata": {},
     "output_type": "display_data"
    }
   ],
   "source": [
    "# STEP 5: USE A BUBBLE CHART TO COMPARE THE DATA BY CONTINENT \n",
    "\"\"\"\n",
    "A bubble chart is a type of scatter plot, except we also take into account the size of the \n",
    "indivdual bubbles. Primarly it is used to display relationships between two or more variables.\n",
    "The size of the bubble determines the relationship between those variables simultaneously. We \n",
    "will first analyze the total number of cases by the continent. Adding color to the graph adds\n",
    "another dimension to the comparision.\n",
    "\"\"\"\n",
    "px.scatter(dataset1,\n",
    "       x = \"Continent\",\n",
    "       y = \"TotalCases\", \n",
    "       color = \"TotalTests\",\n",
    "       size = \"TotalCases\",\n",
    "       size_max = 80,\n",
    "       hover_data = [\"Country/Region\", \"Continent\"]\n",
    ")"
   ]
  },
  {
   "cell_type": "code",
   "execution_count": 80,
   "id": "972b892f-f1b2-40aa-ae79-83f591631ceb",
   "metadata": {},
   "outputs": [
    {
     "data": {
      "text/html": [
       "<iframe\n",
       "    scrolling=\"no\"\n",
       "    width=\"100%\"\n",
       "    height=\"545px\"\n",
       "    src=\"iframe_figures/figure_80.html\"\n",
       "    frameborder=\"0\"\n",
       "    allowfullscreen\n",
       "></iframe>\n"
      ]
     },
     "metadata": {},
     "output_type": "display_data"
    }
   ],
   "source": [
    "\"\"\"\n",
    "To get a better visualization of the data the y axis is scaled logarithmacally. This method\n",
    "is used when: some bins have high frequency while others do not, or when emphasizing relative\n",
    "differences rather than absolute differences.\n",
    "\"\"\"\n",
    "px.scatter(dataset1.head(60),\n",
    "       x = \"Continent\",\n",
    "       y = \"TotalCases\", \n",
    "       color = \"TotalCases\",\n",
    "       size = \"TotalCases\",\n",
    "       size_max = 80,\n",
    "       hover_data = [\"Country/Region\", \"Continent\"],\n",
    "       log_y = True\n",
    ")"
   ]
  },
  {
   "cell_type": "code",
   "execution_count": 84,
   "id": "3b181b37-0706-4323-873c-18a69f4128e1",
   "metadata": {},
   "outputs": [
    {
     "name": "stdout",
     "output_type": "stream",
     "text": [
      "float64\n",
      "0     63139605.0\n",
      "1     13206188.0\n",
      "2     22149351.0\n",
      "3     29716907.0\n",
      "4      3149807.0\n",
      "5      1056915.0\n",
      "6      2493429.0\n",
      "7      1760615.0\n",
      "8      1801835.0\n",
      "9      7064329.0\n",
      "10     2612763.0\n",
      "11    17515234.0\n",
      "12     3635705.0\n",
      "13     2058872.0\n",
      "14     1225124.0\n",
      "15     7099713.0\n",
      "16     5081802.0\n",
      "17      794544.0\n",
      "18     8586648.0\n",
      "19     3992206.0\n",
      "20     1092741.0\n",
      "21     1669996.0\n",
      "22     1633156.0\n",
      "23     4319172.0\n",
      "24      511000.0\n",
      "25     2163713.0\n",
      "26      135000.0\n",
      "27      258582.0\n",
      "28      183583.0\n",
      "29      863315.0\n",
      "30      309212.0\n",
      "31     1872453.0\n",
      "32     1116641.0\n",
      "33      281926.0\n",
      "34      240995.0\n",
      "35     1767120.0\n",
      "36      522200.0\n",
      "37     1344303.0\n",
      "38     5262658.0\n",
      "39     1319369.0\n",
      "40     1079860.0\n",
      "41     1474372.0\n",
      "42      172712.0\n",
      "43     1705474.0\n",
      "44     2374686.0\n",
      "45      306894.0\n",
      "46      109292.0\n",
      "47      876700.0\n",
      "48      938739.0\n",
      "49      171600.0\n",
      "50      405817.0\n",
      "51      267718.0\n",
      "52       90396.0\n",
      "53      822764.0\n",
      "54           NaN\n",
      "55      766179.0\n",
      "56     1383816.0\n",
      "57     1377915.0\n",
      "58      723137.0\n",
      "59      128076.0\n",
      "Name: TotalTests, dtype: float64\n",
      "18\n"
     ]
    },
    {
     "data": {
      "text/html": [
       "<iframe\n",
       "    scrolling=\"no\"\n",
       "    width=\"100%\"\n",
       "    height=\"545px\"\n",
       "    src=\"iframe_figures/figure_84.html\"\n",
       "    frameborder=\"0\"\n",
       "    allowfullscreen\n",
       "></iframe>\n"
      ]
     },
     "metadata": {},
     "output_type": "display_data"
    }
   ],
   "source": [
    "# Repeat the same analysis except examine TotalTests along the y-axis. Perform type conversion\n",
    "# if encounter data that is not numeric.\n",
    "print(dataset1[\"TotalTests\"].dtype)\n",
    "print(dataset1[\"TotalTests\"].head(60))\n",
    "print(dataset1[\"TotalTests\"].isnull().sum())\n",
    "\n",
    "dataset1[\"TotalTests\"] = pd.to_numeric(dataset1[\"TotalTests\"], errors=\"coerce\")\n",
    "dataset1[\"TotalTests\"] = dataset1[\"TotalTests\"].fillna(0)\n",
    "\n",
    "px.scatter(dataset1.head(60),\n",
    "       x = \"Continent\",\n",
    "       y = \"TotalTests\", \n",
    "       color = \"TotalTests\",\n",
    "       size = \"TotalTests\",\n",
    "       size_max = 80,\n",
    "       hover_data = [\"Country/Region\", \"Continent\"],\n",
    ")"
   ]
  },
  {
   "cell_type": "code",
   "execution_count": 86,
   "id": "450170e9-1560-4ae2-a341-964017abf89c",
   "metadata": {},
   "outputs": [
    {
     "data": {
      "text/html": [
       "<iframe\n",
       "    scrolling=\"no\"\n",
       "    width=\"100%\"\n",
       "    height=\"545px\"\n",
       "    src=\"iframe_figures/figure_86.html\"\n",
       "    frameborder=\"0\"\n",
       "    allowfullscreen\n",
       "></iframe>\n"
      ]
     },
     "metadata": {},
     "output_type": "display_data"
    }
   ],
   "source": [
    "# This time apply a log view along the y-axis for TotalTests.\n",
    "px.scatter(dataset1.head(60),\n",
    "       x = \"Continent\",\n",
    "       y = \"TotalTests\", \n",
    "       color = \"TotalTests\",\n",
    "       size = \"TotalTests\",\n",
    "       size_max = 80,\n",
    "       hover_data = [\"Country/Region\", \"Continent\"],\n",
    "       log_y = True\n",
    ")"
   ]
  },
  {
   "cell_type": "code",
   "execution_count": 87,
   "id": "8c6e5c76-a214-489d-9ed8-f90333e8c9ff",
   "metadata": {},
   "outputs": [
    {
     "data": {
      "text/html": [
       "<iframe\n",
       "    scrolling=\"no\"\n",
       "    width=\"100%\"\n",
       "    height=\"545px\"\n",
       "    src=\"iframe_figures/figure_87.html\"\n",
       "    frameborder=\"0\"\n",
       "    allowfullscreen\n",
       "></iframe>\n"
      ]
     },
     "metadata": {},
     "output_type": "display_data"
    }
   ],
   "source": [
    "# STEP 6: DATA VISUALIZATION WITH BUBBLE CHARTS CONTINUED (TAKING INTO ACCOUNT COUNTRIES)\n",
    "\n",
    "\"\"\"\n",
    "Still utilizing Bubble Chart, we will analyze the data by country for the number of deaths-\n",
    "instead of by Continent. \n",
    "\"\"\"\n",
    "px.scatter(dataset1.head(100),\n",
    "       x = \"Country/Region\",\n",
    "       y = \"TotalCases\", \n",
    "       color = \"TotalCases\",\n",
    "       size = \"TotalCases\",\n",
    "       size_max = 80,\n",
    "       hover_data = [\"Country/Region\", \"Continent\"],\n",
    ")"
   ]
  },
  {
   "cell_type": "code",
   "execution_count": 88,
   "id": "f226172f-ba87-4e61-b566-9dd939bc4839",
   "metadata": {},
   "outputs": [
    {
     "data": {
      "text/html": [
       "<iframe\n",
       "    scrolling=\"no\"\n",
       "    width=\"100%\"\n",
       "    height=\"545px\"\n",
       "    src=\"iframe_figures/figure_88.html\"\n",
       "    frameborder=\"0\"\n",
       "    allowfullscreen\n",
       "></iframe>\n"
      ]
     },
     "metadata": {},
     "output_type": "display_data"
    }
   ],
   "source": [
    "# Change the view to log_y, and only view the top 30 countries with respect to the number of \n",
    "# Covid cases (color coded).\n",
    "px.scatter(dataset1.head(30),\n",
    "       x = \"Country/Region\",\n",
    "       y = \"TotalCases\", \n",
    "       color = \"Country/Region\",\n",
    "       size = \"TotalCases\",\n",
    "       size_max = 80,\n",
    "       hover_data = [\"Country/Region\", \"Continent\"],\n",
    "       log_y = True\n",
    ")"
   ]
  },
  {
   "cell_type": "code",
   "execution_count": 89,
   "id": "e5e3eeab-c6f3-43bd-aaa4-8d99e7025fd0",
   "metadata": {},
   "outputs": [
    {
     "data": {
      "text/html": [
       "<iframe\n",
       "    scrolling=\"no\"\n",
       "    width=\"100%\"\n",
       "    height=\"545px\"\n",
       "    src=\"iframe_figures/figure_89.html\"\n",
       "    frameborder=\"0\"\n",
       "    allowfullscreen\n",
       "></iframe>\n"
      ]
     },
     "metadata": {},
     "output_type": "display_data"
    }
   ],
   "source": [
    "# Tease out factors for the top 10 countries for: total amount of deaths, total amount of \n",
    "# tests, and then compare the country/region to the number of tests.\n",
    "px.scatter(dataset1.head(10),\n",
    "       x = \"Country/Region\",\n",
    "       y = \"TotalDeaths\", \n",
    "       color = \"Country/Region\",\n",
    "       size = \"TotalDeaths\",\n",
    "       size_max = 80,\n",
    "       hover_data = [\"Country/Region\", \"Continent\"]\n",
    ")"
   ]
  },
  {
   "cell_type": "code",
   "execution_count": 90,
   "id": "f1d4eee9-0573-4ace-b0b9-ba1c2c19ebab",
   "metadata": {},
   "outputs": [
    {
     "data": {
      "text/html": [
       "<iframe\n",
       "    scrolling=\"no\"\n",
       "    width=\"100%\"\n",
       "    height=\"545px\"\n",
       "    src=\"iframe_figures/figure_90.html\"\n",
       "    frameborder=\"0\"\n",
       "    allowfullscreen\n",
       "></iframe>\n"
      ]
     },
     "metadata": {},
     "output_type": "display_data"
    }
   ],
   "source": [
    "# Change the view to the top 30 countries that tested their citizens.\n",
    "px.scatter(dataset1.head(10),\n",
    "       x = \"Country/Region\",\n",
    "       y = \"Tests/1M pop\", \n",
    "       color = \"Country/Region\",\n",
    "       size = \"Tests/1M pop\",\n",
    "       size_max = 80,\n",
    "       hover_data = [\"Country/Region\", \"Continent\"]\n",
    ")"
   ]
  },
  {
   "cell_type": "code",
   "execution_count": 91,
   "id": "d0aa1893-006a-4d5e-bed0-b092b384d1e2",
   "metadata": {},
   "outputs": [
    {
     "data": {
      "text/html": [
       "<iframe\n",
       "    scrolling=\"no\"\n",
       "    width=\"100%\"\n",
       "    height=\"545px\"\n",
       "    src=\"iframe_figures/figure_91.html\"\n",
       "    frameborder=\"0\"\n",
       "    allowfullscreen\n",
       "></iframe>\n"
      ]
     },
     "metadata": {},
     "output_type": "display_data"
    }
   ],
   "source": [
    "# Next, compare the top 30 countries/regions of how frequently their citizens tested.\n",
    "px.scatter(dataset1.head(30),\n",
    "       x = \"Country/Region\",\n",
    "       y = \"Tests/1M pop\", \n",
    "       color = \"Tests/1M pop\",\n",
    "       size = \"Tests/1M pop\",\n",
    "       size_max = 80,\n",
    "       hover_data = [\"Country/Region\", \"Continent\"]\n",
    ")"
   ]
  },
  {
   "cell_type": "code",
   "execution_count": 93,
   "id": "4a08be5c-d304-418d-a622-b8ffe1194e0c",
   "metadata": {},
   "outputs": [
    {
     "data": {
      "text/html": [
       "<iframe\n",
       "    scrolling=\"no\"\n",
       "    width=\"100%\"\n",
       "    height=\"545px\"\n",
       "    src=\"iframe_figures/figure_93.html\"\n",
       "    frameborder=\"0\"\n",
       "    allowfullscreen\n",
       "></iframe>\n"
      ]
     },
     "metadata": {},
     "output_type": "display_data"
    }
   ],
   "source": [
    "\"\"\"\n",
    "Visually compare the number of cases to the number of deaths, and increase the color intensity\n",
    "as the relationship increases. Clearly a linear relationship exists between the two factors.\n",
    "More cases, more deaths.\n",
    "\"\"\"\n",
    "px.scatter(dataset1.head(30),\n",
    "       x = \"TotalCases\",\n",
    "       y = \"TotalDeaths\", \n",
    "       color = \"TotalDeaths\",\n",
    "       size = \"TotalDeaths\",\n",
    "       size_max = 80,\n",
    "       hover_data = [\"Country/Region\", \"Continent\"]\n",
    ")"
   ]
  },
  {
   "cell_type": "code",
   "execution_count": 94,
   "id": "252fe3c6-1994-48d4-8d70-7026db71fa9b",
   "metadata": {},
   "outputs": [
    {
     "data": {
      "text/html": [
       "<iframe\n",
       "    scrolling=\"no\"\n",
       "    width=\"100%\"\n",
       "    height=\"545px\"\n",
       "    src=\"iframe_figures/figure_94.html\"\n",
       "    frameborder=\"0\"\n",
       "    allowfullscreen\n",
       "></iframe>\n"
      ]
     },
     "metadata": {},
     "output_type": "display_data"
    }
   ],
   "source": [
    "# Change both the x and y axis to log view for analyzing TotalCases per TotalDeaths.\n",
    "px.scatter(dataset1.head(30),\n",
    "       x = \"TotalCases\",\n",
    "       y = \"TotalDeaths\", \n",
    "       color = \"TotalDeaths\",\n",
    "       size = \"TotalDeaths\",\n",
    "       size_max = 80,\n",
    "       hover_data = [\"Country/Region\", \"Continent\"],\n",
    "       log_x = True,\n",
    "       log_y = True\n",
    ")"
   ]
  },
  {
   "cell_type": "code",
   "execution_count": 96,
   "id": "603176c9-6499-47f7-9cbb-b76e9bb21bbb",
   "metadata": {},
   "outputs": [
    {
     "data": {
      "text/html": [
       "<iframe\n",
       "    scrolling=\"no\"\n",
       "    width=\"100%\"\n",
       "    height=\"545px\"\n",
       "    src=\"iframe_figures/figure_96.html\"\n",
       "    frameborder=\"0\"\n",
       "    allowfullscreen\n",
       "></iframe>\n"
      ]
     },
     "metadata": {},
     "output_type": "display_data"
    }
   ],
   "source": [
    "# Finally tease out how many tests had confirmed covid for each top 30 country.\n",
    "px.scatter(dataset1.head(30),\n",
    "       x = \"TotalTests\",\n",
    "       y = \"TotalCases\", \n",
    "       color = \"TotalTests\",\n",
    "       size = \"TotalTests\",\n",
    "       size_max = 80,\n",
    "       hover_data = [\"Country/Region\", \"Continent\"],\n",
    "       log_x = True,\n",
    "       log_y = True\n",
    ")"
   ]
  },
  {
   "cell_type": "code",
   "execution_count": null,
   "id": "53c6db50-60ca-4b3c-9cc9-13d0388f18e4",
   "metadata": {},
   "outputs": [],
   "source": []
  }
 ],
 "metadata": {
  "kernelspec": {
   "display_name": "Python 3 (ipykernel)",
   "language": "python",
   "name": "python3"
  },
  "language_info": {
   "codemirror_mode": {
    "name": "ipython",
    "version": 3
   },
   "file_extension": ".py",
   "mimetype": "text/x-python",
   "name": "python",
   "nbconvert_exporter": "python",
   "pygments_lexer": "ipython3",
   "version": "3.13.5"
  },
  "widgets": {
   "application/vnd.jupyter.widget-state+json": {
    "state": {},
    "version_major": 2,
    "version_minor": 0
   }
  }
 },
 "nbformat": 4,
 "nbformat_minor": 5
}
