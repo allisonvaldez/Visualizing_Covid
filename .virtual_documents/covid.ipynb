"""
This project explores Covid-19 data from ___ and will visualize it using Ployly Express in Python. It will provide 
more than a dozen of bar charts, line graphs, bubble charts, and scatter plots. Exploration of the data will help 
people to understand likely complex scenarios unfolding to make predictions for the future. It will examine the 
impacts of conducting preventative measures and other hygenic practices. It will provide some arguements on which
health resources will best manage the outbreak. In closing, this project will summerize modeling, simulation, and 
analysis.

Tools and technology used in the project: 
    - Google Colab(Runtime type - GPU)

Requirements to Build the Project: 
    - Basic knowledge of Python
    - Basic understanding of graphs and charts
    - Data visualization
    - Pandas
    - Numpy
    - Matplotlib
    - Plotly Express
    - Choropleth
    - Wordcloud
"""

# STEP 1: IMPORT DEPENDENCIES AND LIBRARIES
# Import libraries for data analysis and manipulation
import plotly.graph_objs as go
import plotly.io as pio
import plotly.express as px
import pandas as pd

# Import libraries for data visualization
import matplotlib
import matplotlib.pyplot as plt

# Importing Plotly's offline verision 
import plotly.offline as py
py.init_notebook_mode(connected=True)


# Initialize Plotly
pio.renderers.default = 'iframe'


# STEP 2: IMPORT DATASETS FOR ANALYSIS

"""
The following data is contained in the files:
1. covid.csv - contains Country/Region, Continent,  Population, TotalCases, NewCases, TotalDeaths, NewDeaths, 
                TotalRecovered, NewRecovered, ActiveCases, Serious, Critical, Tot Cases/1M pop, Deaths/1M pop,
                TotalTests, Tests/1M pop, WHO Region, iso_alpha.
2. covid_grouped - contains Date(from 20-01-22 to 20-07-27), Country/Region, Confirmed, Deaths, Recovered, Active, 
                New cases, New deaths, New recovered, WHO Region, iso_alpha.
3. coviddeath - contains real-world examples of a number of Covid-19 deaths and the reasons behind the deaths.
"""

dataset1 = pd.read_csv("./data/covid.csv")
dataset1.head()


# Sample the data and return the tuple of shape (rows, column)
print(dataset1.shape)


# Return the size of dataframe
print(dataset1.size)


# Return concise information about the dataset 
dataset1.info()


dataset2 = pd.read_csv("./data/covid_grouped.csv")
dataset2.head()


# Sample the data and return the tuple of shape (rows, column)ab
print(dataset2.shape)


# Return the size of dataframe
print(dataset2.size)


# Return concise information about the dataset
dataset2.info()


# STEP 3: CLEAN DATASETS
dataset1.columns


# Drop NewCases, NewDeaths, NewRecovered columns via the drop method 
dataset1.drop(["NewCases", "NewDeaths", "NewRecovered"], axis=1, inplace=True)


# Sample a random set of values from the new dataset 
dataset1.sample(5)


# With the new dataset create a table using Plotly Express to view data
from plotly.figure_factory import create_table
colorscale = [[0, '#4d004c'], [.5, '#f2e5ff'], [1, '#ffffff']]
table = create_table(dataset1.head(15), colorscale=colorscale)
table.show()


# STEP 4: USE A BAR GRAPH TO COMPARE DATA BY ANALYZING TOTAL CASES, TOTAL DEATHS, TOTAL RECOVERED, AND TOTAL TESTS OF COUNTRIES

"""
We will view the data in a bar graph with Plotly Express. Visualization is done by moving the cursor within the plot. We 
view the label by navigating and hovering over an item. Using a bar graph, we can either analyze the relation between the 
columns themselves or the columns and rows. If we performed the analysis between the columns our data contains numerical
variables. Performing the analysis between columns and rows means we are dealing with categorical variables. 

We limit the analysis to the top 15 countries with the most cases, color code them, and make the data viewable when the 
cursor hovers. We will study each countries' total number of cases per country/region and continent.
"""

px.bar(dataset1.head(15),
       x = "Country/Region",
       y = "TotalCases",
       color = "TotalCases",
       height = 500,
       hover_data = ["Country/Region", "Continent"]  
)


# Next we will repeat the above analysis except we will take into account the country's total
# number of deaths 
px.bar(dataset1.head(15),
       x = "Country/Region",
       y = "TotalCases", 
       color = "TotalDeaths", 
       height = 500, 
       hover_data = ["Country/Region", "Continent"]
)


# Next we will analyze the total number of recovered cases for the same dataframe.
px.bar(dataset1.head(15),
       x = "Country/Region",
       y = "TotalCases", 
       color = "TotalRecovered", 
       height = 500, 
       hover_data = ["Country/Region", "Continent"]
)


# The next step is to analyze the total number of tests taken for the dataframe.
px.bar(dataset1.head(15),
       x = "Country/Region",
       y = "TotalCases", 
       color = "TotalTests", 
       height = 500, 
       hover_data = ["Country/Region", "Continent"]
)


"""
For better visualization of the data we utilize a horizontal bar graph. Graphing by this 
method highlights the nuances contained in nominal data--where the order of the categories
do not matter. Along the x-axis will be the TotalTests and the y-axis will have the country/
region.
"""
px.bar(dataset1.head(15),
       x = "TotalTests",
       y = "Country/Region", 
       color = "TotalTests",
       orientation = "h",
       height = 500, 
       hover_data = ["Country/Region", "Continent"]
)


# Perform the same horizontal analysis this time merging the data according to the continent
px.bar(dataset1.head(15),
       x = "TotalTests",
       y = "Continent", 
       color = "TotalTests",
       orientation = "h",
       height = 500, 
       hover_data = ["Country/Region", "Continent"]
)


# STEP 5: USE A BUBBLE CHART TO COMPARE THE DATA BY CONTINENT 
"""
A bubble chart is a type of scatter plot, except we also take into account the size of the 
indivdual bubbles. Primarly it is used to display relationships between two or more variables.
The size of the bubble determines the relationship between those variables simultaneously. We 
will first analyze the total number of cases by the continent. Adding color to the graph adds
another dimension to the comparision.
"""
px.scatter(dataset1,
       x = "Continent",
       y = "TotalCases", 
       color = "TotalTests",
       size = "TotalCases",
       size_max = 80,
       hover_data = ["Country/Region", "Continent"]
)


"""
To get a better visualization of the data the y axis is scaled logarithmacally. This method
is used when: some bins have high frequency while others do not, or when emphasizing relative
differences rather than absolute differences.
"""
px.scatter(dataset1.head(60),
       x = "Continent",
       y = "TotalCases", 
       color = "TotalCases",
       size = "TotalCases",
       size_max = 80,
       hover_data = ["Country/Region", "Continent"],
       log_y = True
)


# Repeat the same analysis except examine TotalTests along the y-axis. Perform type conversion
# if encounter data that is not numeric.
print(dataset1["TotalTests"].dtype)
print(dataset1["TotalTests"].head(60))
print(dataset1["TotalTests"].isnull().sum())

dataset1["TotalTests"] = pd.to_numeric(dataset1["TotalTests"], errors="coerce")
dataset1["TotalTests"] = dataset1["TotalTests"].fillna(0)

px.scatter(dataset1.head(60),
       x = "Continent",
       y = "TotalTests", 
       color = "TotalTests",
       size = "TotalTests",
       size_max = 80,
       hover_data = ["Country/Region", "Continent"],
)


# This time apply a log view along the y-axis for TotalTests.
px.scatter(dataset1.head(60),
       x = "Continent",
       y = "TotalTests", 
       color = "TotalTests",
       size = "TotalTests",
       size_max = 80,
       hover_data = ["Country/Region", "Continent"],
       log_y = True
)


# STEP 6: DATA VISUALIZATION WITH BUBBLE CHARTS CONTINUED (TAKING INTO ACCOUNT COUNTRIES)

"""
Still utilizing Bubble Chart, we will analyze the data by country for the number of deaths-
instead of by Continent. 
"""
px.scatter(dataset1.head(100),
       x = "Country/Region",
       y = "TotalCases", 
       color = "TotalCases",
       size = "TotalCases",
       size_max = 80,
       hover_data = ["Country/Region", "Continent"],
)


# Change the view to log_y, and only view the top 30 countries with respect to the number of 
# Covid cases (color coded).
px.scatter(dataset1.head(30),
       x = "Country/Region",
       y = "TotalCases", 
       color = "Country/Region",
       size = "TotalCases",
       size_max = 80,
       hover_data = ["Country/Region", "Continent"],
       log_y = True
)


# Tease out factors for the top 10 countries for: total amount of deaths, total amount of 
# tests, and then compare the country/region to the number of tests.
px.scatter(dataset1.head(10),
       x = "Country/Region",
       y = "TotalDeaths", 
       color = "Country/Region",
       size = "TotalDeaths",
       size_max = 80,
       hover_data = ["Country/Region", "Continent"]
)


# Change the view to the top 30 countries that tested their citizens.
px.scatter(dataset1.head(10),
       x = "Country/Region",
       y = "Tests/1M pop", 
       color = "Country/Region",
       size = "Tests/1M pop",
       size_max = 80,
       hover_data = ["Country/Region", "Continent"]
)


# Next, compare the top 30 countries/regions of how frequently their citizens tested.
px.scatter(dataset1.head(30),
       x = "Country/Region",
       y = "Tests/1M pop", 
       color = "Tests/1M pop",
       size = "Tests/1M pop",
       size_max = 80,
       hover_data = ["Country/Region", "Continent"]
)


"""
Visually compare the number of cases to the number of deaths, and increase the color intensity
as the relationship increases. Clearly a linear relationship exists between the two factors.
More cases, more deaths.
"""
px.scatter(dataset1.head(30),
       x = "TotalCases",
       y = "TotalDeaths", 
       color = "TotalDeaths",
       size = "TotalDeaths",
       size_max = 80,
       hover_data = ["Country/Region", "Continent"]
)


# Change both the x and y axis to log view for analyzing TotalCases per TotalDeaths.
px.scatter(dataset1.head(30),
       x = "TotalCases",
       y = "TotalDeaths", 
       color = "TotalDeaths",
       size = "TotalDeaths",
       size_max = 80,
       hover_data = ["Country/Region", "Continent"],
       log_x = True,
       log_y = True
)


# Finally tease out how many tests had confirmed covid for each top 30 country.
px.scatter(dataset1.head(30),
       x = "TotalTests",
       y = "TotalCases", 
       color = "TotalTests",
       size = "TotalTests",
       size_max = 80,
       hover_data = ["Country/Region", "Continent"],
       log_x = True,
       log_y = True
)



