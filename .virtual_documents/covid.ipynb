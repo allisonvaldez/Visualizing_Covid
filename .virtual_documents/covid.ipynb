"""
This project explores Covid-19 data from ___ and will visualize it using Ployly Express in Python. It will provide 
more than a dozen of bar charts, line graphs, bubble charts, and scatter plots. Exploration of the data will help 
people to understand likely complex scenarios unfolding to make predictions for the future. It will examine the 
impacts of conducting preventative measures and other hygenic practices. It will provide some arguements on which
health resources will best manage the outbreak. In closing, this project will summerize modeling, simulation, and 
analysis.

Tools and technology used in the project: 
    - Google Colab(Runtime type - GPU)

Requirements to Build the Project: 
    - Basic knowledge of Python
    - Basic understanding of graphs and charts
    - Data visualization
    - Pandas
    - Numpy
    - Matplotlib
    - Plotly Express
    - Choropleth
    - Wordcloud
"""

# STEP 1: IMPORT DEPENDENCIES AND LIBRARIES
# Import libraries for data analysis and manipulation
import plotly.graph_objs as go
import plotly.io as pio
import plotly.express as px
import pandas as pd

# Import libraries for data visualization
import matplotlib
import matplotlib.pyplot as plt

# Importing Plotly's offline verision 
import plotly.offline as py
py.init_notebook_mode(connected=True)


# Initialize Plotly
pio.renderers.default = 'iframe'


# STEP 2: IMPORT DATASETS FOR ANALYSIS

"""
The following data is contained in the files:
1. covid.csv - contains Country/Region, Continent,  Population, TotalCases, NewCases, TotalDeaths, NewDeaths, 
                TotalRecovered, NewRecovered, ActiveCases, Serious, Critical, Tot Cases/1M pop, Deaths/1M pop,
                TotalTests, Tests/1M pop, WHO Region, iso_alpha.
2. covid_grouped - contains Date(from 20-01-22 to 20-07-27), Country/Region, Confirmed, Deaths, Recovered, Active, 
                New cases, New deaths, New recovered, WHO Region, iso_alpha.
3. coviddeath - contains real-world examples of a number of Covid-19 deaths and the reasons behind the deaths.
"""

dataset1 = pd.read_csv("./data/covid.csv")
dataset1.head()


# Sample the data and return the tuple of shape (rows, column)
print(dataset1.shape)


# Return the size of dataframe
print(dataset1.size)


# Return concise information about the dataset 
dataset1.info()


dataset2 = pd.read_csv("./data/covid_grouped.csv")
dataset2.head()


# Sample the data and return the tuple of shape (rows, column)ab
print(dataset2.shape)


# Return the size of dataframe
print(dataset2.size)


# Return concise information about the dataset
dataset2.info()


# STEP 3: CLEAN DATASETS
dataset1.columns


# Drop NewCases, NewDeaths, NewRecovered columns via the drop method 
dataset1.drop(["NewCases", "NewDeaths", "NewRecovered"], axis=1, inplace=True)


# Sample a random set of values from the new dataset 
dataset1.sample(5)


# With the new dataset create a table using Plotly Express to view data
from plotly.figure_factory import create_table
colorscale = [[0, '#4d004c'], [.5, '#f2e5ff'], [1, '#ffffff']]
table = create_table(dataset1.head(15), colorscale=colorscale)
table.show()


# STEP 4: USE A BAR GRAPH TO COMPARE DATA BY ANALYZING TOTAL CASES, TOTAL DEATHS, TOTAL RECOVERED, AND TOTAL TESTS OF COUNTRIES

"""
We will visualize the bar graph via Plotly Express. Visualization is done by moving the cursor into any plot. We view the
label by navigating with the cursor. We can view and analyze the data using the relation between the columns. We will limit
the view to the top 15 countries, color code them, and make the data viewable when the cursor hovers.
"""

px.bar(dataset1.head(15),
       x = "Country/Region",
       y = "TotalCases",
       color = "TotalCases",
       height = 500,
       hover_data = ["Country/Region", "Continent"]  
)



